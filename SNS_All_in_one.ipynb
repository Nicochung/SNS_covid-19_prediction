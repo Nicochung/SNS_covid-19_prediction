{
  "nbformat": 4,
  "nbformat_minor": 0,
  "metadata": {
    "colab": {
      "name": "SNS_All in one",
      "provenance": [],
      "collapsed_sections": [],
      "toc_visible": true
    },
    "kernelspec": {
      "name": "python3",
      "display_name": "Python 3"
    }
  },
  "cells": [
    {
      "cell_type": "markdown",
      "metadata": {
        "id": "dr427Y2HjKc4"
      },
      "source": [
        "# Data Source / Data Preprocessing\n",
        "The data used in this project are downloaded from the website \"Our World in Data\" (https://ourworldindata.org/coronavirus-testing). \n",
        "\n",
        "The following python code is used to download the csv file from the website."
      ]
    },
    {
      "cell_type": "code",
      "metadata": {
        "id": "Sq3ATrMwmsmV"
      },
      "source": [
        "import requests\n",
        "import pandas as pd\n",
        "from zipfile import ZipFile"
      ],
      "execution_count": null,
      "outputs": []
    },
    {
      "cell_type": "code",
      "metadata": {
        "id": "72C4diVInCRt"
      },
      "source": [
        "# # Download owid-covid-data.csv\n",
        "csv_url = 'https://covid.ourworldindata.org/data/owid-covid-data.csv'\n",
        "req = requests.get(csv_url)\n",
        "url_content = req.content\n",
        "csv_file = open('owid-covid-data.csv', 'wb')\n",
        "csv_file.write(url_content)\n",
        "csv_file.close()"
      ],
      "execution_count": null,
      "outputs": []
    },
    {
      "cell_type": "markdown",
      "metadata": {
        "id": "9sVq8vYXjzJF"
      },
      "source": [
        "Let's have a look at the data we just download. Here are the first few rows:"
      ]
    },
    {
      "cell_type": "code",
      "metadata": {
        "id": "FHX5yVbInd4C",
        "colab": {
          "base_uri": "https://localhost:8080/",
          "height": 226
        },
        "outputId": "3c8ea740-fc3e-439a-b2a4-ea2c5119a958"
      },
      "source": [
        "# Load Csv file in to pandas DataFrame\n",
        "df = pd.read_csv(\"owid-covid-data.csv\", parse_dates=[\"date\"])\n",
        "df.head()"
      ],
      "execution_count": null,
      "outputs": [
        {
          "output_type": "execute_result",
          "data": {
            "text/html": [
              "<div>\n",
              "<style scoped>\n",
              "    .dataframe tbody tr th:only-of-type {\n",
              "        vertical-align: middle;\n",
              "    }\n",
              "\n",
              "    .dataframe tbody tr th {\n",
              "        vertical-align: top;\n",
              "    }\n",
              "\n",
              "    .dataframe thead th {\n",
              "        text-align: right;\n",
              "    }\n",
              "</style>\n",
              "<table border=\"1\" class=\"dataframe\">\n",
              "  <thead>\n",
              "    <tr style=\"text-align: right;\">\n",
              "      <th></th>\n",
              "      <th>iso_code</th>\n",
              "      <th>continent</th>\n",
              "      <th>location</th>\n",
              "      <th>date</th>\n",
              "      <th>total_cases</th>\n",
              "      <th>new_cases</th>\n",
              "      <th>new_cases_smoothed</th>\n",
              "      <th>total_deaths</th>\n",
              "      <th>new_deaths</th>\n",
              "      <th>new_deaths_smoothed</th>\n",
              "      <th>total_cases_per_million</th>\n",
              "      <th>new_cases_per_million</th>\n",
              "      <th>new_cases_smoothed_per_million</th>\n",
              "      <th>total_deaths_per_million</th>\n",
              "      <th>new_deaths_per_million</th>\n",
              "      <th>new_deaths_smoothed_per_million</th>\n",
              "      <th>reproduction_rate</th>\n",
              "      <th>icu_patients</th>\n",
              "      <th>icu_patients_per_million</th>\n",
              "      <th>hosp_patients</th>\n",
              "      <th>hosp_patients_per_million</th>\n",
              "      <th>weekly_icu_admissions</th>\n",
              "      <th>weekly_icu_admissions_per_million</th>\n",
              "      <th>weekly_hosp_admissions</th>\n",
              "      <th>weekly_hosp_admissions_per_million</th>\n",
              "      <th>new_tests</th>\n",
              "      <th>total_tests</th>\n",
              "      <th>total_tests_per_thousand</th>\n",
              "      <th>new_tests_per_thousand</th>\n",
              "      <th>new_tests_smoothed</th>\n",
              "      <th>new_tests_smoothed_per_thousand</th>\n",
              "      <th>positive_rate</th>\n",
              "      <th>tests_per_case</th>\n",
              "      <th>tests_units</th>\n",
              "      <th>total_vaccinations</th>\n",
              "      <th>people_vaccinated</th>\n",
              "      <th>people_fully_vaccinated</th>\n",
              "      <th>new_vaccinations</th>\n",
              "      <th>new_vaccinations_smoothed</th>\n",
              "      <th>total_vaccinations_per_hundred</th>\n",
              "      <th>people_vaccinated_per_hundred</th>\n",
              "      <th>people_fully_vaccinated_per_hundred</th>\n",
              "      <th>new_vaccinations_smoothed_per_million</th>\n",
              "      <th>stringency_index</th>\n",
              "      <th>population</th>\n",
              "      <th>population_density</th>\n",
              "      <th>median_age</th>\n",
              "      <th>aged_65_older</th>\n",
              "      <th>aged_70_older</th>\n",
              "      <th>gdp_per_capita</th>\n",
              "      <th>extreme_poverty</th>\n",
              "      <th>cardiovasc_death_rate</th>\n",
              "      <th>diabetes_prevalence</th>\n",
              "      <th>female_smokers</th>\n",
              "      <th>male_smokers</th>\n",
              "      <th>handwashing_facilities</th>\n",
              "      <th>hospital_beds_per_thousand</th>\n",
              "      <th>life_expectancy</th>\n",
              "      <th>human_development_index</th>\n",
              "    </tr>\n",
              "  </thead>\n",
              "  <tbody>\n",
              "    <tr>\n",
              "      <th>0</th>\n",
              "      <td>AFG</td>\n",
              "      <td>Asia</td>\n",
              "      <td>Afghanistan</td>\n",
              "      <td>2020-02-24</td>\n",
              "      <td>1.0</td>\n",
              "      <td>1.0</td>\n",
              "      <td>NaN</td>\n",
              "      <td>NaN</td>\n",
              "      <td>NaN</td>\n",
              "      <td>NaN</td>\n",
              "      <td>0.026</td>\n",
              "      <td>0.026</td>\n",
              "      <td>NaN</td>\n",
              "      <td>NaN</td>\n",
              "      <td>NaN</td>\n",
              "      <td>NaN</td>\n",
              "      <td>NaN</td>\n",
              "      <td>NaN</td>\n",
              "      <td>NaN</td>\n",
              "      <td>NaN</td>\n",
              "      <td>NaN</td>\n",
              "      <td>NaN</td>\n",
              "      <td>NaN</td>\n",
              "      <td>NaN</td>\n",
              "      <td>NaN</td>\n",
              "      <td>NaN</td>\n",
              "      <td>NaN</td>\n",
              "      <td>NaN</td>\n",
              "      <td>NaN</td>\n",
              "      <td>NaN</td>\n",
              "      <td>NaN</td>\n",
              "      <td>NaN</td>\n",
              "      <td>NaN</td>\n",
              "      <td>NaN</td>\n",
              "      <td>NaN</td>\n",
              "      <td>NaN</td>\n",
              "      <td>NaN</td>\n",
              "      <td>NaN</td>\n",
              "      <td>NaN</td>\n",
              "      <td>NaN</td>\n",
              "      <td>NaN</td>\n",
              "      <td>NaN</td>\n",
              "      <td>NaN</td>\n",
              "      <td>8.33</td>\n",
              "      <td>38928341.0</td>\n",
              "      <td>54.422</td>\n",
              "      <td>18.6</td>\n",
              "      <td>2.581</td>\n",
              "      <td>1.337</td>\n",
              "      <td>1803.987</td>\n",
              "      <td>NaN</td>\n",
              "      <td>597.029</td>\n",
              "      <td>9.59</td>\n",
              "      <td>NaN</td>\n",
              "      <td>NaN</td>\n",
              "      <td>37.746</td>\n",
              "      <td>0.5</td>\n",
              "      <td>64.83</td>\n",
              "      <td>0.511</td>\n",
              "    </tr>\n",
              "    <tr>\n",
              "      <th>1</th>\n",
              "      <td>AFG</td>\n",
              "      <td>Asia</td>\n",
              "      <td>Afghanistan</td>\n",
              "      <td>2020-02-25</td>\n",
              "      <td>1.0</td>\n",
              "      <td>0.0</td>\n",
              "      <td>NaN</td>\n",
              "      <td>NaN</td>\n",
              "      <td>NaN</td>\n",
              "      <td>NaN</td>\n",
              "      <td>0.026</td>\n",
              "      <td>0.000</td>\n",
              "      <td>NaN</td>\n",
              "      <td>NaN</td>\n",
              "      <td>NaN</td>\n",
              "      <td>NaN</td>\n",
              "      <td>NaN</td>\n",
              "      <td>NaN</td>\n",
              "      <td>NaN</td>\n",
              "      <td>NaN</td>\n",
              "      <td>NaN</td>\n",
              "      <td>NaN</td>\n",
              "      <td>NaN</td>\n",
              "      <td>NaN</td>\n",
              "      <td>NaN</td>\n",
              "      <td>NaN</td>\n",
              "      <td>NaN</td>\n",
              "      <td>NaN</td>\n",
              "      <td>NaN</td>\n",
              "      <td>NaN</td>\n",
              "      <td>NaN</td>\n",
              "      <td>NaN</td>\n",
              "      <td>NaN</td>\n",
              "      <td>NaN</td>\n",
              "      <td>NaN</td>\n",
              "      <td>NaN</td>\n",
              "      <td>NaN</td>\n",
              "      <td>NaN</td>\n",
              "      <td>NaN</td>\n",
              "      <td>NaN</td>\n",
              "      <td>NaN</td>\n",
              "      <td>NaN</td>\n",
              "      <td>NaN</td>\n",
              "      <td>8.33</td>\n",
              "      <td>38928341.0</td>\n",
              "      <td>54.422</td>\n",
              "      <td>18.6</td>\n",
              "      <td>2.581</td>\n",
              "      <td>1.337</td>\n",
              "      <td>1803.987</td>\n",
              "      <td>NaN</td>\n",
              "      <td>597.029</td>\n",
              "      <td>9.59</td>\n",
              "      <td>NaN</td>\n",
              "      <td>NaN</td>\n",
              "      <td>37.746</td>\n",
              "      <td>0.5</td>\n",
              "      <td>64.83</td>\n",
              "      <td>0.511</td>\n",
              "    </tr>\n",
              "    <tr>\n",
              "      <th>2</th>\n",
              "      <td>AFG</td>\n",
              "      <td>Asia</td>\n",
              "      <td>Afghanistan</td>\n",
              "      <td>2020-02-26</td>\n",
              "      <td>1.0</td>\n",
              "      <td>0.0</td>\n",
              "      <td>NaN</td>\n",
              "      <td>NaN</td>\n",
              "      <td>NaN</td>\n",
              "      <td>NaN</td>\n",
              "      <td>0.026</td>\n",
              "      <td>0.000</td>\n",
              "      <td>NaN</td>\n",
              "      <td>NaN</td>\n",
              "      <td>NaN</td>\n",
              "      <td>NaN</td>\n",
              "      <td>NaN</td>\n",
              "      <td>NaN</td>\n",
              "      <td>NaN</td>\n",
              "      <td>NaN</td>\n",
              "      <td>NaN</td>\n",
              "      <td>NaN</td>\n",
              "      <td>NaN</td>\n",
              "      <td>NaN</td>\n",
              "      <td>NaN</td>\n",
              "      <td>NaN</td>\n",
              "      <td>NaN</td>\n",
              "      <td>NaN</td>\n",
              "      <td>NaN</td>\n",
              "      <td>NaN</td>\n",
              "      <td>NaN</td>\n",
              "      <td>NaN</td>\n",
              "      <td>NaN</td>\n",
              "      <td>NaN</td>\n",
              "      <td>NaN</td>\n",
              "      <td>NaN</td>\n",
              "      <td>NaN</td>\n",
              "      <td>NaN</td>\n",
              "      <td>NaN</td>\n",
              "      <td>NaN</td>\n",
              "      <td>NaN</td>\n",
              "      <td>NaN</td>\n",
              "      <td>NaN</td>\n",
              "      <td>8.33</td>\n",
              "      <td>38928341.0</td>\n",
              "      <td>54.422</td>\n",
              "      <td>18.6</td>\n",
              "      <td>2.581</td>\n",
              "      <td>1.337</td>\n",
              "      <td>1803.987</td>\n",
              "      <td>NaN</td>\n",
              "      <td>597.029</td>\n",
              "      <td>9.59</td>\n",
              "      <td>NaN</td>\n",
              "      <td>NaN</td>\n",
              "      <td>37.746</td>\n",
              "      <td>0.5</td>\n",
              "      <td>64.83</td>\n",
              "      <td>0.511</td>\n",
              "    </tr>\n",
              "    <tr>\n",
              "      <th>3</th>\n",
              "      <td>AFG</td>\n",
              "      <td>Asia</td>\n",
              "      <td>Afghanistan</td>\n",
              "      <td>2020-02-27</td>\n",
              "      <td>1.0</td>\n",
              "      <td>0.0</td>\n",
              "      <td>NaN</td>\n",
              "      <td>NaN</td>\n",
              "      <td>NaN</td>\n",
              "      <td>NaN</td>\n",
              "      <td>0.026</td>\n",
              "      <td>0.000</td>\n",
              "      <td>NaN</td>\n",
              "      <td>NaN</td>\n",
              "      <td>NaN</td>\n",
              "      <td>NaN</td>\n",
              "      <td>NaN</td>\n",
              "      <td>NaN</td>\n",
              "      <td>NaN</td>\n",
              "      <td>NaN</td>\n",
              "      <td>NaN</td>\n",
              "      <td>NaN</td>\n",
              "      <td>NaN</td>\n",
              "      <td>NaN</td>\n",
              "      <td>NaN</td>\n",
              "      <td>NaN</td>\n",
              "      <td>NaN</td>\n",
              "      <td>NaN</td>\n",
              "      <td>NaN</td>\n",
              "      <td>NaN</td>\n",
              "      <td>NaN</td>\n",
              "      <td>NaN</td>\n",
              "      <td>NaN</td>\n",
              "      <td>NaN</td>\n",
              "      <td>NaN</td>\n",
              "      <td>NaN</td>\n",
              "      <td>NaN</td>\n",
              "      <td>NaN</td>\n",
              "      <td>NaN</td>\n",
              "      <td>NaN</td>\n",
              "      <td>NaN</td>\n",
              "      <td>NaN</td>\n",
              "      <td>NaN</td>\n",
              "      <td>8.33</td>\n",
              "      <td>38928341.0</td>\n",
              "      <td>54.422</td>\n",
              "      <td>18.6</td>\n",
              "      <td>2.581</td>\n",
              "      <td>1.337</td>\n",
              "      <td>1803.987</td>\n",
              "      <td>NaN</td>\n",
              "      <td>597.029</td>\n",
              "      <td>9.59</td>\n",
              "      <td>NaN</td>\n",
              "      <td>NaN</td>\n",
              "      <td>37.746</td>\n",
              "      <td>0.5</td>\n",
              "      <td>64.83</td>\n",
              "      <td>0.511</td>\n",
              "    </tr>\n",
              "    <tr>\n",
              "      <th>4</th>\n",
              "      <td>AFG</td>\n",
              "      <td>Asia</td>\n",
              "      <td>Afghanistan</td>\n",
              "      <td>2020-02-28</td>\n",
              "      <td>1.0</td>\n",
              "      <td>0.0</td>\n",
              "      <td>NaN</td>\n",
              "      <td>NaN</td>\n",
              "      <td>NaN</td>\n",
              "      <td>NaN</td>\n",
              "      <td>0.026</td>\n",
              "      <td>0.000</td>\n",
              "      <td>NaN</td>\n",
              "      <td>NaN</td>\n",
              "      <td>NaN</td>\n",
              "      <td>NaN</td>\n",
              "      <td>NaN</td>\n",
              "      <td>NaN</td>\n",
              "      <td>NaN</td>\n",
              "      <td>NaN</td>\n",
              "      <td>NaN</td>\n",
              "      <td>NaN</td>\n",
              "      <td>NaN</td>\n",
              "      <td>NaN</td>\n",
              "      <td>NaN</td>\n",
              "      <td>NaN</td>\n",
              "      <td>NaN</td>\n",
              "      <td>NaN</td>\n",
              "      <td>NaN</td>\n",
              "      <td>NaN</td>\n",
              "      <td>NaN</td>\n",
              "      <td>NaN</td>\n",
              "      <td>NaN</td>\n",
              "      <td>NaN</td>\n",
              "      <td>NaN</td>\n",
              "      <td>NaN</td>\n",
              "      <td>NaN</td>\n",
              "      <td>NaN</td>\n",
              "      <td>NaN</td>\n",
              "      <td>NaN</td>\n",
              "      <td>NaN</td>\n",
              "      <td>NaN</td>\n",
              "      <td>NaN</td>\n",
              "      <td>8.33</td>\n",
              "      <td>38928341.0</td>\n",
              "      <td>54.422</td>\n",
              "      <td>18.6</td>\n",
              "      <td>2.581</td>\n",
              "      <td>1.337</td>\n",
              "      <td>1803.987</td>\n",
              "      <td>NaN</td>\n",
              "      <td>597.029</td>\n",
              "      <td>9.59</td>\n",
              "      <td>NaN</td>\n",
              "      <td>NaN</td>\n",
              "      <td>37.746</td>\n",
              "      <td>0.5</td>\n",
              "      <td>64.83</td>\n",
              "      <td>0.511</td>\n",
              "    </tr>\n",
              "  </tbody>\n",
              "</table>\n",
              "</div>"
            ],
            "text/plain": [
              "  iso_code continent  ... life_expectancy human_development_index\n",
              "0      AFG      Asia  ...           64.83                   0.511\n",
              "1      AFG      Asia  ...           64.83                   0.511\n",
              "2      AFG      Asia  ...           64.83                   0.511\n",
              "3      AFG      Asia  ...           64.83                   0.511\n",
              "4      AFG      Asia  ...           64.83                   0.511\n",
              "\n",
              "[5 rows x 59 columns]"
            ]
          },
          "metadata": {
            "tags": []
          },
          "execution_count": 3
        }
      ]
    },
    {
      "cell_type": "markdown",
      "metadata": {
        "id": "dVc_4ASUkILT"
      },
      "source": [
        "This dataset contains 59 features such as total_cases, new_cases and total_deaths. And it contains the data from all around the world (Manys thanks to their hardwork in collecting these data).\n",
        "\n",
        "However, we are only interested in the data for the United Kingdom. \n",
        "\n",
        "Let's filter out the data for the UK only. This is done by droping all the rows where the iso_code is not GBR."
      ]
    },
    {
      "cell_type": "code",
      "metadata": {
        "colab": {
          "base_uri": "https://localhost:8080/",
          "height": 313
        },
        "id": "OeI3h_m0hyeg",
        "outputId": "c52549f5-eb0e-4a98-bb16-7d0c3ddfd648"
      },
      "source": [
        "# Filter the data for United Kingdom only\n",
        "df_uk = df.drop(df[df.iso_code != 'GBR'].index)\n",
        "df_uk.head()"
      ],
      "execution_count": null,
      "outputs": [
        {
          "output_type": "execute_result",
          "data": {
            "text/html": [
              "<div>\n",
              "<style scoped>\n",
              "    .dataframe tbody tr th:only-of-type {\n",
              "        vertical-align: middle;\n",
              "    }\n",
              "\n",
              "    .dataframe tbody tr th {\n",
              "        vertical-align: top;\n",
              "    }\n",
              "\n",
              "    .dataframe thead th {\n",
              "        text-align: right;\n",
              "    }\n",
              "</style>\n",
              "<table border=\"1\" class=\"dataframe\">\n",
              "  <thead>\n",
              "    <tr style=\"text-align: right;\">\n",
              "      <th></th>\n",
              "      <th>iso_code</th>\n",
              "      <th>continent</th>\n",
              "      <th>location</th>\n",
              "      <th>date</th>\n",
              "      <th>total_cases</th>\n",
              "      <th>new_cases</th>\n",
              "      <th>new_cases_smoothed</th>\n",
              "      <th>total_deaths</th>\n",
              "      <th>new_deaths</th>\n",
              "      <th>new_deaths_smoothed</th>\n",
              "      <th>total_cases_per_million</th>\n",
              "      <th>new_cases_per_million</th>\n",
              "      <th>new_cases_smoothed_per_million</th>\n",
              "      <th>total_deaths_per_million</th>\n",
              "      <th>new_deaths_per_million</th>\n",
              "      <th>new_deaths_smoothed_per_million</th>\n",
              "      <th>reproduction_rate</th>\n",
              "      <th>icu_patients</th>\n",
              "      <th>icu_patients_per_million</th>\n",
              "      <th>hosp_patients</th>\n",
              "      <th>hosp_patients_per_million</th>\n",
              "      <th>weekly_icu_admissions</th>\n",
              "      <th>weekly_icu_admissions_per_million</th>\n",
              "      <th>weekly_hosp_admissions</th>\n",
              "      <th>weekly_hosp_admissions_per_million</th>\n",
              "      <th>new_tests</th>\n",
              "      <th>total_tests</th>\n",
              "      <th>total_tests_per_thousand</th>\n",
              "      <th>new_tests_per_thousand</th>\n",
              "      <th>new_tests_smoothed</th>\n",
              "      <th>new_tests_smoothed_per_thousand</th>\n",
              "      <th>positive_rate</th>\n",
              "      <th>tests_per_case</th>\n",
              "      <th>tests_units</th>\n",
              "      <th>total_vaccinations</th>\n",
              "      <th>people_vaccinated</th>\n",
              "      <th>people_fully_vaccinated</th>\n",
              "      <th>new_vaccinations</th>\n",
              "      <th>new_vaccinations_smoothed</th>\n",
              "      <th>total_vaccinations_per_hundred</th>\n",
              "      <th>people_vaccinated_per_hundred</th>\n",
              "      <th>people_fully_vaccinated_per_hundred</th>\n",
              "      <th>new_vaccinations_smoothed_per_million</th>\n",
              "      <th>stringency_index</th>\n",
              "      <th>population</th>\n",
              "      <th>population_density</th>\n",
              "      <th>median_age</th>\n",
              "      <th>aged_65_older</th>\n",
              "      <th>aged_70_older</th>\n",
              "      <th>gdp_per_capita</th>\n",
              "      <th>extreme_poverty</th>\n",
              "      <th>cardiovasc_death_rate</th>\n",
              "      <th>diabetes_prevalence</th>\n",
              "      <th>female_smokers</th>\n",
              "      <th>male_smokers</th>\n",
              "      <th>handwashing_facilities</th>\n",
              "      <th>hospital_beds_per_thousand</th>\n",
              "      <th>life_expectancy</th>\n",
              "      <th>human_development_index</th>\n",
              "    </tr>\n",
              "  </thead>\n",
              "  <tbody>\n",
              "    <tr>\n",
              "      <th>71823</th>\n",
              "      <td>GBR</td>\n",
              "      <td>Europe</td>\n",
              "      <td>United Kingdom</td>\n",
              "      <td>2020-01-31</td>\n",
              "      <td>2.0</td>\n",
              "      <td>2.0</td>\n",
              "      <td>NaN</td>\n",
              "      <td>NaN</td>\n",
              "      <td>NaN</td>\n",
              "      <td>NaN</td>\n",
              "      <td>0.029</td>\n",
              "      <td>0.029</td>\n",
              "      <td>NaN</td>\n",
              "      <td>NaN</td>\n",
              "      <td>NaN</td>\n",
              "      <td>NaN</td>\n",
              "      <td>NaN</td>\n",
              "      <td>NaN</td>\n",
              "      <td>NaN</td>\n",
              "      <td>NaN</td>\n",
              "      <td>NaN</td>\n",
              "      <td>NaN</td>\n",
              "      <td>NaN</td>\n",
              "      <td>NaN</td>\n",
              "      <td>NaN</td>\n",
              "      <td>NaN</td>\n",
              "      <td>NaN</td>\n",
              "      <td>NaN</td>\n",
              "      <td>NaN</td>\n",
              "      <td>NaN</td>\n",
              "      <td>NaN</td>\n",
              "      <td>NaN</td>\n",
              "      <td>NaN</td>\n",
              "      <td>NaN</td>\n",
              "      <td>NaN</td>\n",
              "      <td>NaN</td>\n",
              "      <td>NaN</td>\n",
              "      <td>NaN</td>\n",
              "      <td>NaN</td>\n",
              "      <td>NaN</td>\n",
              "      <td>NaN</td>\n",
              "      <td>NaN</td>\n",
              "      <td>NaN</td>\n",
              "      <td>8.33</td>\n",
              "      <td>67886004.0</td>\n",
              "      <td>272.898</td>\n",
              "      <td>40.8</td>\n",
              "      <td>18.517</td>\n",
              "      <td>12.527</td>\n",
              "      <td>39753.244</td>\n",
              "      <td>0.2</td>\n",
              "      <td>122.137</td>\n",
              "      <td>4.28</td>\n",
              "      <td>20.0</td>\n",
              "      <td>24.7</td>\n",
              "      <td>NaN</td>\n",
              "      <td>2.54</td>\n",
              "      <td>81.32</td>\n",
              "      <td>0.932</td>\n",
              "    </tr>\n",
              "    <tr>\n",
              "      <th>71824</th>\n",
              "      <td>GBR</td>\n",
              "      <td>Europe</td>\n",
              "      <td>United Kingdom</td>\n",
              "      <td>2020-02-01</td>\n",
              "      <td>2.0</td>\n",
              "      <td>0.0</td>\n",
              "      <td>NaN</td>\n",
              "      <td>NaN</td>\n",
              "      <td>NaN</td>\n",
              "      <td>NaN</td>\n",
              "      <td>0.029</td>\n",
              "      <td>0.000</td>\n",
              "      <td>NaN</td>\n",
              "      <td>NaN</td>\n",
              "      <td>NaN</td>\n",
              "      <td>NaN</td>\n",
              "      <td>NaN</td>\n",
              "      <td>NaN</td>\n",
              "      <td>NaN</td>\n",
              "      <td>NaN</td>\n",
              "      <td>NaN</td>\n",
              "      <td>NaN</td>\n",
              "      <td>NaN</td>\n",
              "      <td>NaN</td>\n",
              "      <td>NaN</td>\n",
              "      <td>NaN</td>\n",
              "      <td>NaN</td>\n",
              "      <td>NaN</td>\n",
              "      <td>NaN</td>\n",
              "      <td>NaN</td>\n",
              "      <td>NaN</td>\n",
              "      <td>NaN</td>\n",
              "      <td>NaN</td>\n",
              "      <td>NaN</td>\n",
              "      <td>NaN</td>\n",
              "      <td>NaN</td>\n",
              "      <td>NaN</td>\n",
              "      <td>NaN</td>\n",
              "      <td>NaN</td>\n",
              "      <td>NaN</td>\n",
              "      <td>NaN</td>\n",
              "      <td>NaN</td>\n",
              "      <td>NaN</td>\n",
              "      <td>8.33</td>\n",
              "      <td>67886004.0</td>\n",
              "      <td>272.898</td>\n",
              "      <td>40.8</td>\n",
              "      <td>18.517</td>\n",
              "      <td>12.527</td>\n",
              "      <td>39753.244</td>\n",
              "      <td>0.2</td>\n",
              "      <td>122.137</td>\n",
              "      <td>4.28</td>\n",
              "      <td>20.0</td>\n",
              "      <td>24.7</td>\n",
              "      <td>NaN</td>\n",
              "      <td>2.54</td>\n",
              "      <td>81.32</td>\n",
              "      <td>0.932</td>\n",
              "    </tr>\n",
              "    <tr>\n",
              "      <th>71825</th>\n",
              "      <td>GBR</td>\n",
              "      <td>Europe</td>\n",
              "      <td>United Kingdom</td>\n",
              "      <td>2020-02-02</td>\n",
              "      <td>2.0</td>\n",
              "      <td>0.0</td>\n",
              "      <td>NaN</td>\n",
              "      <td>NaN</td>\n",
              "      <td>NaN</td>\n",
              "      <td>NaN</td>\n",
              "      <td>0.029</td>\n",
              "      <td>0.000</td>\n",
              "      <td>NaN</td>\n",
              "      <td>NaN</td>\n",
              "      <td>NaN</td>\n",
              "      <td>NaN</td>\n",
              "      <td>NaN</td>\n",
              "      <td>NaN</td>\n",
              "      <td>NaN</td>\n",
              "      <td>NaN</td>\n",
              "      <td>NaN</td>\n",
              "      <td>NaN</td>\n",
              "      <td>NaN</td>\n",
              "      <td>NaN</td>\n",
              "      <td>NaN</td>\n",
              "      <td>NaN</td>\n",
              "      <td>NaN</td>\n",
              "      <td>NaN</td>\n",
              "      <td>NaN</td>\n",
              "      <td>NaN</td>\n",
              "      <td>NaN</td>\n",
              "      <td>NaN</td>\n",
              "      <td>NaN</td>\n",
              "      <td>NaN</td>\n",
              "      <td>NaN</td>\n",
              "      <td>NaN</td>\n",
              "      <td>NaN</td>\n",
              "      <td>NaN</td>\n",
              "      <td>NaN</td>\n",
              "      <td>NaN</td>\n",
              "      <td>NaN</td>\n",
              "      <td>NaN</td>\n",
              "      <td>NaN</td>\n",
              "      <td>11.11</td>\n",
              "      <td>67886004.0</td>\n",
              "      <td>272.898</td>\n",
              "      <td>40.8</td>\n",
              "      <td>18.517</td>\n",
              "      <td>12.527</td>\n",
              "      <td>39753.244</td>\n",
              "      <td>0.2</td>\n",
              "      <td>122.137</td>\n",
              "      <td>4.28</td>\n",
              "      <td>20.0</td>\n",
              "      <td>24.7</td>\n",
              "      <td>NaN</td>\n",
              "      <td>2.54</td>\n",
              "      <td>81.32</td>\n",
              "      <td>0.932</td>\n",
              "    </tr>\n",
              "    <tr>\n",
              "      <th>71826</th>\n",
              "      <td>GBR</td>\n",
              "      <td>Europe</td>\n",
              "      <td>United Kingdom</td>\n",
              "      <td>2020-02-03</td>\n",
              "      <td>8.0</td>\n",
              "      <td>6.0</td>\n",
              "      <td>NaN</td>\n",
              "      <td>NaN</td>\n",
              "      <td>NaN</td>\n",
              "      <td>NaN</td>\n",
              "      <td>0.118</td>\n",
              "      <td>0.088</td>\n",
              "      <td>NaN</td>\n",
              "      <td>NaN</td>\n",
              "      <td>NaN</td>\n",
              "      <td>NaN</td>\n",
              "      <td>NaN</td>\n",
              "      <td>NaN</td>\n",
              "      <td>NaN</td>\n",
              "      <td>NaN</td>\n",
              "      <td>NaN</td>\n",
              "      <td>NaN</td>\n",
              "      <td>NaN</td>\n",
              "      <td>NaN</td>\n",
              "      <td>NaN</td>\n",
              "      <td>NaN</td>\n",
              "      <td>NaN</td>\n",
              "      <td>NaN</td>\n",
              "      <td>NaN</td>\n",
              "      <td>NaN</td>\n",
              "      <td>NaN</td>\n",
              "      <td>NaN</td>\n",
              "      <td>NaN</td>\n",
              "      <td>NaN</td>\n",
              "      <td>NaN</td>\n",
              "      <td>NaN</td>\n",
              "      <td>NaN</td>\n",
              "      <td>NaN</td>\n",
              "      <td>NaN</td>\n",
              "      <td>NaN</td>\n",
              "      <td>NaN</td>\n",
              "      <td>NaN</td>\n",
              "      <td>NaN</td>\n",
              "      <td>11.11</td>\n",
              "      <td>67886004.0</td>\n",
              "      <td>272.898</td>\n",
              "      <td>40.8</td>\n",
              "      <td>18.517</td>\n",
              "      <td>12.527</td>\n",
              "      <td>39753.244</td>\n",
              "      <td>0.2</td>\n",
              "      <td>122.137</td>\n",
              "      <td>4.28</td>\n",
              "      <td>20.0</td>\n",
              "      <td>24.7</td>\n",
              "      <td>NaN</td>\n",
              "      <td>2.54</td>\n",
              "      <td>81.32</td>\n",
              "      <td>0.932</td>\n",
              "    </tr>\n",
              "    <tr>\n",
              "      <th>71827</th>\n",
              "      <td>GBR</td>\n",
              "      <td>Europe</td>\n",
              "      <td>United Kingdom</td>\n",
              "      <td>2020-02-04</td>\n",
              "      <td>8.0</td>\n",
              "      <td>0.0</td>\n",
              "      <td>NaN</td>\n",
              "      <td>NaN</td>\n",
              "      <td>NaN</td>\n",
              "      <td>NaN</td>\n",
              "      <td>0.118</td>\n",
              "      <td>0.000</td>\n",
              "      <td>NaN</td>\n",
              "      <td>NaN</td>\n",
              "      <td>NaN</td>\n",
              "      <td>NaN</td>\n",
              "      <td>NaN</td>\n",
              "      <td>NaN</td>\n",
              "      <td>NaN</td>\n",
              "      <td>NaN</td>\n",
              "      <td>NaN</td>\n",
              "      <td>NaN</td>\n",
              "      <td>NaN</td>\n",
              "      <td>NaN</td>\n",
              "      <td>NaN</td>\n",
              "      <td>NaN</td>\n",
              "      <td>NaN</td>\n",
              "      <td>NaN</td>\n",
              "      <td>NaN</td>\n",
              "      <td>NaN</td>\n",
              "      <td>NaN</td>\n",
              "      <td>NaN</td>\n",
              "      <td>NaN</td>\n",
              "      <td>NaN</td>\n",
              "      <td>NaN</td>\n",
              "      <td>NaN</td>\n",
              "      <td>NaN</td>\n",
              "      <td>NaN</td>\n",
              "      <td>NaN</td>\n",
              "      <td>NaN</td>\n",
              "      <td>NaN</td>\n",
              "      <td>NaN</td>\n",
              "      <td>NaN</td>\n",
              "      <td>11.11</td>\n",
              "      <td>67886004.0</td>\n",
              "      <td>272.898</td>\n",
              "      <td>40.8</td>\n",
              "      <td>18.517</td>\n",
              "      <td>12.527</td>\n",
              "      <td>39753.244</td>\n",
              "      <td>0.2</td>\n",
              "      <td>122.137</td>\n",
              "      <td>4.28</td>\n",
              "      <td>20.0</td>\n",
              "      <td>24.7</td>\n",
              "      <td>NaN</td>\n",
              "      <td>2.54</td>\n",
              "      <td>81.32</td>\n",
              "      <td>0.932</td>\n",
              "    </tr>\n",
              "  </tbody>\n",
              "</table>\n",
              "</div>"
            ],
            "text/plain": [
              "      iso_code continent  ... life_expectancy human_development_index\n",
              "71823      GBR    Europe  ...           81.32                   0.932\n",
              "71824      GBR    Europe  ...           81.32                   0.932\n",
              "71825      GBR    Europe  ...           81.32                   0.932\n",
              "71826      GBR    Europe  ...           81.32                   0.932\n",
              "71827      GBR    Europe  ...           81.32                   0.932\n",
              "\n",
              "[5 rows x 59 columns]"
            ]
          },
          "metadata": {
            "tags": []
          },
          "execution_count": 4
        }
      ]
    },
    {
      "cell_type": "markdown",
      "metadata": {
        "id": "Rn7TWryQmR-7"
      },
      "source": [
        "Let's pick a starting date and ending date of the data that we are going to use.\n",
        "\n",
        "I have select the data from March 2020 to Feb 2021, which is exactly 1 year of data."
      ]
    },
    {
      "cell_type": "code",
      "metadata": {
        "id": "1KbseBj-m8N1"
      },
      "source": [
        "# Set a starting date and ending date of the data\n",
        "STARTING_DATE = '2020-3-1'\n",
        "ENDING_DATE = '2021-2-28'\n",
        "# Select from March to Feb 2021. Data for exactly 1 year\n",
        "df_uk = df_uk[(df_uk['date'] >= STARTING_DATE) & (df_uk['date'] <= ENDING_DATE)]"
      ],
      "execution_count": null,
      "outputs": []
    },
    {
      "cell_type": "markdown",
      "metadata": {
        "id": "fIwzK9ppTwTG"
      },
      "source": [
        "### Additional Features\n",
        "\n",
        "I have decided to add two new features to the dataset. They are `case_population_ratio` and `case_population_density_ratio`. \n",
        "These two features are added because these features can represent the relationship between number of cases to the population.\n",
        "These two features can be generated from existing features."
      ]
    },
    {
      "cell_type": "code",
      "metadata": {
        "id": "J8i4Rl6ldEba"
      },
      "source": [
        "# Add new features such as total_case/population\n",
        "df_uk[\"case_population_ratio\"] = df_uk[\"total_cases\"] / df_uk[\"population\"]\n",
        "df_uk[\"case_population_density_ratio\"] = df_uk[\"total_cases\"] / df_uk[\"population_density\"]"
      ],
      "execution_count": null,
      "outputs": []
    },
    {
      "cell_type": "markdown",
      "metadata": {
        "id": "6T-OWyANpA_U"
      },
      "source": [
        "### Inspect and cleanup\n",
        "Next look at the statistics of the dataset:"
      ]
    },
    {
      "cell_type": "code",
      "metadata": {
        "colab": {
          "base_uri": "https://localhost:8080/",
          "height": 1000
        },
        "id": "SsjS3TJdcuE3",
        "outputId": "cbb96bc5-4424-49d9-9fd6-a76d3b9a66c2"
      },
      "source": [
        "df_uk.describe().transpose()"
      ],
      "execution_count": null,
      "outputs": [
        {
          "output_type": "execute_result",
          "data": {
            "text/html": [
              "<div>\n",
              "<style scoped>\n",
              "    .dataframe tbody tr th:only-of-type {\n",
              "        vertical-align: middle;\n",
              "    }\n",
              "\n",
              "    .dataframe tbody tr th {\n",
              "        vertical-align: top;\n",
              "    }\n",
              "\n",
              "    .dataframe thead th {\n",
              "        text-align: right;\n",
              "    }\n",
              "</style>\n",
              "<table border=\"1\" class=\"dataframe\">\n",
              "  <thead>\n",
              "    <tr style=\"text-align: right;\">\n",
              "      <th></th>\n",
              "      <th>count</th>\n",
              "      <th>mean</th>\n",
              "      <th>std</th>\n",
              "      <th>min</th>\n",
              "      <th>25%</th>\n",
              "      <th>50%</th>\n",
              "      <th>75%</th>\n",
              "      <th>max</th>\n",
              "    </tr>\n",
              "  </thead>\n",
              "  <tbody>\n",
              "    <tr>\n",
              "      <th>total_cases</th>\n",
              "      <td>365.0</td>\n",
              "      <td>1.065894e+06</td>\n",
              "      <td>1.279520e+06</td>\n",
              "      <td>9.400000e+01</td>\n",
              "      <td>2.575390e+05</td>\n",
              "      <td>3.366680e+05</td>\n",
              "      <td>1.621308e+06</td>\n",
              "      <td>4.188827e+06</td>\n",
              "    </tr>\n",
              "    <tr>\n",
              "      <th>new_cases</th>\n",
              "      <td>365.0</td>\n",
              "      <td>1.147607e+04</td>\n",
              "      <td>1.429730e+04</td>\n",
              "      <td>6.000000e+00</td>\n",
              "      <td>1.110000e+03</td>\n",
              "      <td>4.378000e+03</td>\n",
              "      <td>1.866800e+04</td>\n",
              "      <td>6.819200e+04</td>\n",
              "    </tr>\n",
              "    <tr>\n",
              "      <th>new_cases_smoothed</th>\n",
              "      <td>365.0</td>\n",
              "      <td>1.141098e+04</td>\n",
              "      <td>1.411292e+04</td>\n",
              "      <td>9.429000e+00</td>\n",
              "      <td>1.066000e+03</td>\n",
              "      <td>4.468286e+03</td>\n",
              "      <td>1.825414e+04</td>\n",
              "      <td>5.982857e+04</td>\n",
              "    </tr>\n",
              "    <tr>\n",
              "      <th>total_deaths</th>\n",
              "      <td>360.0</td>\n",
              "      <td>4.861024e+04</td>\n",
              "      <td>2.921743e+04</td>\n",
              "      <td>1.000000e+00</td>\n",
              "      <td>3.821450e+04</td>\n",
              "      <td>4.159700e+04</td>\n",
              "      <td>5.869575e+04</td>\n",
              "      <td>1.230830e+05</td>\n",
              "    </tr>\n",
              "    <tr>\n",
              "      <th>new_deaths</th>\n",
              "      <td>360.0</td>\n",
              "      <td>3.418972e+02</td>\n",
              "      <td>3.856922e+02</td>\n",
              "      <td>0.000000e+00</td>\n",
              "      <td>3.050000e+01</td>\n",
              "      <td>2.000000e+02</td>\n",
              "      <td>5.330000e+02</td>\n",
              "      <td>1.826000e+03</td>\n",
              "    </tr>\n",
              "    <tr>\n",
              "      <th>new_deaths_smoothed</th>\n",
              "      <td>365.0</td>\n",
              "      <td>3.348242e+02</td>\n",
              "      <td>3.480990e+02</td>\n",
              "      <td>0.000000e+00</td>\n",
              "      <td>2.814300e+01</td>\n",
              "      <td>2.411430e+02</td>\n",
              "      <td>4.950000e+02</td>\n",
              "      <td>1.253000e+03</td>\n",
              "    </tr>\n",
              "    <tr>\n",
              "      <th>total_cases_per_million</th>\n",
              "      <td>365.0</td>\n",
              "      <td>1.570123e+04</td>\n",
              "      <td>1.884806e+04</td>\n",
              "      <td>1.385000e+00</td>\n",
              "      <td>3.793698e+03</td>\n",
              "      <td>4.959314e+03</td>\n",
              "      <td>2.388280e+04</td>\n",
              "      <td>6.170384e+04</td>\n",
              "    </tr>\n",
              "    <tr>\n",
              "      <th>new_cases_per_million</th>\n",
              "      <td>365.0</td>\n",
              "      <td>1.690492e+02</td>\n",
              "      <td>2.106075e+02</td>\n",
              "      <td>8.800000e-02</td>\n",
              "      <td>1.635100e+01</td>\n",
              "      <td>6.449000e+01</td>\n",
              "      <td>2.749900e+02</td>\n",
              "      <td>1.004507e+03</td>\n",
              "    </tr>\n",
              "    <tr>\n",
              "      <th>new_cases_smoothed_per_million</th>\n",
              "      <td>365.0</td>\n",
              "      <td>1.680903e+02</td>\n",
              "      <td>2.078915e+02</td>\n",
              "      <td>1.390000e-01</td>\n",
              "      <td>1.570300e+01</td>\n",
              "      <td>6.582000e+01</td>\n",
              "      <td>2.688940e+02</td>\n",
              "      <td>8.813090e+02</td>\n",
              "    </tr>\n",
              "    <tr>\n",
              "      <th>total_deaths_per_million</th>\n",
              "      <td>360.0</td>\n",
              "      <td>7.160569e+02</td>\n",
              "      <td>4.303896e+02</td>\n",
              "      <td>1.500000e-02</td>\n",
              "      <td>5.629212e+02</td>\n",
              "      <td>6.127475e+02</td>\n",
              "      <td>8.646225e+02</td>\n",
              "      <td>1.813084e+03</td>\n",
              "    </tr>\n",
              "    <tr>\n",
              "      <th>new_deaths_per_million</th>\n",
              "      <td>360.0</td>\n",
              "      <td>5.036333e+00</td>\n",
              "      <td>5.681471e+00</td>\n",
              "      <td>0.000000e+00</td>\n",
              "      <td>4.495000e-01</td>\n",
              "      <td>2.946000e+00</td>\n",
              "      <td>7.851000e+00</td>\n",
              "      <td>2.689800e+01</td>\n",
              "    </tr>\n",
              "    <tr>\n",
              "      <th>new_deaths_smoothed_per_million</th>\n",
              "      <td>365.0</td>\n",
              "      <td>4.932140e+00</td>\n",
              "      <td>5.127688e+00</td>\n",
              "      <td>0.000000e+00</td>\n",
              "      <td>4.150000e-01</td>\n",
              "      <td>3.552000e+00</td>\n",
              "      <td>7.292000e+00</td>\n",
              "      <td>1.845700e+01</td>\n",
              "    </tr>\n",
              "    <tr>\n",
              "      <th>reproduction_rate</th>\n",
              "      <td>363.0</td>\n",
              "      <td>1.138788e+00</td>\n",
              "      <td>4.871239e-01</td>\n",
              "      <td>2.300000e-01</td>\n",
              "      <td>8.400000e-01</td>\n",
              "      <td>1.070000e+00</td>\n",
              "      <td>1.275000e+00</td>\n",
              "      <td>4.350000e+00</td>\n",
              "    </tr>\n",
              "    <tr>\n",
              "      <th>icu_patients</th>\n",
              "      <td>333.0</td>\n",
              "      <td>1.309565e+03</td>\n",
              "      <td>1.200781e+03</td>\n",
              "      <td>6.000000e+01</td>\n",
              "      <td>2.390000e+02</td>\n",
              "      <td>1.075000e+03</td>\n",
              "      <td>2.120000e+03</td>\n",
              "      <td>4.077000e+03</td>\n",
              "    </tr>\n",
              "    <tr>\n",
              "      <th>icu_patients_per_million</th>\n",
              "      <td>333.0</td>\n",
              "      <td>1.929065e+01</td>\n",
              "      <td>1.768822e+01</td>\n",
              "      <td>8.840000e-01</td>\n",
              "      <td>3.521000e+00</td>\n",
              "      <td>1.583500e+01</td>\n",
              "      <td>3.122900e+01</td>\n",
              "      <td>6.005700e+01</td>\n",
              "    </tr>\n",
              "    <tr>\n",
              "      <th>hosp_patients</th>\n",
              "      <td>339.0</td>\n",
              "      <td>1.237323e+04</td>\n",
              "      <td>1.053802e+04</td>\n",
              "      <td>7.700000e+02</td>\n",
              "      <td>2.560000e+03</td>\n",
              "      <td>1.093500e+04</td>\n",
              "      <td>1.804000e+04</td>\n",
              "      <td>3.924800e+04</td>\n",
              "    </tr>\n",
              "    <tr>\n",
              "      <th>hosp_patients_per_million</th>\n",
              "      <td>339.0</td>\n",
              "      <td>1.822648e+02</td>\n",
              "      <td>1.552311e+02</td>\n",
              "      <td>1.134300e+01</td>\n",
              "      <td>3.771000e+01</td>\n",
              "      <td>1.610790e+02</td>\n",
              "      <td>2.657395e+02</td>\n",
              "      <td>5.781460e+02</td>\n",
              "    </tr>\n",
              "    <tr>\n",
              "      <th>weekly_icu_admissions</th>\n",
              "      <td>0.0</td>\n",
              "      <td>NaN</td>\n",
              "      <td>NaN</td>\n",
              "      <td>NaN</td>\n",
              "      <td>NaN</td>\n",
              "      <td>NaN</td>\n",
              "      <td>NaN</td>\n",
              "      <td>NaN</td>\n",
              "    </tr>\n",
              "    <tr>\n",
              "      <th>weekly_icu_admissions_per_million</th>\n",
              "      <td>0.0</td>\n",
              "      <td>NaN</td>\n",
              "      <td>NaN</td>\n",
              "      <td>NaN</td>\n",
              "      <td>NaN</td>\n",
              "      <td>NaN</td>\n",
              "      <td>NaN</td>\n",
              "      <td>NaN</td>\n",
              "    </tr>\n",
              "    <tr>\n",
              "      <th>weekly_hosp_admissions</th>\n",
              "      <td>49.0</td>\n",
              "      <td>8.983510e+03</td>\n",
              "      <td>7.728639e+03</td>\n",
              "      <td>6.940000e+02</td>\n",
              "      <td>2.284000e+03</td>\n",
              "      <td>7.535000e+03</td>\n",
              "      <td>1.242500e+04</td>\n",
              "      <td>2.879200e+04</td>\n",
              "    </tr>\n",
              "    <tr>\n",
              "      <th>weekly_hosp_admissions_per_million</th>\n",
              "      <td>49.0</td>\n",
              "      <td>1.323323e+02</td>\n",
              "      <td>1.138473e+02</td>\n",
              "      <td>1.022300e+01</td>\n",
              "      <td>3.364500e+01</td>\n",
              "      <td>1.109950e+02</td>\n",
              "      <td>1.830270e+02</td>\n",
              "      <td>4.241230e+02</td>\n",
              "    </tr>\n",
              "    <tr>\n",
              "      <th>new_tests</th>\n",
              "      <td>335.0</td>\n",
              "      <td>2.555069e+05</td>\n",
              "      <td>1.878657e+05</td>\n",
              "      <td>1.189600e+04</td>\n",
              "      <td>9.794700e+04</td>\n",
              "      <td>2.165260e+05</td>\n",
              "      <td>3.578645e+05</td>\n",
              "      <td>8.019490e+05</td>\n",
              "    </tr>\n",
              "    <tr>\n",
              "      <th>total_tests</th>\n",
              "      <td>335.0</td>\n",
              "      <td>2.673428e+07</td>\n",
              "      <td>2.481263e+07</td>\n",
              "      <td>1.551740e+05</td>\n",
              "      <td>5.503320e+06</td>\n",
              "      <td>1.849640e+07</td>\n",
              "      <td>4.317038e+07</td>\n",
              "      <td>8.749689e+07</td>\n",
              "    </tr>\n",
              "    <tr>\n",
              "      <th>total_tests_per_thousand</th>\n",
              "      <td>335.0</td>\n",
              "      <td>3.938113e+02</td>\n",
              "      <td>3.655044e+02</td>\n",
              "      <td>2.286000e+00</td>\n",
              "      <td>8.106750e+01</td>\n",
              "      <td>2.724630e+02</td>\n",
              "      <td>6.359245e+02</td>\n",
              "      <td>1.288880e+03</td>\n",
              "    </tr>\n",
              "    <tr>\n",
              "      <th>new_tests_per_thousand</th>\n",
              "      <td>335.0</td>\n",
              "      <td>3.763788e+00</td>\n",
              "      <td>2.767376e+00</td>\n",
              "      <td>1.750000e-01</td>\n",
              "      <td>1.443000e+00</td>\n",
              "      <td>3.190000e+00</td>\n",
              "      <td>5.271500e+00</td>\n",
              "      <td>1.181300e+01</td>\n",
              "    </tr>\n",
              "    <tr>\n",
              "      <th>new_tests_smoothed</th>\n",
              "      <td>328.0</td>\n",
              "      <td>2.607837e+05</td>\n",
              "      <td>1.842200e+05</td>\n",
              "      <td>1.571300e+04</td>\n",
              "      <td>9.854700e+04</td>\n",
              "      <td>2.382225e+05</td>\n",
              "      <td>3.331915e+05</td>\n",
              "      <td>6.718930e+05</td>\n",
              "    </tr>\n",
              "    <tr>\n",
              "      <th>new_tests_smoothed_per_thousand</th>\n",
              "      <td>328.0</td>\n",
              "      <td>3.841448e+00</td>\n",
              "      <td>2.713686e+00</td>\n",
              "      <td>2.310000e-01</td>\n",
              "      <td>1.451500e+00</td>\n",
              "      <td>3.509000e+00</td>\n",
              "      <td>4.907750e+00</td>\n",
              "      <td>9.897000e+00</td>\n",
              "    </tr>\n",
              "    <tr>\n",
              "      <th>positive_rate</th>\n",
              "      <td>328.0</td>\n",
              "      <td>5.117683e-02</td>\n",
              "      <td>5.884063e-02</td>\n",
              "      <td>3.000000e-03</td>\n",
              "      <td>1.100000e-02</td>\n",
              "      <td>3.250000e-02</td>\n",
              "      <td>7.000000e-02</td>\n",
              "      <td>3.000000e-01</td>\n",
              "    </tr>\n",
              "    <tr>\n",
              "      <th>tests_per_case</th>\n",
              "      <td>328.0</td>\n",
              "      <td>6.484177e+01</td>\n",
              "      <td>6.949408e+01</td>\n",
              "      <td>3.300000e+00</td>\n",
              "      <td>1.427500e+01</td>\n",
              "      <td>3.060000e+01</td>\n",
              "      <td>9.150000e+01</td>\n",
              "      <td>3.251000e+02</td>\n",
              "    </tr>\n",
              "    <tr>\n",
              "      <th>total_vaccinations</th>\n",
              "      <td>54.0</td>\n",
              "      <td>1.065396e+07</td>\n",
              "      <td>6.205993e+06</td>\n",
              "      <td>8.646500e+04</td>\n",
              "      <td>5.162095e+06</td>\n",
              "      <td>1.033197e+07</td>\n",
              "      <td>1.605165e+07</td>\n",
              "      <td>2.109127e+07</td>\n",
              "    </tr>\n",
              "    <tr>\n",
              "      <th>people_vaccinated</th>\n",
              "      <td>54.0</td>\n",
              "      <td>1.016152e+07</td>\n",
              "      <td>6.068319e+06</td>\n",
              "      <td>8.646500e+04</td>\n",
              "      <td>4.700617e+06</td>\n",
              "      <td>9.834093e+06</td>\n",
              "      <td>1.550712e+07</td>\n",
              "      <td>2.027545e+07</td>\n",
              "    </tr>\n",
              "    <tr>\n",
              "      <th>people_fully_vaccinated</th>\n",
              "      <td>51.0</td>\n",
              "      <td>5.214023e+05</td>\n",
              "      <td>1.205110e+05</td>\n",
              "      <td>2.200200e+04</td>\n",
              "      <td>4.677065e+05</td>\n",
              "      <td>5.019570e+05</td>\n",
              "      <td>5.523710e+05</td>\n",
              "      <td>8.158160e+05</td>\n",
              "    </tr>\n",
              "    <tr>\n",
              "      <th>new_vaccinations</th>\n",
              "      <td>49.0</td>\n",
              "      <td>3.757816e+05</td>\n",
              "      <td>1.169275e+05</td>\n",
              "      <td>1.508960e+05</td>\n",
              "      <td>2.886880e+05</td>\n",
              "      <td>3.669190e+05</td>\n",
              "      <td>4.805750e+05</td>\n",
              "      <td>6.090100e+05</td>\n",
              "    </tr>\n",
              "    <tr>\n",
              "      <th>new_vaccinations_smoothed</th>\n",
              "      <td>77.0</td>\n",
              "      <td>2.604195e+05</td>\n",
              "      <td>1.491720e+05</td>\n",
              "      <td>4.711200e+04</td>\n",
              "      <td>8.411700e+04</td>\n",
              "      <td>3.102460e+05</td>\n",
              "      <td>3.923610e+05</td>\n",
              "      <td>4.452040e+05</td>\n",
              "    </tr>\n",
              "    <tr>\n",
              "      <th>total_vaccinations_per_hundred</th>\n",
              "      <td>54.0</td>\n",
              "      <td>1.569426e+01</td>\n",
              "      <td>9.142145e+00</td>\n",
              "      <td>1.300000e-01</td>\n",
              "      <td>7.605000e+00</td>\n",
              "      <td>1.522000e+01</td>\n",
              "      <td>2.364500e+01</td>\n",
              "      <td>3.107000e+01</td>\n",
              "    </tr>\n",
              "    <tr>\n",
              "      <th>people_vaccinated_per_hundred</th>\n",
              "      <td>54.0</td>\n",
              "      <td>1.496778e+01</td>\n",
              "      <td>8.939084e+00</td>\n",
              "      <td>1.300000e-01</td>\n",
              "      <td>6.925000e+00</td>\n",
              "      <td>1.448500e+01</td>\n",
              "      <td>2.284000e+01</td>\n",
              "      <td>2.987000e+01</td>\n",
              "    </tr>\n",
              "    <tr>\n",
              "      <th>people_fully_vaccinated_per_hundred</th>\n",
              "      <td>51.0</td>\n",
              "      <td>7.678431e-01</td>\n",
              "      <td>1.773619e-01</td>\n",
              "      <td>3.000000e-02</td>\n",
              "      <td>6.900000e-01</td>\n",
              "      <td>7.400000e-01</td>\n",
              "      <td>8.100000e-01</td>\n",
              "      <td>1.200000e+00</td>\n",
              "    </tr>\n",
              "    <tr>\n",
              "      <th>new_vaccinations_smoothed_per_million</th>\n",
              "      <td>77.0</td>\n",
              "      <td>3.836130e+03</td>\n",
              "      <td>2.197453e+03</td>\n",
              "      <td>6.940000e+02</td>\n",
              "      <td>1.239000e+03</td>\n",
              "      <td>4.570000e+03</td>\n",
              "      <td>5.780000e+03</td>\n",
              "      <td>6.558000e+03</td>\n",
              "    </tr>\n",
              "    <tr>\n",
              "      <th>stringency_index</th>\n",
              "      <td>365.0</td>\n",
              "      <td>7.009060e+01</td>\n",
              "      <td>1.555417e+01</td>\n",
              "      <td>1.111000e+01</td>\n",
              "      <td>6.574000e+01</td>\n",
              "      <td>7.130000e+01</td>\n",
              "      <td>7.963000e+01</td>\n",
              "      <td>8.796000e+01</td>\n",
              "    </tr>\n",
              "    <tr>\n",
              "      <th>population</th>\n",
              "      <td>365.0</td>\n",
              "      <td>6.788600e+07</td>\n",
              "      <td>0.000000e+00</td>\n",
              "      <td>6.788600e+07</td>\n",
              "      <td>6.788600e+07</td>\n",
              "      <td>6.788600e+07</td>\n",
              "      <td>6.788600e+07</td>\n",
              "      <td>6.788600e+07</td>\n",
              "    </tr>\n",
              "    <tr>\n",
              "      <th>population_density</th>\n",
              "      <td>365.0</td>\n",
              "      <td>2.728980e+02</td>\n",
              "      <td>8.538217e-13</td>\n",
              "      <td>2.728980e+02</td>\n",
              "      <td>2.728980e+02</td>\n",
              "      <td>2.728980e+02</td>\n",
              "      <td>2.728980e+02</td>\n",
              "      <td>2.728980e+02</td>\n",
              "    </tr>\n",
              "    <tr>\n",
              "      <th>median_age</th>\n",
              "      <td>365.0</td>\n",
              "      <td>4.080000e+01</td>\n",
              "      <td>2.561465e-13</td>\n",
              "      <td>4.080000e+01</td>\n",
              "      <td>4.080000e+01</td>\n",
              "      <td>4.080000e+01</td>\n",
              "      <td>4.080000e+01</td>\n",
              "      <td>4.080000e+01</td>\n",
              "    </tr>\n",
              "    <tr>\n",
              "      <th>aged_65_older</th>\n",
              "      <td>365.0</td>\n",
              "      <td>1.851700e+01</td>\n",
              "      <td>1.102853e-13</td>\n",
              "      <td>1.851700e+01</td>\n",
              "      <td>1.851700e+01</td>\n",
              "      <td>1.851700e+01</td>\n",
              "      <td>1.851700e+01</td>\n",
              "      <td>1.851700e+01</td>\n",
              "    </tr>\n",
              "    <tr>\n",
              "      <th>aged_70_older</th>\n",
              "      <td>365.0</td>\n",
              "      <td>1.252700e+01</td>\n",
              "      <td>3.557590e-14</td>\n",
              "      <td>1.252700e+01</td>\n",
              "      <td>1.252700e+01</td>\n",
              "      <td>1.252700e+01</td>\n",
              "      <td>1.252700e+01</td>\n",
              "      <td>1.252700e+01</td>\n",
              "    </tr>\n",
              "    <tr>\n",
              "      <th>gdp_per_capita</th>\n",
              "      <td>365.0</td>\n",
              "      <td>3.975324e+04</td>\n",
              "      <td>3.424394e-10</td>\n",
              "      <td>3.975324e+04</td>\n",
              "      <td>3.975324e+04</td>\n",
              "      <td>3.975324e+04</td>\n",
              "      <td>3.975324e+04</td>\n",
              "      <td>3.975324e+04</td>\n",
              "    </tr>\n",
              "    <tr>\n",
              "      <th>extreme_poverty</th>\n",
              "      <td>365.0</td>\n",
              "      <td>2.000000e-01</td>\n",
              "      <td>1.361890e-15</td>\n",
              "      <td>2.000000e-01</td>\n",
              "      <td>2.000000e-01</td>\n",
              "      <td>2.000000e-01</td>\n",
              "      <td>2.000000e-01</td>\n",
              "      <td>2.000000e-01</td>\n",
              "    </tr>\n",
              "    <tr>\n",
              "      <th>cardiovasc_death_rate</th>\n",
              "      <td>365.0</td>\n",
              "      <td>1.221370e+02</td>\n",
              "      <td>3.130680e-13</td>\n",
              "      <td>1.221370e+02</td>\n",
              "      <td>1.221370e+02</td>\n",
              "      <td>1.221370e+02</td>\n",
              "      <td>1.221370e+02</td>\n",
              "      <td>1.221370e+02</td>\n",
              "    </tr>\n",
              "    <tr>\n",
              "      <th>diabetes_prevalence</th>\n",
              "      <td>365.0</td>\n",
              "      <td>4.280000e+00</td>\n",
              "      <td>2.223494e-14</td>\n",
              "      <td>4.280000e+00</td>\n",
              "      <td>4.280000e+00</td>\n",
              "      <td>4.280000e+00</td>\n",
              "      <td>4.280000e+00</td>\n",
              "      <td>4.280000e+00</td>\n",
              "    </tr>\n",
              "    <tr>\n",
              "      <th>female_smokers</th>\n",
              "      <td>365.0</td>\n",
              "      <td>2.000000e+01</td>\n",
              "      <td>0.000000e+00</td>\n",
              "      <td>2.000000e+01</td>\n",
              "      <td>2.000000e+01</td>\n",
              "      <td>2.000000e+01</td>\n",
              "      <td>2.000000e+01</td>\n",
              "      <td>2.000000e+01</td>\n",
              "    </tr>\n",
              "    <tr>\n",
              "      <th>male_smokers</th>\n",
              "      <td>365.0</td>\n",
              "      <td>2.470000e+01</td>\n",
              "      <td>4.980627e-14</td>\n",
              "      <td>2.470000e+01</td>\n",
              "      <td>2.470000e+01</td>\n",
              "      <td>2.470000e+01</td>\n",
              "      <td>2.470000e+01</td>\n",
              "      <td>2.470000e+01</td>\n",
              "    </tr>\n",
              "    <tr>\n",
              "      <th>handwashing_facilities</th>\n",
              "      <td>0.0</td>\n",
              "      <td>NaN</td>\n",
              "      <td>NaN</td>\n",
              "      <td>NaN</td>\n",
              "      <td>NaN</td>\n",
              "      <td>NaN</td>\n",
              "      <td>NaN</td>\n",
              "      <td>NaN</td>\n",
              "    </tr>\n",
              "    <tr>\n",
              "      <th>hospital_beds_per_thousand</th>\n",
              "      <td>365.0</td>\n",
              "      <td>2.540000e+00</td>\n",
              "      <td>1.156217e-14</td>\n",
              "      <td>2.540000e+00</td>\n",
              "      <td>2.540000e+00</td>\n",
              "      <td>2.540000e+00</td>\n",
              "      <td>2.540000e+00</td>\n",
              "      <td>2.540000e+00</td>\n",
              "    </tr>\n",
              "    <tr>\n",
              "      <th>life_expectancy</th>\n",
              "      <td>365.0</td>\n",
              "      <td>8.132000e+01</td>\n",
              "      <td>2.276858e-13</td>\n",
              "      <td>8.132000e+01</td>\n",
              "      <td>8.132000e+01</td>\n",
              "      <td>8.132000e+01</td>\n",
              "      <td>8.132000e+01</td>\n",
              "      <td>8.132000e+01</td>\n",
              "    </tr>\n",
              "    <tr>\n",
              "      <th>human_development_index</th>\n",
              "      <td>365.0</td>\n",
              "      <td>9.320000e-01</td>\n",
              "      <td>0.000000e+00</td>\n",
              "      <td>9.320000e-01</td>\n",
              "      <td>9.320000e-01</td>\n",
              "      <td>9.320000e-01</td>\n",
              "      <td>9.320000e-01</td>\n",
              "      <td>9.320000e-01</td>\n",
              "    </tr>\n",
              "    <tr>\n",
              "      <th>case_population_ratio</th>\n",
              "      <td>365.0</td>\n",
              "      <td>1.570123e-02</td>\n",
              "      <td>1.884806e-02</td>\n",
              "      <td>1.384674e-06</td>\n",
              "      <td>3.793698e-03</td>\n",
              "      <td>4.959314e-03</td>\n",
              "      <td>2.388280e-02</td>\n",
              "      <td>6.170384e-02</td>\n",
              "    </tr>\n",
              "    <tr>\n",
              "      <th>case_population_density_ratio</th>\n",
              "      <td>365.0</td>\n",
              "      <td>3.905832e+03</td>\n",
              "      <td>4.688637e+03</td>\n",
              "      <td>3.444510e-01</td>\n",
              "      <td>9.437189e+02</td>\n",
              "      <td>1.233677e+03</td>\n",
              "      <td>5.941077e+03</td>\n",
              "      <td>1.534942e+04</td>\n",
              "    </tr>\n",
              "  </tbody>\n",
              "</table>\n",
              "</div>"
            ],
            "text/plain": [
              "                                       count  ...           max\n",
              "total_cases                            365.0  ...  4.188827e+06\n",
              "new_cases                              365.0  ...  6.819200e+04\n",
              "new_cases_smoothed                     365.0  ...  5.982857e+04\n",
              "total_deaths                           360.0  ...  1.230830e+05\n",
              "new_deaths                             360.0  ...  1.826000e+03\n",
              "new_deaths_smoothed                    365.0  ...  1.253000e+03\n",
              "total_cases_per_million                365.0  ...  6.170384e+04\n",
              "new_cases_per_million                  365.0  ...  1.004507e+03\n",
              "new_cases_smoothed_per_million         365.0  ...  8.813090e+02\n",
              "total_deaths_per_million               360.0  ...  1.813084e+03\n",
              "new_deaths_per_million                 360.0  ...  2.689800e+01\n",
              "new_deaths_smoothed_per_million        365.0  ...  1.845700e+01\n",
              "reproduction_rate                      363.0  ...  4.350000e+00\n",
              "icu_patients                           333.0  ...  4.077000e+03\n",
              "icu_patients_per_million               333.0  ...  6.005700e+01\n",
              "hosp_patients                          339.0  ...  3.924800e+04\n",
              "hosp_patients_per_million              339.0  ...  5.781460e+02\n",
              "weekly_icu_admissions                    0.0  ...           NaN\n",
              "weekly_icu_admissions_per_million        0.0  ...           NaN\n",
              "weekly_hosp_admissions                  49.0  ...  2.879200e+04\n",
              "weekly_hosp_admissions_per_million      49.0  ...  4.241230e+02\n",
              "new_tests                              335.0  ...  8.019490e+05\n",
              "total_tests                            335.0  ...  8.749689e+07\n",
              "total_tests_per_thousand               335.0  ...  1.288880e+03\n",
              "new_tests_per_thousand                 335.0  ...  1.181300e+01\n",
              "new_tests_smoothed                     328.0  ...  6.718930e+05\n",
              "new_tests_smoothed_per_thousand        328.0  ...  9.897000e+00\n",
              "positive_rate                          328.0  ...  3.000000e-01\n",
              "tests_per_case                         328.0  ...  3.251000e+02\n",
              "total_vaccinations                      54.0  ...  2.109127e+07\n",
              "people_vaccinated                       54.0  ...  2.027545e+07\n",
              "people_fully_vaccinated                 51.0  ...  8.158160e+05\n",
              "new_vaccinations                        49.0  ...  6.090100e+05\n",
              "new_vaccinations_smoothed               77.0  ...  4.452040e+05\n",
              "total_vaccinations_per_hundred          54.0  ...  3.107000e+01\n",
              "people_vaccinated_per_hundred           54.0  ...  2.987000e+01\n",
              "people_fully_vaccinated_per_hundred     51.0  ...  1.200000e+00\n",
              "new_vaccinations_smoothed_per_million   77.0  ...  6.558000e+03\n",
              "stringency_index                       365.0  ...  8.796000e+01\n",
              "population                             365.0  ...  6.788600e+07\n",
              "population_density                     365.0  ...  2.728980e+02\n",
              "median_age                             365.0  ...  4.080000e+01\n",
              "aged_65_older                          365.0  ...  1.851700e+01\n",
              "aged_70_older                          365.0  ...  1.252700e+01\n",
              "gdp_per_capita                         365.0  ...  3.975324e+04\n",
              "extreme_poverty                        365.0  ...  2.000000e-01\n",
              "cardiovasc_death_rate                  365.0  ...  1.221370e+02\n",
              "diabetes_prevalence                    365.0  ...  4.280000e+00\n",
              "female_smokers                         365.0  ...  2.000000e+01\n",
              "male_smokers                           365.0  ...  2.470000e+01\n",
              "handwashing_facilities                   0.0  ...           NaN\n",
              "hospital_beds_per_thousand             365.0  ...  2.540000e+00\n",
              "life_expectancy                        365.0  ...  8.132000e+01\n",
              "human_development_index                365.0  ...  9.320000e-01\n",
              "case_population_ratio                  365.0  ...  6.170384e-02\n",
              "case_population_density_ratio          365.0  ...  1.534942e+04\n",
              "\n",
              "[56 rows x 8 columns]"
            ]
          },
          "metadata": {
            "tags": []
          },
          "execution_count": 7
        }
      ]
    },
    {
      "cell_type": "markdown",
      "metadata": {
        "id": "aX2VnpmZWcgd"
      },
      "source": [
        "### Missing Data and Constant Value Data\n",
        "\n",
        "#### Missing Data\n",
        "We can see that not all of the features have the count of 365 (some missing data). This is because of a few reasons.\n",
        "\n",
        "1.   Not all the data are available from the earlier stage of the pandemic\n",
        "2.   The dataset is collected from the whole world\n",
        "3.   Not all the features are updated daily\n",
        "\n",
        "For example, there is no data related to vaccination in the earlier stage of the pandemic.\n",
        "\n",
        "There are methods to compensate for missing data, for example fill by mean, forward/backward filling or fill by 0. In this case, the data we have are time series data, fill by mean won't be a good option. Also, I have decided to drop features where there are too many missing data and only apply filling to features which have only a few missing data.\n",
        "\n",
        "One thing to note is the feature `handwashing_facilities`, this have 0 count.There is because the dataset is collected from the whole world, other country might have data for `handwashing_facilities`, but the UK doesn't.\n",
        "\n",
        "#### Constant Value Data\n",
        "Besides of the missing data, there are data which are constants. For example features like `population` and `median_age`.\n",
        "This is because the dataset contain the data across the whole world, these data are useful when we are considering in a global scale, but not that useful when we are focusing on the United Kingdom.\n",
        "\n",
        "There are also a few features which are smoothed data or per million data, these data wouldn't be included as these data are similar to the non-smoothed data."
      ]
    },
    {
      "cell_type": "code",
      "metadata": {
        "id": "TocdKJQbv4lH"
      },
      "source": [
        "# Drop country dependent columns such as \"iso_code\", \"continent\", \"location\" as data is only for UK\n",
        "df_uk = df_uk.drop([\"iso_code\", \"continent\", \"location\"], axis=1)\n",
        "\n",
        "# Drop columns which are constant across the range of date\n",
        "df_uk = df_uk.drop([\"population\", \"median_age\", \"aged_65_older\", \"aged_70_older\", \"gdp_per_capita\",\n",
        "                    \"extreme_poverty\", \"cardiovasc_death_rate\", \"diabetes_prevalence\", \"female_smokers\", \"male_smokers\",\n",
        "                    \"hospital_beds_per_thousand\", \"life_expectancy\", \"human_development_index\", \"population_density\"], axis=1)\n",
        "\n",
        "# Drop columns which can't be fill with data before or after\n",
        "df_uk = df_uk.drop([\"people_vaccinated\", \"people_fully_vaccinated\", \"new_vaccinations_smoothed\", \"handwashing_facilities\",\n",
        "                    \"people_vaccinated_per_hundred\", \"people_fully_vaccinated_per_hundred\",\n",
        "                    \"new_vaccinations_smoothed_per_million\", \"weekly_icu_admissions\", \"weekly_icu_admissions_per_million\",\n",
        "                    \"weekly_hosp_admissions\", \"weekly_hosp_admissions_per_million\", \"total_vaccinations\",\"new_vaccinations\",\n",
        "                    \"total_vaccinations_per_hundred\", \"icu_patients\", \"hosp_patients\",\"new_tests\", \"total_tests\", \"positive_rate\", \n",
        "                    \"tests_units\", \"tests_per_case\"], axis=1)\n",
        "\n",
        "# Drop columns which are smoothed data or per million data.\n",
        "df_uk = df_uk.drop([\"new_cases_smoothed\", \"new_deaths_smoothed\", \"total_cases_per_million\", \"new_cases_per_million\",\n",
        "                    \"new_cases_smoothed_per_million\",\"total_deaths_per_million\",\"new_deaths_per_million\",\"new_deaths_smoothed_per_million\",\n",
        "                    \"icu_patients_per_million\", \"hosp_patients_per_million\",\"total_tests_per_thousand\", \"new_tests_per_thousand\", \n",
        "                    \"new_tests_smoothed\", \"new_tests_smoothed_per_thousand\"], axis=1)"
      ],
      "execution_count": null,
      "outputs": []
    },
    {
      "cell_type": "markdown",
      "metadata": {
        "id": "bw6kHJuJUvTS"
      },
      "source": [
        "### Filling in missing data\n",
        "\n",
        "After dropping features which we are not interested, we can now fill in the missing data by forward/backward filling or fill by 0."
      ]
    },
    {
      "cell_type": "code",
      "metadata": {
        "colab": {
          "base_uri": "https://localhost:8080/",
          "height": 226
        },
        "id": "PhgR_TmMovuN",
        "outputId": "75e621fe-c0bc-4467-b1f2-6c91493e2648"
      },
      "source": [
        "df_uk.head()"
      ],
      "execution_count": null,
      "outputs": [
        {
          "output_type": "execute_result",
          "data": {
            "text/html": [
              "<div>\n",
              "<style scoped>\n",
              "    .dataframe tbody tr th:only-of-type {\n",
              "        vertical-align: middle;\n",
              "    }\n",
              "\n",
              "    .dataframe tbody tr th {\n",
              "        vertical-align: top;\n",
              "    }\n",
              "\n",
              "    .dataframe thead th {\n",
              "        text-align: right;\n",
              "    }\n",
              "</style>\n",
              "<table border=\"1\" class=\"dataframe\">\n",
              "  <thead>\n",
              "    <tr style=\"text-align: right;\">\n",
              "      <th></th>\n",
              "      <th>date</th>\n",
              "      <th>total_cases</th>\n",
              "      <th>new_cases</th>\n",
              "      <th>total_deaths</th>\n",
              "      <th>new_deaths</th>\n",
              "      <th>reproduction_rate</th>\n",
              "      <th>stringency_index</th>\n",
              "      <th>case_population_ratio</th>\n",
              "      <th>case_population_density_ratio</th>\n",
              "    </tr>\n",
              "  </thead>\n",
              "  <tbody>\n",
              "    <tr>\n",
              "      <th>71853</th>\n",
              "      <td>2020-03-01</td>\n",
              "      <td>94.0</td>\n",
              "      <td>33.0</td>\n",
              "      <td>NaN</td>\n",
              "      <td>NaN</td>\n",
              "      <td>NaN</td>\n",
              "      <td>11.11</td>\n",
              "      <td>0.000001</td>\n",
              "      <td>0.344451</td>\n",
              "    </tr>\n",
              "    <tr>\n",
              "      <th>71854</th>\n",
              "      <td>2020-03-02</td>\n",
              "      <td>134.0</td>\n",
              "      <td>40.0</td>\n",
              "      <td>NaN</td>\n",
              "      <td>NaN</td>\n",
              "      <td>NaN</td>\n",
              "      <td>11.11</td>\n",
              "      <td>0.000002</td>\n",
              "      <td>0.491026</td>\n",
              "    </tr>\n",
              "    <tr>\n",
              "      <th>71855</th>\n",
              "      <td>2020-03-03</td>\n",
              "      <td>189.0</td>\n",
              "      <td>55.0</td>\n",
              "      <td>NaN</td>\n",
              "      <td>NaN</td>\n",
              "      <td>2.71</td>\n",
              "      <td>11.11</td>\n",
              "      <td>0.000003</td>\n",
              "      <td>0.692566</td>\n",
              "    </tr>\n",
              "    <tr>\n",
              "      <th>71856</th>\n",
              "      <td>2020-03-04</td>\n",
              "      <td>246.0</td>\n",
              "      <td>57.0</td>\n",
              "      <td>NaN</td>\n",
              "      <td>NaN</td>\n",
              "      <td>2.34</td>\n",
              "      <td>11.11</td>\n",
              "      <td>0.000004</td>\n",
              "      <td>0.901436</td>\n",
              "    </tr>\n",
              "    <tr>\n",
              "      <th>71857</th>\n",
              "      <td>2020-03-05</td>\n",
              "      <td>295.0</td>\n",
              "      <td>49.0</td>\n",
              "      <td>NaN</td>\n",
              "      <td>NaN</td>\n",
              "      <td>1.95</td>\n",
              "      <td>11.11</td>\n",
              "      <td>0.000004</td>\n",
              "      <td>1.080990</td>\n",
              "    </tr>\n",
              "  </tbody>\n",
              "</table>\n",
              "</div>"
            ],
            "text/plain": [
              "            date  ...  case_population_density_ratio\n",
              "71853 2020-03-01  ...                       0.344451\n",
              "71854 2020-03-02  ...                       0.491026\n",
              "71855 2020-03-03  ...                       0.692566\n",
              "71856 2020-03-04  ...                       0.901436\n",
              "71857 2020-03-05  ...                       1.080990\n",
              "\n",
              "[5 rows x 9 columns]"
            ]
          },
          "metadata": {
            "tags": []
          },
          "execution_count": 9
        }
      ]
    },
    {
      "cell_type": "code",
      "metadata": {
        "colab": {
          "base_uri": "https://localhost:8080/",
          "height": 226
        },
        "id": "CUWA_uE4f7hA",
        "outputId": "afee2ab0-ec39-47c4-9a9b-3643b39a430f"
      },
      "source": [
        "df_uk.tail()"
      ],
      "execution_count": null,
      "outputs": [
        {
          "output_type": "execute_result",
          "data": {
            "text/html": [
              "<div>\n",
              "<style scoped>\n",
              "    .dataframe tbody tr th:only-of-type {\n",
              "        vertical-align: middle;\n",
              "    }\n",
              "\n",
              "    .dataframe tbody tr th {\n",
              "        vertical-align: top;\n",
              "    }\n",
              "\n",
              "    .dataframe thead th {\n",
              "        text-align: right;\n",
              "    }\n",
              "</style>\n",
              "<table border=\"1\" class=\"dataframe\">\n",
              "  <thead>\n",
              "    <tr style=\"text-align: right;\">\n",
              "      <th></th>\n",
              "      <th>date</th>\n",
              "      <th>total_cases</th>\n",
              "      <th>new_cases</th>\n",
              "      <th>total_deaths</th>\n",
              "      <th>new_deaths</th>\n",
              "      <th>reproduction_rate</th>\n",
              "      <th>stringency_index</th>\n",
              "      <th>case_population_ratio</th>\n",
              "      <th>case_population_density_ratio</th>\n",
              "    </tr>\n",
              "  </thead>\n",
              "  <tbody>\n",
              "    <tr>\n",
              "      <th>72213</th>\n",
              "      <td>2021-02-24</td>\n",
              "      <td>4156707.0</td>\n",
              "      <td>9947.0</td>\n",
              "      <td>121979.0</td>\n",
              "      <td>443.0</td>\n",
              "      <td>0.81</td>\n",
              "      <td>86.11</td>\n",
              "      <td>0.061231</td>\n",
              "      <td>15231.723941</td>\n",
              "    </tr>\n",
              "    <tr>\n",
              "      <th>72214</th>\n",
              "      <td>2021-02-25</td>\n",
              "      <td>4166727.0</td>\n",
              "      <td>10020.0</td>\n",
              "      <td>122303.0</td>\n",
              "      <td>324.0</td>\n",
              "      <td>0.82</td>\n",
              "      <td>86.11</td>\n",
              "      <td>0.061378</td>\n",
              "      <td>15268.440956</td>\n",
              "    </tr>\n",
              "    <tr>\n",
              "      <th>72215</th>\n",
              "      <td>2021-02-26</td>\n",
              "      <td>4175315.0</td>\n",
              "      <td>8588.0</td>\n",
              "      <td>122648.0</td>\n",
              "      <td>345.0</td>\n",
              "      <td>0.75</td>\n",
              "      <td>86.11</td>\n",
              "      <td>0.061505</td>\n",
              "      <td>15299.910589</td>\n",
              "    </tr>\n",
              "    <tr>\n",
              "      <th>72216</th>\n",
              "      <td>2021-02-27</td>\n",
              "      <td>4182772.0</td>\n",
              "      <td>7457.0</td>\n",
              "      <td>122939.0</td>\n",
              "      <td>291.0</td>\n",
              "      <td>0.68</td>\n",
              "      <td>86.11</td>\n",
              "      <td>0.061615</td>\n",
              "      <td>15327.235817</td>\n",
              "    </tr>\n",
              "    <tr>\n",
              "      <th>72217</th>\n",
              "      <td>2021-02-28</td>\n",
              "      <td>4188827.0</td>\n",
              "      <td>6055.0</td>\n",
              "      <td>123083.0</td>\n",
              "      <td>144.0</td>\n",
              "      <td>0.61</td>\n",
              "      <td>86.11</td>\n",
              "      <td>0.061704</td>\n",
              "      <td>15349.423594</td>\n",
              "    </tr>\n",
              "  </tbody>\n",
              "</table>\n",
              "</div>"
            ],
            "text/plain": [
              "            date  ...  case_population_density_ratio\n",
              "72213 2021-02-24  ...                   15231.723941\n",
              "72214 2021-02-25  ...                   15268.440956\n",
              "72215 2021-02-26  ...                   15299.910589\n",
              "72216 2021-02-27  ...                   15327.235817\n",
              "72217 2021-02-28  ...                   15349.423594\n",
              "\n",
              "[5 rows x 9 columns]"
            ]
          },
          "metadata": {
            "tags": []
          },
          "execution_count": 10
        }
      ]
    },
    {
      "cell_type": "code",
      "metadata": {
        "id": "pnrQj-_In6zD"
      },
      "source": [
        "df_uk['total_deaths'] = df_uk['total_deaths'].fillna(0)\n",
        "df_uk['new_deaths'] = df_uk['new_deaths'].fillna(0)\n",
        "df_uk['reproduction_rate'] = df_uk['reproduction_rate'].fillna(method='bfill')\n",
        "df_uk['stringency_index'] = df_uk['stringency_index'].fillna(method='ffill')"
      ],
      "execution_count": null,
      "outputs": []
    },
    {
      "cell_type": "code",
      "metadata": {
        "colab": {
          "base_uri": "https://localhost:8080/",
          "height": 300
        },
        "id": "gvPScJ8hiJOc",
        "outputId": "4ceb7cae-9991-46b9-dd47-08953c078ba8"
      },
      "source": [
        "df_uk.describe().transpose()"
      ],
      "execution_count": null,
      "outputs": [
        {
          "output_type": "execute_result",
          "data": {
            "text/html": [
              "<div>\n",
              "<style scoped>\n",
              "    .dataframe tbody tr th:only-of-type {\n",
              "        vertical-align: middle;\n",
              "    }\n",
              "\n",
              "    .dataframe tbody tr th {\n",
              "        vertical-align: top;\n",
              "    }\n",
              "\n",
              "    .dataframe thead th {\n",
              "        text-align: right;\n",
              "    }\n",
              "</style>\n",
              "<table border=\"1\" class=\"dataframe\">\n",
              "  <thead>\n",
              "    <tr style=\"text-align: right;\">\n",
              "      <th></th>\n",
              "      <th>count</th>\n",
              "      <th>mean</th>\n",
              "      <th>std</th>\n",
              "      <th>min</th>\n",
              "      <th>25%</th>\n",
              "      <th>50%</th>\n",
              "      <th>75%</th>\n",
              "      <th>max</th>\n",
              "    </tr>\n",
              "  </thead>\n",
              "  <tbody>\n",
              "    <tr>\n",
              "      <th>total_cases</th>\n",
              "      <td>365.0</td>\n",
              "      <td>1.065894e+06</td>\n",
              "      <td>1.279520e+06</td>\n",
              "      <td>94.000000</td>\n",
              "      <td>257539.000000</td>\n",
              "      <td>336668.000000</td>\n",
              "      <td>1.621308e+06</td>\n",
              "      <td>4.188827e+06</td>\n",
              "    </tr>\n",
              "    <tr>\n",
              "      <th>new_cases</th>\n",
              "      <td>365.0</td>\n",
              "      <td>1.147607e+04</td>\n",
              "      <td>1.429730e+04</td>\n",
              "      <td>6.000000</td>\n",
              "      <td>1110.000000</td>\n",
              "      <td>4378.000000</td>\n",
              "      <td>1.866800e+04</td>\n",
              "      <td>6.819200e+04</td>\n",
              "    </tr>\n",
              "    <tr>\n",
              "      <th>total_deaths</th>\n",
              "      <td>365.0</td>\n",
              "      <td>4.794435e+04</td>\n",
              "      <td>2.956257e+04</td>\n",
              "      <td>0.000000</td>\n",
              "      <td>37527.000000</td>\n",
              "      <td>41586.000000</td>\n",
              "      <td>5.834200e+04</td>\n",
              "      <td>1.230830e+05</td>\n",
              "    </tr>\n",
              "    <tr>\n",
              "      <th>new_deaths</th>\n",
              "      <td>365.0</td>\n",
              "      <td>3.372137e+02</td>\n",
              "      <td>3.850958e+02</td>\n",
              "      <td>0.000000</td>\n",
              "      <td>27.000000</td>\n",
              "      <td>191.000000</td>\n",
              "      <td>5.320000e+02</td>\n",
              "      <td>1.826000e+03</td>\n",
              "    </tr>\n",
              "    <tr>\n",
              "      <th>reproduction_rate</th>\n",
              "      <td>365.0</td>\n",
              "      <td>1.147397e+00</td>\n",
              "      <td>4.994756e-01</td>\n",
              "      <td>0.230000</td>\n",
              "      <td>0.840000</td>\n",
              "      <td>1.070000</td>\n",
              "      <td>1.290000e+00</td>\n",
              "      <td>4.350000e+00</td>\n",
              "    </tr>\n",
              "    <tr>\n",
              "      <th>stringency_index</th>\n",
              "      <td>365.0</td>\n",
              "      <td>7.009060e+01</td>\n",
              "      <td>1.555417e+01</td>\n",
              "      <td>11.110000</td>\n",
              "      <td>65.740000</td>\n",
              "      <td>71.300000</td>\n",
              "      <td>7.963000e+01</td>\n",
              "      <td>8.796000e+01</td>\n",
              "    </tr>\n",
              "    <tr>\n",
              "      <th>case_population_ratio</th>\n",
              "      <td>365.0</td>\n",
              "      <td>1.570123e-02</td>\n",
              "      <td>1.884806e-02</td>\n",
              "      <td>0.000001</td>\n",
              "      <td>0.003794</td>\n",
              "      <td>0.004959</td>\n",
              "      <td>2.388280e-02</td>\n",
              "      <td>6.170384e-02</td>\n",
              "    </tr>\n",
              "    <tr>\n",
              "      <th>case_population_density_ratio</th>\n",
              "      <td>365.0</td>\n",
              "      <td>3.905832e+03</td>\n",
              "      <td>4.688637e+03</td>\n",
              "      <td>0.344451</td>\n",
              "      <td>943.718899</td>\n",
              "      <td>1233.677051</td>\n",
              "      <td>5.941077e+03</td>\n",
              "      <td>1.534942e+04</td>\n",
              "    </tr>\n",
              "  </tbody>\n",
              "</table>\n",
              "</div>"
            ],
            "text/plain": [
              "                               count          mean  ...           75%           max\n",
              "total_cases                    365.0  1.065894e+06  ...  1.621308e+06  4.188827e+06\n",
              "new_cases                      365.0  1.147607e+04  ...  1.866800e+04  6.819200e+04\n",
              "total_deaths                   365.0  4.794435e+04  ...  5.834200e+04  1.230830e+05\n",
              "new_deaths                     365.0  3.372137e+02  ...  5.320000e+02  1.826000e+03\n",
              "reproduction_rate              365.0  1.147397e+00  ...  1.290000e+00  4.350000e+00\n",
              "stringency_index               365.0  7.009060e+01  ...  7.963000e+01  8.796000e+01\n",
              "case_population_ratio          365.0  1.570123e-02  ...  2.388280e-02  6.170384e-02\n",
              "case_population_density_ratio  365.0  3.905832e+03  ...  5.941077e+03  1.534942e+04\n",
              "\n",
              "[8 rows x 8 columns]"
            ]
          },
          "metadata": {
            "tags": []
          },
          "execution_count": 12
        }
      ]
    },
    {
      "cell_type": "markdown",
      "metadata": {
        "id": "aGBhWtPMbEeR"
      },
      "source": [
        "### Data Visualisation\n",
        "\n",
        "We have now preprocessed the data, let's visualise them."
      ]
    },
    {
      "cell_type": "code",
      "metadata": {
        "colab": {
          "base_uri": "https://localhost:8080/",
          "height": 814
        },
        "id": "xb-Dlc1Xi0ok",
        "outputId": "7527d36f-7979-4279-b6a2-a8c2b7b98969"
      },
      "source": [
        "date_time = df_uk['date']\n",
        "date_time = pd.to_datetime(date_time)\n",
        "\n",
        "plot_cols_1 = [\"total_cases\", \"total_deaths\",\"new_cases\",\"new_deaths\"]\n",
        "plot_cols_2 = [\"case_population_ratio\",\"case_population_density_ratio\"]\n",
        "plot_cols_3 = [\"reproduction_rate\", \"stringency_index\"]\n",
        "plot_features = df_uk[plot_cols_1]\n",
        "plot_features.index = date_time\n",
        "_ = plot_features.plot(subplots=True)\n",
        "\n",
        "plot_features = df_uk[plot_cols_2]\n",
        "plot_features.index = date_time\n",
        "_ = plot_features.plot(subplots=True)\n",
        "\n",
        "plot_features = df_uk[plot_cols_3]\n",
        "plot_features.index = date_time\n",
        "_ = plot_features.plot(subplots=True)"
      ],
      "execution_count": null,
      "outputs": [
        {
          "output_type": "display_data",
          "data": {
            "image/png": "[encoded data removed]",
            "text/plain": [
              "<Figure size 432x288 with 4 Axes>"
            ]
          },
          "metadata": {
            "tags": [],
            "needs_background": "light"
          }
        },
        {
          "output_type": "display_data",
          "data": {
            "image/png": "[encoded data removed]",
            "text/plain": [
              "<Figure size 432x288 with 2 Axes>"
            ]
          },
          "metadata": {
            "tags": [],
            "needs_background": "light"
          }
        },
        {
          "output_type": "display_data",
          "data": {
            "image/png": "[encoded data removed]",
            "text/plain": [
              "<Figure size 432x288 with 2 Axes>"
            ]
          },
          "metadata": {
            "tags": [],
            "needs_background": "light"
          }
        }
      ]
    },
    {
      "cell_type": "markdown",
      "metadata": {
        "id": "LzgcLBV-Wisr"
      },
      "source": [
        "## The correlation between the features\n",
        "A heat map can be plotted to see the correaltion between the features."
      ]
    },
    {
      "cell_type": "code",
      "metadata": {
        "colab": {
          "base_uri": "https://localhost:8080/",
          "height": 935
        },
        "id": "s1SSZl8idvjz",
        "outputId": "a560972f-00e9-47fd-d689-3be21a028677"
      },
      "source": [
        "import seaborn as sb\n",
        "import matplotlib.pyplot as plt\n",
        "C_mat = df_uk.corr()\n",
        "fig = plt.figure(figsize = (15,15))\n",
        "\n",
        "sb.heatmap(C_mat, vmax = .8, square = True)\n",
        "plt.show()"
      ],
      "execution_count": null,
      "outputs": [
        {
          "output_type": "display_data",
          "data": {
            "image/png": "[encoded data removed]",
            "text/plain": [
              "<Figure size 1080x1080 with 2 Axes>"
            ]
          },
          "metadata": {
            "tags": [],
            "needs_background": "light"
          }
        }
      ]
    },
    {
      "cell_type": "markdown",
      "metadata": {
        "id": "RA31dmcbHiR2"
      },
      "source": [
        "From the correlation heat map above, we see that about 6 features are highly correlated with the `total_cases`.\n"
      ]
    },
    {
      "cell_type": "markdown",
      "metadata": {
        "id": "5UHGF7fZa4G2"
      },
      "source": [
        "### Save the csv\n",
        "Let's save our processed data into a new csv."
      ]
    },
    {
      "cell_type": "code",
      "metadata": {
        "id": "xNEt6BHKoBVP"
      },
      "source": [
        "df_uk.to_csv('owid-covid-data_uk.csv', index=False)"
      ],
      "execution_count": null,
      "outputs": []
    },
    {
      "cell_type": "markdown",
      "metadata": {
        "id": "e4ZdMk4eHvEc"
      },
      "source": [
        "# Machine learning Framework\n",
        "![ml_pic_1.png](data:image/png;base64,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)\n",
        "\n",
        "The approach that I am using in this project is shown in the diagram above. We will read the data for first n days and then predict for the n+1 day. Then we will hop ahead by one day and read the next chunk of data for next n days. In this project, I will take n = 14, which mean I use the data for the first 14 days and predict fot the 15th day. Hence this is a **Single step model**. And this single step model can be used to generate a sequence of data points in the future, this will be covered in the Prepare test dataset section.\n",
        "\n",
        "The necessary python libraries are imported here-\n",
        "\n",
        "* `numpy` is used to perform basic array operations\n",
        "* `pyplot` from `matplotlib` is used to visualize the results\n",
        "* `pandas` is used to read the dataset\n",
        "* `MinMaxScaler` from `sklearn` is used scale the data"
      ]
    },
    {
      "cell_type": "code",
      "metadata": {
        "id": "CL6Cl6HtXvCe"
      },
      "source": [
        "import numpy as np\n",
        "import matplotlib.pyplot as plt\n",
        "import matplotlib.dates as mdates\n",
        "import pandas as pd\n",
        "from sklearn.preprocessing import MinMaxScaler"
      ],
      "execution_count": null,
      "outputs": []
    },
    {
      "cell_type": "code",
      "metadata": {
        "id": "C9-3a0ShH7nI"
      },
      "source": [
        "data = pd.read_csv('owid-covid-data_uk.csv', date_parser = True)"
      ],
      "execution_count": null,
      "outputs": []
    },
    {
      "cell_type": "code",
      "metadata": {
        "colab": {
          "base_uri": "https://localhost:8080/",
          "height": 226
        },
        "id": "DlR2Tj10IC8h",
        "outputId": "1c48d90d-f5cc-4b18-f407-7789f33ffc35"
      },
      "source": [
        "data.head()"
      ],
      "execution_count": null,
      "outputs": [
        {
          "output_type": "execute_result",
          "data": {
            "text/html": [
              "<div>\n",
              "<style scoped>\n",
              "    .dataframe tbody tr th:only-of-type {\n",
              "        vertical-align: middle;\n",
              "    }\n",
              "\n",
              "    .dataframe tbody tr th {\n",
              "        vertical-align: top;\n",
              "    }\n",
              "\n",
              "    .dataframe thead th {\n",
              "        text-align: right;\n",
              "    }\n",
              "</style>\n",
              "<table border=\"1\" class=\"dataframe\">\n",
              "  <thead>\n",
              "    <tr style=\"text-align: right;\">\n",
              "      <th></th>\n",
              "      <th>date</th>\n",
              "      <th>total_cases</th>\n",
              "      <th>new_cases</th>\n",
              "      <th>total_deaths</th>\n",
              "      <th>new_deaths</th>\n",
              "      <th>reproduction_rate</th>\n",
              "      <th>stringency_index</th>\n",
              "      <th>case_population_ratio</th>\n",
              "      <th>case_population_density_ratio</th>\n",
              "    </tr>\n",
              "  </thead>\n",
              "  <tbody>\n",
              "    <tr>\n",
              "      <th>0</th>\n",
              "      <td>2020-03-01</td>\n",
              "      <td>94.0</td>\n",
              "      <td>33.0</td>\n",
              "      <td>0.0</td>\n",
              "      <td>0.0</td>\n",
              "      <td>2.71</td>\n",
              "      <td>11.11</td>\n",
              "      <td>0.000001</td>\n",
              "      <td>0.344451</td>\n",
              "    </tr>\n",
              "    <tr>\n",
              "      <th>1</th>\n",
              "      <td>2020-03-02</td>\n",
              "      <td>134.0</td>\n",
              "      <td>40.0</td>\n",
              "      <td>0.0</td>\n",
              "      <td>0.0</td>\n",
              "      <td>2.71</td>\n",
              "      <td>11.11</td>\n",
              "      <td>0.000002</td>\n",
              "      <td>0.491026</td>\n",
              "    </tr>\n",
              "    <tr>\n",
              "      <th>2</th>\n",
              "      <td>2020-03-03</td>\n",
              "      <td>189.0</td>\n",
              "      <td>55.0</td>\n",
              "      <td>0.0</td>\n",
              "      <td>0.0</td>\n",
              "      <td>2.71</td>\n",
              "      <td>11.11</td>\n",
              "      <td>0.000003</td>\n",
              "      <td>0.692566</td>\n",
              "    </tr>\n",
              "    <tr>\n",
              "      <th>3</th>\n",
              "      <td>2020-03-04</td>\n",
              "      <td>246.0</td>\n",
              "      <td>57.0</td>\n",
              "      <td>0.0</td>\n",
              "      <td>0.0</td>\n",
              "      <td>2.34</td>\n",
              "      <td>11.11</td>\n",
              "      <td>0.000004</td>\n",
              "      <td>0.901436</td>\n",
              "    </tr>\n",
              "    <tr>\n",
              "      <th>4</th>\n",
              "      <td>2020-03-05</td>\n",
              "      <td>295.0</td>\n",
              "      <td>49.0</td>\n",
              "      <td>0.0</td>\n",
              "      <td>0.0</td>\n",
              "      <td>1.95</td>\n",
              "      <td>11.11</td>\n",
              "      <td>0.000004</td>\n",
              "      <td>1.080990</td>\n",
              "    </tr>\n",
              "  </tbody>\n",
              "</table>\n",
              "</div>"
            ],
            "text/plain": [
              "         date  ...  case_population_density_ratio\n",
              "0  2020-03-01  ...                       0.344451\n",
              "1  2020-03-02  ...                       0.491026\n",
              "2  2020-03-03  ...                       0.692566\n",
              "3  2020-03-04  ...                       0.901436\n",
              "4  2020-03-05  ...                       1.080990\n",
              "\n",
              "[5 rows x 9 columns]"
            ]
          },
          "metadata": {
            "tags": []
          },
          "execution_count": 18
        }
      ]
    },
    {
      "cell_type": "markdown",
      "metadata": {
        "id": "wDxac5B_IFn2"
      },
      "source": [
        "### Split the data\n",
        "Here we splitting the data into training and testing dataset. We are going to take data from March 2020 to January 2021 as training data. And we are going to take the data of February as testing data. In other word, we are gonna use the data of February to see how well our predictions are.\n",
        "\n",
        "Note the data is **not** being randomly shuffled before splitting. This is for two reasons.\n",
        "\n",
        "1. It ensures that chopping the data into windows of consecutive samples is still possible.\n",
        "2. It ensures that the test results are more realistic, being evaluated on data collected after the model was trained."
      ]
    },
    {
      "cell_type": "code",
      "metadata": {
        "id": "HX2B2o0HIGxI"
      },
      "source": [
        "data_training = data[data['date']<'2021-02-01'].copy()\n",
        "data_test = data[data['date']>='2021-02-01'].copy()"
      ],
      "execution_count": null,
      "outputs": []
    },
    {
      "cell_type": "markdown",
      "metadata": {
        "id": "0Ad0uKpr4k7V"
      },
      "source": [
        "We are dropping the column `date` from the training dataset"
      ]
    },
    {
      "cell_type": "code",
      "metadata": {
        "id": "NJrE-h9UU6Ug",
        "colab": {
          "base_uri": "https://localhost:8080/",
          "height": 226
        },
        "outputId": "5029d857-5885-4f5f-9179-daf3c46e638f"
      },
      "source": [
        "training_data = data_training.drop(['date'], axis = 1)\n",
        "training_data.head()"
      ],
      "execution_count": null,
      "outputs": [
        {
          "output_type": "execute_result",
          "data": {
            "text/html": [
              "<div>\n",
              "<style scoped>\n",
              "    .dataframe tbody tr th:only-of-type {\n",
              "        vertical-align: middle;\n",
              "    }\n",
              "\n",
              "    .dataframe tbody tr th {\n",
              "        vertical-align: top;\n",
              "    }\n",
              "\n",
              "    .dataframe thead th {\n",
              "        text-align: right;\n",
              "    }\n",
              "</style>\n",
              "<table border=\"1\" class=\"dataframe\">\n",
              "  <thead>\n",
              "    <tr style=\"text-align: right;\">\n",
              "      <th></th>\n",
              "      <th>total_cases</th>\n",
              "      <th>new_cases</th>\n",
              "      <th>total_deaths</th>\n",
              "      <th>new_deaths</th>\n",
              "      <th>reproduction_rate</th>\n",
              "      <th>stringency_index</th>\n",
              "      <th>case_population_ratio</th>\n",
              "      <th>case_population_density_ratio</th>\n",
              "    </tr>\n",
              "  </thead>\n",
              "  <tbody>\n",
              "    <tr>\n",
              "      <th>0</th>\n",
              "      <td>94.0</td>\n",
              "      <td>33.0</td>\n",
              "      <td>0.0</td>\n",
              "      <td>0.0</td>\n",
              "      <td>2.71</td>\n",
              "      <td>11.11</td>\n",
              "      <td>0.000001</td>\n",
              "      <td>0.344451</td>\n",
              "    </tr>\n",
              "    <tr>\n",
              "      <th>1</th>\n",
              "      <td>134.0</td>\n",
              "      <td>40.0</td>\n",
              "      <td>0.0</td>\n",
              "      <td>0.0</td>\n",
              "      <td>2.71</td>\n",
              "      <td>11.11</td>\n",
              "      <td>0.000002</td>\n",
              "      <td>0.491026</td>\n",
              "    </tr>\n",
              "    <tr>\n",
              "      <th>2</th>\n",
              "      <td>189.0</td>\n",
              "      <td>55.0</td>\n",
              "      <td>0.0</td>\n",
              "      <td>0.0</td>\n",
              "      <td>2.71</td>\n",
              "      <td>11.11</td>\n",
              "      <td>0.000003</td>\n",
              "      <td>0.692566</td>\n",
              "    </tr>\n",
              "    <tr>\n",
              "      <th>3</th>\n",
              "      <td>246.0</td>\n",
              "      <td>57.0</td>\n",
              "      <td>0.0</td>\n",
              "      <td>0.0</td>\n",
              "      <td>2.34</td>\n",
              "      <td>11.11</td>\n",
              "      <td>0.000004</td>\n",
              "      <td>0.901436</td>\n",
              "    </tr>\n",
              "    <tr>\n",
              "      <th>4</th>\n",
              "      <td>295.0</td>\n",
              "      <td>49.0</td>\n",
              "      <td>0.0</td>\n",
              "      <td>0.0</td>\n",
              "      <td>1.95</td>\n",
              "      <td>11.11</td>\n",
              "      <td>0.000004</td>\n",
              "      <td>1.080990</td>\n",
              "    </tr>\n",
              "  </tbody>\n",
              "</table>\n",
              "</div>"
            ],
            "text/plain": [
              "   total_cases  new_cases  ...  case_population_ratio  case_population_density_ratio\n",
              "0         94.0       33.0  ...               0.000001                       0.344451\n",
              "1        134.0       40.0  ...               0.000002                       0.491026\n",
              "2        189.0       55.0  ...               0.000003                       0.692566\n",
              "3        246.0       57.0  ...               0.000004                       0.901436\n",
              "4        295.0       49.0  ...               0.000004                       1.080990\n",
              "\n",
              "[5 rows x 8 columns]"
            ]
          },
          "metadata": {
            "tags": []
          },
          "execution_count": 20
        }
      ]
    },
    {
      "cell_type": "markdown",
      "metadata": {
        "id": "e-D0eypJ4us4"
      },
      "source": [
        "### Normalise the data\n",
        "The values in the training data are not in the same range. For getting all the values in between the range 0 to 1 we are going to use MinMaxScalar() to normalize the data.This improves the accuracy of prediction."
      ]
    },
    {
      "cell_type": "code",
      "metadata": {
        "id": "65oKHmUeU8hZ",
        "colab": {
          "base_uri": "https://localhost:8080/"
        },
        "outputId": "ed632f42-1805-4186-f95e-6e4b0889a955"
      },
      "source": [
        "scaler = MinMaxScaler()\n",
        "training_data = scaler.fit_transform(training_data)\n",
        "training_data"
      ],
      "execution_count": null,
      "outputs": [
        {
          "output_type": "execute_result",
          "data": {
            "text/plain": [
              "array([[0.00000000e+00, 3.95975713e-04, 0.00000000e+00, ...,\n",
              "        0.00000000e+00, 0.00000000e+00, 0.00000000e+00],\n",
              "       [1.04490669e-05, 4.98636084e-04, 0.00000000e+00, ...,\n",
              "        0.00000000e+00, 1.04490669e-05, 1.04490669e-05],\n",
              "       [2.48165340e-05, 7.18622591e-04, 0.00000000e+00, ...,\n",
              "        0.00000000e+00, 2.48165340e-05, 2.48165340e-05],\n",
              "       ...,\n",
              "       [9.88351903e-01, 4.27345789e-01, 9.83124465e-01, ...,\n",
              "        1.00000000e+00, 9.88351903e-01, 9.88351903e-01],\n",
              "       [9.94464607e-01, 3.43090957e-01, 9.94453167e-01, ...,\n",
              "        1.00000000e+00, 9.94464607e-01, 9.94464607e-01],\n",
              "       [1.00000000e+00, 3.10679612e-01, 1.00000000e+00, ...,\n",
              "        1.00000000e+00, 1.00000000e+00, 1.00000000e+00]])"
            ]
          },
          "metadata": {
            "tags": []
          },
          "execution_count": 21
        }
      ]
    },
    {
      "cell_type": "markdown",
      "metadata": {
        "id": "4EATF1HI8cSZ"
      },
      "source": [
        "As mentioned above we are going to train the model on data of 14 days at a time. So the code mentioned below divides the data into chunks of 14 rows, store the first 14 days into `X_train`, and the 15th day into `Y_train`. After dividing we are converting X_train and y_train into numpy arrays.\n",
        "\n",
        "Notice that the `y_train` is storing rows of `training_data[i]`, which will be **all** the 8 features of the 15th day. This implies that we are training the model to predict all the features, and this is a **multi-ouput** model. The reason that we are doing a multi-output model will be covered in the Prepare test dataset section."
      ]
    },
    {
      "cell_type": "code",
      "metadata": {
        "id": "u4vE9zLEVAQT"
      },
      "source": [
        "X_train = []\n",
        "y_train = []\n",
        "days = 14\n",
        "for i in range(days, training_data.shape[0]):\n",
        "    X_train.append(training_data[i-days:i])\n",
        "    y_train.append(training_data[i])"
      ],
      "execution_count": null,
      "outputs": []
    },
    {
      "cell_type": "code",
      "metadata": {
        "id": "cpdmDre8kmzN"
      },
      "source": [
        "X_train, y_train = np.array(X_train), np.array(y_train)"
      ],
      "execution_count": null,
      "outputs": []
    },
    {
      "cell_type": "code",
      "metadata": {
        "id": "LxPFfaZwVAxm",
        "colab": {
          "base_uri": "https://localhost:8080/"
        },
        "outputId": "c0bc7fc0-c64e-41e3-981f-0607d8c78583"
      },
      "source": [
        "X_train.shape, y_train.shape"
      ],
      "execution_count": null,
      "outputs": [
        {
          "output_type": "execute_result",
          "data": {
            "text/plain": [
              "((323, 14, 8), (323, 8))"
            ]
          },
          "metadata": {
            "tags": []
          },
          "execution_count": 24
        }
      ]
    },
    {
      "cell_type": "markdown",
      "metadata": {
        "id": "basMwmA3kk5l"
      },
      "source": [
        "Also, let's take this opportunity to save the number of features as a variable, so it the code in the latter stage can be more clear."
      ]
    },
    {
      "cell_type": "code",
      "metadata": {
        "id": "UrIh2wOolp25",
        "colab": {
          "base_uri": "https://localhost:8080/"
        },
        "outputId": "7d97d609-fad4-487b-b6b5-c6eb44207e4e"
      },
      "source": [
        "features_nums = len(training_data[0])\n",
        "features_nums"
      ],
      "execution_count": null,
      "outputs": [
        {
          "output_type": "execute_result",
          "data": {
            "text/plain": [
              "8"
            ]
          },
          "metadata": {
            "tags": []
          },
          "execution_count": 25
        }
      ]
    },
    {
      "cell_type": "markdown",
      "metadata": {
        "id": "NmaiBslIk4df"
      },
      "source": [
        "### Building LSTM\n",
        "Here we are importing the necessary layers to build out neural network"
      ]
    },
    {
      "cell_type": "code",
      "metadata": {
        "id": "lQO3ZY2X0QAB",
        "colab": {
          "base_uri": "https://localhost:8080/"
        },
        "outputId": "3dfa917c-2276-4128-969c-7c718d4c6a51"
      },
      "source": [
        "from tensorflow.keras import Sequential\n",
        "from tensorflow.keras.layers import Dense, LSTM, Dropout\n",
        "\n",
        "model = Sequential()\n",
        "model.add(LSTM(28, activation='relu', return_sequences=True, input_shape=(X_train.shape[1], features_nums)))\n",
        "model.add(Dropout(0.2))\n",
        "model.add(LSTM(28, activation='relu'))\n",
        "model.add(Dense(units = features_nums))\n",
        "model.summary()"
      ],
      "execution_count": null,
      "outputs": [
        {
          "output_type": "stream",
          "text": [
            "Model: \"sequential\"\n",
            "_________________________________________________________________\n",
            "Layer (type)                 Output Shape              Param #   \n",
            "=================================================================\n",
            "lstm (LSTM)                  (None, 14, 28)            4144      \n",
            "_________________________________________________________________\n",
            "dropout (Dropout)            (None, 14, 28)            0         \n",
            "_________________________________________________________________\n",
            "lstm_1 (LSTM)                (None, 28)                6384      \n",
            "_________________________________________________________________\n",
            "dense (Dense)                (None, 8)                 232       \n",
            "=================================================================\n",
            "Total params: 10,760\n",
            "Trainable params: 10,760\n",
            "Non-trainable params: 0\n",
            "_________________________________________________________________\n"
          ],
          "name": "stdout"
        }
      ]
    },
    {
      "cell_type": "markdown",
      "metadata": {
        "id": "dt9aoP389ZiE"
      },
      "source": [
        " *   The first layer is the LSTM layer with 28 units.\n",
        " *   We will be using relu activation function.\n",
        " *   `return_sequence` when set to True returns the full sequence as the output.\n",
        " *   `input_shape` is set to `(X_train.shape[1], features_nums)` which is (14,8)\n",
        " *  The value passed in dropout specifies the probability at which outputs of the layer are dropped out.\n",
        " *  The last layer is the `Dense layer` is the regular deeply connected neural network layer.\n",
        " *  As we are predicting a single value the `units` in the last layer is set to 1.\n",
        "\n"
      ]
    },
    {
      "cell_type": "markdown",
      "metadata": {
        "id": "JLTt3rYKpHek"
      },
      "source": [
        "## Why relu as activation function\n",
        "[Reference: ReLU — Most popular Activation Function for Deep Neural Networks](https://medium.com/@sonish.sivarajkumar/relu-most-popular-activation-function-for-deep-neural-networks-10160af37dda)\n",
        "<br/>\n",
        "![zero_relu.png](data:image/png;base64,iVBORw0KGgoAAAANSUhEUgAAArwAAAE+CAYAAABvKsMNAAA620lEQVR42uzdC3xU5Z3/8e/vnJmEi+KteLc3FRLQ6rb9t3UrUGqrXXsT1Ki9eQW8kESttXV7oXS3l62tmgsqoNW1rdqo4KVlq1YR0Ha1XbcXJUHtdu1Wq1vvCElmznl+/1cmwcVkBhBBMjOf90uEzAwJ+c1k5ptvznmeSACAbeLSm5fvwxQAYOsj8ALANpJ1zZt/29I3MQkAIPACQEVy9w8rjQ9jEgBA4AWAinPF4ntPlFmNuZ81p6OjhokAAIEXACpKGvxNco/cbZ831+5Zy0QAgMALABUm/L/Ck7D53mFN7yjmAQAEXgCoKGaa2vd7JluT8ZroUCYCAAReAKgY86+/e9+Ro7bbVZKnSSqPotOYCgAQeAGgYsS12bPzud7Cn0NIlclkPsJUAIDACwAVwy0clyT5vj9a//9Ml3csJfQCAIEXAMrfFYuW1XvQ2L7cu+6yJE1kmfhYpgMABF4AKH8WfWC9t1ymIHc3+UGtS5awPBkAEHgBoIy5W/Dw/v7cGz09cOlfJcvJ9PbR+TG7MCQAIPACQNma/x//kZH07kL2lf+q/1L7i6Q12UzNTrnE38aUAIDACwBlK/NEz9hMNju+8EbwgwrB131cX/wNISgT+UlMCQAIvABQtkKSHF34g1mQVGhzTdpRZjumaeIyncCUAIDACwBlyxQ/mKbpsZIazOzK/svsT6bwGZkdKw8z5s+fn2VSALCln38BAG+4BYuXz5Z7q5l+uzpf8/5zGw7pZioAsHXQ8AIAAIDACwAAABB4AQAAAAIvAAAAQOAFAAAACLwAAAAAgRcAAAAEXkYAAAAAAi8AAABA4AUAAAAIvAAAAACBFwAAACDwAgAAAAReAAAAEHgBAAAAAi8AAABQnjKMAAAAYPg48Nsv7JQbvcNhcn3QpMO7Rqhesyy/7vrxLd4uaZdVzXbClvy4dZf4h910tkzjRySa8rtz7Ym+y/dr9QlZ6Sdp0A8eOdsuJvACAABUuXFt/jYL4VPxc10Xrpw7Mfda/35uxA4HmWtHMx1uGe1b16N/7JLmrrveTIdltlPd21v8i//VbH8eCKV7Z6R9N/VjpInCo+failf+zRf7Bz3SDgp6IlOrI3ulL0s6s77Fj3TXBS6FyPRBSQReAACAag+7UdCvLYp2CTtP+DtJx7zW97HqHLtH0j37X+SrYtedZvqE5vg3NdeSvuvXrtHfj3bdrxF6cd3fyboaJTX7pn2IKJPRnySNX3fBI+fY3QN/vPGAhT5Drk+++VL/ckg0aVWTJu8xRyN3kpJyvV8IvAAAAFvAhBZ/cwhaYtIuHuRRRkfXXeJXRc9r1sq59pqbXs/oAbmedNfb6sdqr07p8b7L/7yzXq7v0b//1yx7JfAmQddZpGWb9H5NZkH/U+r6/Bo9GNfonaNSfT6RLpLM/zpXa/9axvcNgRcAAOD1ht15vl9IdZ9Ju8r7MqUsJHKLdFLYRaMlNbzW9/lYk/WOb/VfxBnNSHOq00DgrXtWY8J2+tX6t330HPutpN9uic8lirRE0js96IXHmu1vlXD/sEoDAADA67Dvpb5PmmiJuca6yyWZ+v9nfW9HGR1b1+qf35z37a5rLCNZrKPWXWbbqSGS/n1rfT5BeqDwcSLtXCn3EQ0vAADAZhp/iY+3vJaaaQ8faHbXv96iQtN72ehatW7O+3+k2e6tb/O+FPoxSWeMb/M9g+tdq5rssnW3GXeJ/z9Jh5pt2jG25nqy62y7qeT10lkhryAvnKRG4AUAAKhW+7X63ub6uUm7Fwu7fTzolq5mnVWImZvL9YvsaH2oEEaDvtr1nGa+KqCazjXpaEn5Tcm7Ml0vqWjgHdfqZ5tphVzjg2n3N3/bd/rzBfZ8ud9XHNIAAADwGo1r87pM0C8t0lsHjmF4ddiNCyeHze96Tse8rrArKU31sxCk8a3+aZnu1FwLr7pB0AXuOlCx/m4Tfh0c8jq/2MeZ2Obv7/u9s9G+6a7/Nmm3bK327LusvsUbyvn+ouEFAAB4Dfa/yPeKgn5hpj09DG12vb/ZXbSqyU7fEh+vJkoeCLlM3wf5infrPYOvX3WO/ffmvu+6i3xKyGqfnlg/y+f1mUdGqKmQoWPdms3qA+rR4XUtPkKRcuV8n9HwAgAAbKJxbV4Xx1phkfYq1eya6YpVB+q4LfUxc1HmuZCqV9Lpq75oq7foJxTr+9msfjgqr59b1P1P63Z0691Ol6W9SqOsLpL0sc7ddFs53280vAAAAJug0Oy6lpk0tkSz6wq6oavJZmzJj2tBO7v03VVNtmxLf05dzfbuuov9nV3n2IPrX/74ydbzlu/63iMiRaua7clyv+8IvAAAABsxrs3rItdtJu3qKnKCWlw4lvZfR9e++oSy163DY3tKn3u+V5/fWp/b4LD7Sug9356qlPuPwAsAALAB+1/me1musKnEzkXDbv8xuz/uarKTt8xHLHyIwolu45/SjWmi2U9/wdZwTxB4AQAAtri6dh+nvG4z085Flx6LCptD/KjrWW2RsFvX4ufKdLjkCzzooCB9+9Fz7QnuCQIvAADAFlff7m/xoAfMtYNKNbuuH3Q12alb8MPuH8U6whO9o9v19483bf4KDHjV9yUAAAB4Vdht8f096I6+sOv6v+2C109QQbq+61nN2pIft6vZzuiV9u9stj0fP4ewu6XQ8AIAAKxnYqvvm0q/LtnsWqHZvWxVs525NT7+H8+yx7gXtiwaXgAAgAH79Yfdn5dsdvvDbkfXs5rNtMoHDS8AAICk8Zf4eEm/Mmmnos1uVFiNoa2r2ZqYFoEXAACgrOx/sb/drNDs7uilD2O4oatZzUyr/HBIAwAAqGoTWn1CHOl+M7216HbBUSEBt3Q16rh16+OCwAsAAFAWxl/mbw2u203apeg6u/2bSnR0NdrZMsIugRcAAKCM1Lf7ROX0KzPtXbTZjQvNbmvXczqBaZU3juEFAABVZ/zF/taQ6q5I2rVYs+sm91Q/WdVsHLNbAWh4AQBAValr8QMs0orItFupZtdMl67aQ59hWpWBhhcAAFSN+nZ/S0i1LJJ2Ktrs9v0X9OOuJmOd3QpCwwsAAKpCXYsfUAi7pp1LNbsyLejaXScxrcpCwwsAACpefbu/xVPdF0nbl2h2pVRXdTXb6Uyr8tDwAgCAyg67F/lET7XUpDEbOGb3yq49NINpVSYaXgAAULHGtfnbQtD9kTRaxcKuFdbZnd/VRLNbyWh4AQBARZo4z+ujUFh6bLQPHLUwOAW5dHXXszqTaVU2Gl4AAFBx6tp9XJLoN5E0qn9Z3SLNrqu1q4l1dqsBDS8AAKgo49q8Tqlu7wu7A83ukLAr6ZquRp3NtAi8AAAAZWVCq0+Ign5t0ltV7JjdqHDB9zub7ESZORMj8AIAAJSNunYfF1y3W6ljdq2w/tgPVzbZeUyLwAsAAFBWxrf5gUr1gJn2LrX0mEsXdjbZ55gWgRcAAKCs1Lf4/gq6o7DObulNJX7Y1WTnMy0CLwAAQFmZ2OYHufTLyLT7BrYLvrCzWScyrerFsmQAAKAsTZjn+6WJ7jJp5xLNrnuqa1Y10+xWOxpeAABQfmH3Yj84TXSvmXYpuV1wpItXPadTmBZoeAEAQHmF3Yt8vxBpWSRtX6rZtaAfdDbZ55kWRMMLAADKKuxe7AeHWPeYacwGjtlt63xWM5kW1qHhBQAAZWFiq++buO6LpJElV2MIms92wRiMhhcAAAz/sNvmB6XS0oHtgosfs2u6tOtZncm0MBgNLwAAGNYGVmO436TawvG5g8OuFZrd9s4ma2RaKIaGFwAADFvjLvF3hFR3lwy7UeFQhvmdjWpiWiDwAgCA8gq7bV4XSb821z4qEXbN9f2uJjtdZs7EQOAFAABlo67FD4iC7jRTjfefjzbkMIbgWriyyc5jWiDwAgCA8gq7l/kBMv3apL1LHcYg6Turmoylx7BJOGkNAAAMG/XtPtFzumNDJ6iFoCtWNdsFTAubioYXAAAMCxPm+cEhLazGsEeppcfc9M1VzTaDaYHACwAAyivstvqEkNedA+vsFt1UIgQt7Gq0rzAtvFYc0gAAm2BOR0fNXvHYyVEUb/RM8MSTZ06f/sHfMTVg09S1+zsLS49F2qHYDmqF7YJd31xF2AWBFwC2nj0zu+8yYuSoO93TjdzS5Lnc3ZIOY2rAxu0/z+uV6C6TxpTYLtgVtKCribALAi8AbFVRTz70aM1qyZIiV7ukMZIXnlPNojVMDNi4ukv9XcrrdjPtWLTZzUhR0HdWNurLTAsEXgDYymZ86rCn+0PtUPNvXFpnceZ+uY9x0zPZfMJSScBGjGvzOs9rWeGY3RLNrqW6bGWT/SPTwuvFSWsA8DosvHn5cRZFD5h8jEV2X7Y2mnByw9SnmAxQ2vg2f3cUCmF3dKnVGGT6XmejZjMtbAk0vACwmebftPw4ua4feHPljKMmH8pUgA0b1+Z1luo+M2WLrsZghWN227qa7Hw1MS9sGTS8ALAZFty0/AIz/djdZaafhH1GHcxUgA2ru9TfZUFLB7YLLrXO7sVdjTqbaWFLouEFgNdo4eIV73IP3xo4Wa3vBXpK/Jfu6y+7bunnzzhh6n+/tvcWafTIrMndmCwq2QHtGp/k/f7ILCp82bibDXwR9T38+y/VRasa7fNqZF7YsniCBYDNMH/xsosjRWdL4W+SjY2iSCGEvhfsr82YPvmfNvb3FyxePlvurZL+5PIveeo5popKVJNR+lj32H0fenm3r7lrZ5m8L+G6TGPiHiUW++/X7mEKaulq1jmSOVMDgRcAhkvovfPOHWZ+6EMvXXrDPfvW1sS3uGtCnMkol88fffr0KYs2JfCa6bfhf186dNasj69loqhE9e0+0VP93uSRzHzdTzP6ftsp261danJ6tHuH76xqsguYFrYWDmkAgM0068MffnFW/x8fkzRx/qJlj3g+v38k+4KkRZv6ftbs9CYaLVRm2G31v1PQEpMil/XXuut3bRZpp3j1DauadiTsYqvipDUA2ESX37xiwhWL7z2x1PUm/cgsksl3af3RkjFMDNVsYpsfFFwPyLV7sdUYFEtjMt2XH7bjY//KtEDgBYBhYMGiFZeM2W7MwyGEK+fMmVP8uTOosO9w34t7d+8YWltUrQnz/OA06M5IiouGXZOCq7Vht4cvyacxP20GgRcAhgMP+etyPd2Sue198AdPLnqj2Jrcg8zsqS+eeuhqpoZqVNfi7wqJ/t2ksSWXHpPmPNJkzX1vpowMbwC+qwKATfDkavvd3lHvryQd4rIFCxctG50qXRZlapKQht1j6aIoinZN0zTkZecyMVSjcW1+kPc3uzVFN5VQ4Sch7V1N9o2+Pyb5vPVvqwZsXTS8ALAJ5p48tSex8CkzW1VYMTSKWiLFv1SS/jJy3e6ud4Q07ZbFJ5w5bdJ/MDFUmwmt/h4Lui+Sdira7GYKF87pajJW2cUbjoYXADbRGdMKm0rULVi04kKFcLibjzFZRvIn3PRMFNWcMuOThzzGpFBtxl3q7wh53RVJo0o0u660sF3wN5gWCLwAUAZmTp/0hY6Oji91Z9+6Y4/31KxJsi+c23BIN5NBNapv9/d6ottN2q7oCWoZyRJ9o7PJvs60QOAFgDLS0NCQSnqWSaCajbvE3+FB95irtkSzGyxVa2czYRfbFsfwAgCA16y+1d9npqXmGlHqmF0zfauzyc5hWtjWaHgBAMBrMr7NDwxB90aFHdRKHLOb6PtdzfZVpoXhgIYXAABsskKzGwonqMWl1tlVpO90NRe22AaGBRpeAACwSca3+YEe9CuTvOgJaiqss/udrib7R6aF4YSGFwAAbFR9u7/Xgu6ygQ0khoTd/kTx3c4mu4BpYbih4QUAABtUaHbTwnbBGwq7/9TZbF9jWhiOaHgBAEBJ9ZcUmt271zuMYUiS8KDvdTYSdjF80fACAICi6tr9nes1u170BLWgr3Y12z8zLQxnNLwAAGCICa3+Hk91Z8kT1KzQ7H6/s4mwi+GPhhcAAAwJu6nrlwNLjxVtds11QWejfYdpgcALAADKyrhL/P8F150b2FRC6m92CbsoGxzSAAAACura/ZDItMKkMaW2C1akC7qa7DymhXJCwwsAADS+zd+toF9IqinR7Aal+n4XzS7KEA0vAABVbmKbv19B95hrlEo0u5H0la4mO59poRzR8AIAUMXqWvxdSdBSkzKlml1LdeHKZvs200K5ouEFAKBKTZjnh8p0VyRlVaLZNdOczib7EtNCOaPhBQCgCtW1+ztDquXmxTeVKFwc9K0u1tlFBaDhBQCgyhSa3VS/MJcVXY0hLvx/blejfYVpoRLQ8AIAUEUGmt0VpXZQKwRg19yuZpvLtFApaHgBAKgSE+b5oYXtgn0g2BbbQc30jc5G+zrTQiWh4QUAoAoUmt2gFVF/szs07EaFHdS+2skxu6hANLwAAFS4CS0Dx+yGV8Lu0DTg+mfCLioVDS8AABXsgDZ/dyKtsFA4YNfNhx7G4NKXuhrtX5gWKhUNLwAAFWp8m78/8Vea3SFh1/vPXPtm12zCLiobDS8AABWort0PUap7TcXX2S1sF5zqvJWN9n2mBQIvAAAoK+Pb/P2e6nYrcYLauk0lOpsIuyDwAgCAMlPf6pNC0N2RlCnV7CrReV2NdhHTAoEXAACUlfEt/vfuutOkuMSmEsFSfaurmbALAi8AACgzda0+RdLPzVW7gWN2z1/JYQwg8AIAgLILuxf7IXLd3b8rcNFmN7VU3yTsolqxLBkAAGVsYotP9ahwGEPhNb1Ys2umCzqbbA7TQrWi4QUAoEzVt/r7Uulu84F1doscs6tUc7ua7EKmhWpGwwsAQBkqNLuu28373x7S7MaFC/+xq8m+wbRQ7Wh4AQAoM/Xt/t4g3W1pyWZXFvTlriZ2UANEwwsAQHkZ3+JTPeh2pQPBtkiz66YvdzbZt5gW0I+GFwCAMlF/ib9Xse5WWsi6Q8Nu/z7CX1zVZN9lWsD/oeEFAKAMFJpd0x3qP4yh1Cv6VzsbCbvAYDS8AAAMc/Xt/l6p0OwW2OAbxIVjds9jnV2gOBpeAACGsUKzm+oXA83ukHK37wJP9TXCLlAaDS8AAMPUhHl+aAi620Ih2BbdLthSNXc2WSvTAkqj4QUAYBga3+YfCInuUCi59Jh7oq8RdoGNo+EFAGCYmdjmH0iDlppKN7tRqqaVTdbOtICNo+EFAGAYGX+xfyAJuqMv65ZodlOl+iphF9h0NLwA8Bo0ti6pPWCv0Ueb2aTINDbIHlAIS2cePeXXTAev14R5flia188jKVOy2U10zsoma2NaAIEXALYod7fLb1p+aCa2W2tqR+yY5PNyD8rGmaMtijR/0fILlfR+c1bDh19kWtgcda0+JST6hVnpZtdTfW1VM2EXeK04pAEANsGCW5YfEMe21N137O3t/lMa0m+7h/PySW5JmuSViaMvWKbmX+fMWUqRgNcedtv9w3L9fF3CLboag+ncVWwXDGwWnpgBYBNY0JIosthd/1O7uufAz33u8DUDV31//qLlXzX5XDP75B7vjt4m6VEmhk1V3+qT5LrDN3zM7pe7WI0B2Gw0vACwEQuvvWu32hEj987W1MotzFov7BYE9cyXtDrOZBSn0aFMDJuqrtUPd9e/KQx8Y1W82T2vq8n+hWkBBF4A2HpGZQ/u7elWFMXyzOplg69+aqfsc5ISDy53vZ2BYVNMmOeHWqzbTRpVap1dS3VeZ5NdwrSA14dDGgBgI0Ku998ztSM/uHZN9x6zjv549+Dr93w+fofJR1pkCp4+wMSwMXWtfnhIdNPAOrtDm9248KODL7BdMEDgBYA3xMDKC0uLXdfR4fELtuIr7hqZ5PP/m0vif2di2JAJLX6oZ3S78oWsOzTsWiHsntNFswsQeAFgW7vilmV/90K6ojWbyR6ahlQhhH9qapj0t9fyPtw1envree/lHct6mWhlG5lN0vtefMvBj3Wv/p5Lrpr+B8CYbK8/2j227482cKDhFzobCbsAgRcAtrGFi5af7m6XSUFpmii4N86cNnlzdr7yfKSeTBp6mGrlChn3e17e952P5fae797rcn+l1R0TdZs8SHEkczWtbGSdXYDACwDb0BWLltUH0/xMtmZSks/1XbQiNZsz66hJSzfrHbrWPp3+7cG5DQ05plu53t7ih2WkVuu7x33Uqw5hGJPplSySUn1xJZtKAAReANiWLr9p+eRgtlQeonyu1800d8fk6X9umN6Qbu777Ms5O6T7xEy3ctW1+hSL9AulAysvDFqLIc6OUCYfzvz97PgypgUQeAFgm1nYsextbuGm/rhiD8VxdPKpnzz0N0wGGwm7h8t1q6fFT1BzWdhJz9x02+y3EHaBrYh1eAFgE3g2ujyK4jeZ1OPZ6KOEXWzMhHl+mFRYZ7e2WNi1rBSZzvzQzo/9sKOjg5Yf2IpoeAFgIxbeetdutdmRh/d0r5WZno2S5LSFi5aPGBKKFWJX/NCs6ZOuYmrVbWCd3SX96zAUa3aVKtEFnU02P3fDsukjGBlA4AWAbclC5rB8vreQXdy1t1n01UErpxbEUVZpSH8qicBbxSa2+RFp0BKTomI7qCkrRYnOWtlk85kWQOAFgGEhVV9ASe8a+GNf7C16u5AmsSJ7kIlVr7pL/MOp6+cDze7Q7YJdiRJ9qZOwCxB4AWA4mXXUlGslXcsksCET2vwf0qBbCrVusR3UMpIFNXY22uVMC3hjcdIaAACvN+zO88PcCocxZIo2u1KiVOcQdoFtg4YXAIDXob7djwyJblqXcEs0u82djXYp0wK2DRpeAAA204Q2/6Ai/UxSbYlmN1hQE2EXIPACAFB26lr9o8F1m/L9bw9pduPChc0rG9kuGNjWOKQBAIDXaOI8n+qRfuq5UjuoSeY6q6uJZhcYDmh4AQB4Dera/WNpop/1hd2iC9SZ5BGHMQDDCQ0vAACbaGKLT/VYt3naX+IO2X8kKjS7p69qZJ1dYDih4QUAYBOMb/WPp9KSUs2u9/+vmR3UgOGHhhcAgI2YOM+nBtOt652gNvTVNGhmZ6MtZFrA8EPDCwDABtS1+8eSRLd7vn+74MHXe1/UTXR2F2EXGLZoeAEAKGFimx8RpNusP9gOWWfXspISzehssh8wLWD4ouEFAKCIukv8Y2nQv3na3+wOWXrMlXiiZsIuMPzR8AIAMEh9ux/p6YabXUs1c2WjXcW0gOGPhhcAgPXUtfpH5YXtgr3EdsH5kKiRsAsQeAEAKDsT5/nH5bpFof/tIdsFZwqL757e1WTtTAsg8AIAUFbqW/zIIN3a99pYqtlV0FkcswsQeAEAKDsT5vknXVqspP/tos1upDPYLhgg8AIAUI5h9yOKdLOkbIlmN7VUp3c22pVMCyhPrNIAAKha9S0+LSS6zgY2lBjS7MaFxHvGSjaVAAi8AACUm4ltfoRntUi9hbBrg7cLLiTgVDO6mu0KpgWUNw5pAABUnbpWn54G3eK9haXHhrJCuzuLsAtUBhpeAEBVmTjPD/dYN3mJZldRIe+e0jmbdXaBSkHDCwCoGoVmN6/bQolmt++y4DqdTSWAykLDCwCoCoVmN9JNniv9ihi7Tnp4tv0r0wIqCw0vAKDi1V3iR6eJloRc/3bBg693KQ2JziDsApWJhhcAUNHq2/1ImW5UUgi2Q9bZtaykoJO7ZtsPmRZQmWh4AQAVq67Vp3uqn3nS3+wODrtByqeJTu8k7AIVjYYXAFCRJrT5J1y6SQPHMBRrdqNUp3Q22o+YFlDZaHgBABWnvt2nuekWD8WbXXflQqqZhF2gOtDwAgAqL+ymWrQu4Q7ZLjgrWapTCbtA9aDhBQBUTtht86MUaVF/iVu82VWq0wi7AIEXAICyM6HVj/GgG5Xvf3tIs5spbKvWF3avZFoAgRcAgPIKuy3+SWV1Q9/rWtFmV8pb0CmdzazGABB4AQAoM/Ut3pBKN3iuf0OJIc1uXHi1O43tggECLwAAZWdiq3/cavUT6z8J24o0u8FdJ3Y12jVMCyDwAgBQVurb/LjUdaP3Dt0quBB2rdDunkLYBcCyZACAslPX7h+zjK5Xf9g1G3wDK1z42c7ZrMYAgIYXAFBuYbfVT1CixaG3sPTYEC55kE5m6TEA69DwAgDKJ+y2+8eijK4dOIxhSLGruLBMw2dWNtq1TAvAOjS8AIDyCLutfoJS3bKBZjcJqU4h7AIYjIYXADDsTWz1j4eMrlVeRatdy0pRos893GTXMS0Ag9HwAgCGtbpWPyGVbvX8K9sFv4q7cmmikwm7AEqh4QUADOewO90iXav0lWb3VXnXspJSfa6r0X7CtACUQsMLABieYbfFj7dIN3n6SrP76k0lTD0hr5M6CbsANoKGFwAw7Exo82OD6zql/W8P2S44K1leJ3Y2WwfTAkDgBYCt5Mpb7t0+6s2PzinpntXw4ReZyJZR3+bHKdb16j9mV8WaXctrJmEXwKbikAYA2EwhTebnM9GDlqn9GtPYMura/XgPutbz/W8PaXYzkkWFZveHTAvApqLhBYDNcMVNK94fFI4vZDL3HZjI6+U2oU3HKKPrQlo4P21os+vKRUEnr2yk2QVA4AWArWLOnDnRXgdOqfc4c5a7nzSwHKwzmddvQqs+FYKutt4S84wkBZ24stGuZ1oACLwAsJXsdfAHl9TWjjwin8speLoumBmTeb1h149RrX6knv6Vx4assyulMn2mq5mwC4DACwBblcnu6u3tfnkghFlkNsndxzKZzVff4p8Nrh9YT/Fmd2CXic92zSbsAiDwAsBWN2Pa5AvXf3vBouV3SPowk9k8hU0lanXNBppdWaTjOmdzzC6A14dVGgBgM7mc59DNDbstfqJcHaGnf+mxobNVcOnThF0AWwINLwBsQ8Et2j5ZO6b1R0uy1fD57v7iy+Hb0fQj0khXe87z7u5m5vlg2Vca3qjw3/ErG+0GHiEACLwAUOZM2i6tid9T66N7K/1zzUYh/DQ3cdoe6dozPSSurGezUarRcd4ffHnPwtbBQcpLOmkVYRcAgRcAKiTwmr9Uu4vfefLUD/RU+uda3+7TLNaZoXdd1pdqo0S71aw2c0k1UpzoUysb7UYeGQC2JI4/A4Bt7Pm/jaj4pc3q2v1EBS0KOblMbtZ/ltq6T9xNPSGvT69sIuwC2PJoeAEAW9WENj/WTVevW3hs8A5qUc12Cjl9+tEmW8S0AGwNNLwAgK2mrsVP9EgdnhRWY3AbulFH/m2Zv3yDsAuAwAsAKDsTW/0Ei3S1kv63h4TdrLR9NjfzfaMfX8G0ABB4AQBlxK2+3T/rWV3roXiz61K3Uh2/fPJJ1+ZTDq8DQOAFAJSR+nZ9xlNd47n+t4c0u5nCBZ/ubLSfXPLAmaOiOHamBmBr4rtqANhMs6ZP+RBTWJ9bfZs+bRld4+kr2wUPbnZ7IumzK5ttMfMCQOAFAJSVCa06MQRdqV4Vb2yjQgL+1MqzCLsA3lgc0gAAeP1ht80/pVpdNbChxJBmN0h5dx3dOZuwC4DACwAoM/VtfmoIusZ7ije7A8c2HN/F0mMACLwAgHJT1+7HW42uGHg9eVWz61ZYoSFYpGmEXQAEXgBA+YXdNp+hVD8OJZpdBbliNXQ22s1MCwCBFwBQVurb/LioRgtsoNUdsvSYSVFW07tm201MCwCBFwBQVupafKYHXR96CocsDOGunEc6ZuVZdgvTAkDgBQCUlUKzW6v5NrB7WrFNJSJTA80uAAIvAKDs1LX4TEnXh94Sza7U7a5jVjbT7AIYXth4AgCwURPb/fgQab7y/W8PbnYtK0Wu4x4+y25jWgCGGxpeAMAG1bX4zGC6zvOFZteLbBe8JiQ6mrALYLii4QUAlFTf7p+VNF9J/9tDjtnNFpYfO75rtv2UaQEYrmh4AQBFuNW1+2kW6xpPize7QVqjfGHpMcIugGGNhhcAMER9q072oIWe9r9dbDUGS3VcZ5P9jGkBGO5oeAEA/8fd6tv8VKvVlfL+HdSKHLO71hId1UXYBVAmaHgBAK+oa9dpHjRfpbYLjgqJt2ElYRdAGaHhBQAUjtmd0OYnR7VaMHDBkE0l3NQTuT5BswuAwAsAKDv1rTo9BF3h3cWbXe9/xTj24SaWHgNA4AUAlJm6dj8xGqFL+w/XfXWz6/2/Epk+xmoMAAi8AIDyC7stfpZSXZWWaHYlpW6azmEMAMoZJ60BQJWqb/fPWlbt3n+Cmg2+vnBhrE90zbYlTAtAOaPhBYAqVNfqsz3VNaGnsKmEioTdXjd9opOwC6AC0PACQJWpb/HPWo3avLd4s6u4cOF0ml0AlYKGFwCqyPgWb1Ska0JvyWZ3TQg0uwAqCw0vAFSJQrObVavni2wV3CcrRamOXdlo/8a0ABB4t7Y5ntl/Fx1hQVMsUtakfCJd/ViTreQuA4DXrtDsZtQa8iW3C16toE91EnYBVKBheUjD+J11ReS6XIm+u6rJzgmu+7KuP7x9vu/AXQYAr01hB7VYrUr63x7S7malONKxrLMLoFINq4Z3whyvSXfRdeY6ote175/Os2f6Ln+kWbfWteg32V7dIem93G0AsAnmeFQ3VmcoVrvnSjS7rtVKdMLDTXY7AwNQqYZVwxt21ufijKZL+uKfzranB139qAW9e/+L/e3cbQCwCSXCWJ1moXTYVVx4FTiGTSUAVLph0/AedLHvmIu0UIle7mq2ea++1tzcn3crJPR3Sfov7joAKGGOR/Vv0unKap73qO+p0wafoebS6sh1XGeT3cHAAFS6YdPw5iL90GIpBH1t6LVuijSmUFCYduFuA4DS6nbWGR76w27JZ37TMazGAKBaFG14D7y45+1JpvYjHnSMSVOToH0fPcdeaVXHt/jPzDWua6QmaJblX+8/Yt/v+z4uTfK8elPXLUNucKwieX/QNWcpNQAoqr/ZnRnVqj3t7t9UokizuzaWpj9Mswug2gPv8177wmjp5sg00WJNzST6nlQ4trbATI/Fo3XkuDV67yPSvX2XTWzzgxLXCQPbr29U5Io6m+2LfX+urdH7PGgHSY94rGeG3PhDirxbO8sKXe9z3G0AMFT9LprtQZeE7uLPwwMH8k57uJGwC4DAq7+ca4VQuf9F/q2M63hJh4z/F99+1Rdtdd/lXU3WXNfq+wfT79f9nTTVh8w0U1LYlLwr0xOSCoE3BE0yK/z++GPN9tLgG+8hZS3S29wLOwM9zd0GAK9W1+IzoxFqKdbsev//cor08S6aXQAE3ld79Fx7YnyLPxRJ77MaHSDpV4Ur5ngk18Prh9PcSF0Rr9H1UXbjDW/Iy3pHaO16Fx1ikWRBtxa7/Zg1mmAjtLvnlfYG/Qd3GwCsF3bb/BwFfT8t3ezmFesTq2h2ARB4S/qZZTVZOf3dusC73y7aTtJT69/ov2bZi5Je3Mx/xx6KpGD6bbErLdap6j9+93ePn2MvcLcBwEDYbfHTolpd5APNbpGwGyzWR7tm251MC0C12ugqDVFeP7GocOzsJ9ddFru+lY+LnFy2uUzb9T1N9/bqsRK3OKnvX5qamrnLAGAg7Lb652VaGLoLh3upSNjt9khHEnYBVLuNNryd59nj9a3+skyH9r19wPe8Li8lfzzLHlvvSfdwhcKxvrlNDLiPdzXrO4XOtn+nn/+1SDs8fr49Nfim9S0+TZFGhF7d/0iz3ctdBgBSfZufall9z3tLNLtWqDQ+uYqwCwCbtsSXB/04O0azJlzkO+czOmFVk509qEWYGpkOlNbt1L6R9yc9ty7sqr9m7pK0/5AbzvSsS2cpKJ+6zufuAoDC0pDnSbow9L6yg9rg59iX3XQMYRcAXkPgTU23Z1LNykf6lLkeHnz9qia7QNIFm/uPSF0dFvTxcZf4Ox45215Z+WG/A/SuqEaHhZwufLTZlnN3Aah29e1+isW60HP9O6gVe1a3VNO6Gu0XTAsA+m3STmuZWA+m3VJkOvWRPXTTlv5HWK9uCXndF5m+9q75ni08qbf6hzKuW9MefaOryWh3AVQ5t0Kza7oy5Eocs2t60VMd0dlE2AWAQV3Axq1dq96RtVod9+of1GDplv5HDKzve+j4Fr96ba/+u67Vn5GUD3lNfuQ86+JuAlDt6tp0mkW6cN2BY0Pa3awUpZq+stHuZloAsBmBd0St6s31pZVFTirbosG32U7q+33KHM8sm2sJdw+AqjfHo7pddE6U0fdCTl5Iuv7qsOvSCwpq6CTsAsBmBt45XmOmL3Y26x/eqH8UYRcA+tW/SadL+p7nBk5QGxR2FUtxqukPz7alTAsANjHw7n2Rj6yJtfd/Neuxt1ysHUbE+t7Liaatv6oCAGArO9bjuslqshpdFHr6T1ArshrDi5Hp6IebCbsA8JoC73YZXWnSJ+tb9WO59uzt1Sl/+YJ1MyoAeOPUT1KjB13kPSW2C7bCr6NWnmX3MC0AeI2B16U75DpI0u5/69EJz/afUAYAeCPM8ah+ZzVGI3RxOrBdcJFmd3XUF3YbCbsAsFmBd1WTXb3HfO/46yxby3gA4I1Vv7POdenCgbA7hEvukT5B2AWATVd0HV7CLgC80dwmtPrsaKQuHDhiwQYvPeZSdywdtoqwCwCvP/ACAN4457z990ldq84PrrYNNLs5lz7KCWoAQOAFgLLirvDu+09pikfoO6Wa3SDl40hHrCLsAgCBFwDKSV+y/dWLbxu3Ns18r1SzG6S1ko54mMMYAGCzZRgBAGyLsBvsP1/c25e9sM/2tZHLhi7GUEjAmUgfJewCqGYdHQ/XPJ95Zm5Q+HF+bfefn615uWduQ0PuNQXe8f/ie/oInSpTjpECwBvjqie7D38mNzKqjeXyomH3JZeOIuwCwEtxZNZYWzPqSxmLn97bRz80/+blD0bye7pfXnNv02eOfGmjgTc7Uvt7rb4RehknALxRns+PVGR9YVdDwm7hYDPXJ1Y12TImhUqWCe4ehcAksCF/kbSdez7X29P35m6SdrXgh1kUf2HEqNFasHj5LZGnl7+UjFj24tie/NypU5PB78MOaPUpoUb3OIEXALa52ijRB3f+4y/eMfqJe3o9W1vxn7CFEebR3sH1qFmR8F8FIlNdCP6IzKos+PV9ulGtSSNd4QVOK0JJ7lmTzpY0otjVcRwrzmSV6+3pkes/ZNFv3MLzyoSfzPr41C4CLwAMm+dzKXHphN3+EN484rnIqzP7AUCpZ0lp054XX7lhFEV9z62/CQpf5qQ1ANj2z+KKzV/+2NhVv9531DMh5zFTqS67mutvbsVX6gCqnbkiV3So5DWbcOucFB41RX9JzG+Jc377rIYpfyLwAsA2FKS/mfQ/kn1h9CPXLxs1caKNYixV5fnnn4923GknjmMFSvjT6tpRO+20458lFQ28ZpHkviy4L3jypXTRB96q5NK/PeU3TG9I190mkzc9Z726y6QeRgoAbyyT1nQ123F9f36YcVSrlBEApV3U8atEr1pMzJ5291VRHP3Bze74y5j8kvVPVJtb5H1kVjXqIXXoCMYJANvADYwAADZaDlj0snu41dLoquAj//NJjeyee/REltQFAAAAxNbCAAAAIPACAAAABF4AAACAwAsAAAAQeAEAAAACLwAAAEDgBQAAAAi8AAAAqHAZRoAtpX3xA7vUaM0+m3LbZG3m8TM/Pen5Sp9J2y337lmThr8zs/EK6jFLHw1/W33frFkfX1vtj5crOpbuF7LaLsqP+PNpDYc8Vy2f98Jbl7/DE3uvRRqrYC+mlj4466jJ/25mXrWPhVuW7hdC32Oh98+nNXzkuWr63C9bdN8BkacTI9PbzPTX1NM/zpz2gfuq6fGwYPHSgzfldm5ROuuoKX/g1RYEXmxTtd5zrCy+TLIN39Ck7Eg7UdI1Ff0kvmjFFKXhdjPVuofC521RrGjXMc9csWjZ5NOmT+ms1sfKj5bcP6a7p2dJFMX7J1HvzL4cWBXBbvHyGyPLHp0op76HRJ9snNHCm5evuOqqqw4/+eSTe6rtsTC/484dPMT/FkXRfiGKTpX0g2r4vDs6OuIXs3t+SxbOl0vuLndTHBUeD3fM61h69FkNU1+uhlmYMv9ZeNnYQMQ365uRuiWN4tUWm4NDGrAFn7U87+4vu4ehv0Lf732CPAQPFkJFh91bll8wctSoe6LIal162GTXSfppCP60u70pyP6wqa1GJVrT3ftFl+3vISg2C5X++V54ze9GL1i07H6L46OTfC4n6Zcmu0GyZWmSrI2ieFJ+x30fmtexdPeqe9qIa7/o7vv1PRY88qppNV+o2f3famprzu97PnTpPpOukWlpCCHJxNnDs5n4oQuvuWN0NczC3dd68DXFXzs81/e6EfoeH+4JL7TYXDS82GJmHDX5Bx033HD14MsbGhrCFYuWHmGZ2n9Lk7zc9FScX7ukUudw5S337hlC+FL32pclt6tnHj355EKJ4a4rb71vjzQNj5hptHv0M0l7VcvjY/78+dnMm8YfmppaJT9gIO5Uxee+w/YvzMrE2fckST6V7MQnfndXx9y5c/u+A9T8RXdPslQ/j+J430zGvyJpdjU8FqKd6iZ51lrk6x4L1WPB4mXnmuvDofB9v3125rTJPx74YvAFi1ZMieLMPZamb9lh+xGXSfpcpc9jx+SpMcUuf2q77TIjera7XdKUKJNRSMOneKUFgRfbnpk3SOmQJ/dFS48Pin6oJO8WRUtfzmU+dm7DlO5KHUM+nx5cO6J2TD7X+3Kk/NfXlRgy06nSkwtuvueMbHbkNRZFe1626L5dz5j+/v+tiofHm+qeyIwcOTb09so9eNWk3X7f8MLPrW3xzKMnX/9/XzKFESxfuGh5exRFXzCzs+Z1LP1Spf8o28bW/bVmxMhdcn2PBXlVPRbc3RYuWn6YmyvJ9f585vQpP37lOULSzOmTls1fdM8PIotOcfd3zenoqJnb0JCr5Jk0NDQMed1YeNPSvUf2xj/O1tRMzudzL3kIp86cNumnvNBic3FIA7aqhYvu/ZJZfJ1Z1PfN1fLumtVHnttwSHdFf1FF0dSQ9j1/e89pRx/2+JAX+3Tk0jiOlSaJYoX66vmGSO29vWvbXGmbyxZKeqEaPu35N684OY4yo0MalP39Hz9b7DYzpk8+P02SNX2RpyYbX1D53xurbd1jwcwWWpU8FgoFwIKfjnTr/8mOyx8oPqD4N33fDJls1D7aZ7tqe924qONXOyuKl7r75Hyutztk0vfOOGrSjbyi4vWg4cXW6jFswU3LvyAL33b3vvR3w8zpU06oiu8iY93sSoMUFf0xnavno2laW2j30iT3WLU8ImZOn/KNdX+es3RpZq/no0mSdqz4x4PrfaHwJaCHT55b+qS04FqhkH7EXX9f6TOZMW3K3Fe+IZj/m6yNXTPFquCx0OfJJ7fL7b2rfc8ivSck+o+iedfD+72/9H557XbPr6mmV475HcsOtExuSRRn9k6T5C/ycOysj0/t4jUVBF4MzxbjxnumZ2pG/EuSz/X/tNJ8rysXr5iT/O8LF1b6klynfXLSfZLuK3bdpTcv30fBv5Pk8wru95/RcNgT1fj42OWJUaM0qrcqfsIUPOw1cAL6Bu/rSPrzwN/YsaoeDDs9P0qqrZpDGubOnZpI+tHAr6GBb/Gyw+M4++nCyi4hLGk68sjeapnNlbfcu30a0h/L1Rd2+74oaqXojCsXLX351OlTH+KVFQRebP3vum+7982ZxPbqP6F4vRfz2L23ZvVvBz8pzzxm6k0LFq/4g0n1Ls+bRZOiTGZStOsOsy6/8d5PnH7Mob8pxzn8oGPF2N5Y4zKyVx1zlsjjmoz9/tRPHrq61N+9fNG9B8UernVpxxB8bRI0s3IeH78ZlUl6Dxr8+PA4RB70p1nTJ/+1Gr9uCsdrLl5e+JG0uZ7c0G1N/me3SHKrveqqpSNOPnlqD8881WPp0qWZR5+Pj5HbdWmSl8ke/8uL6ZxqmkHf8+fCxct/aJF9193XePCxURx/Ljtq9OcWLF7+7Sd+O+krc+dW/qouIPBiG7IkPTO4ne+RXrUsjAXPZ7q3P1DSfw3+O3FkH0nz8U4eW4+HMDmfy19sZntEcbrkssVL33PGtKn/XW5zyGf9yJo4vjpN0/z6l9fEcTafT6dIWj7478yZ49GeBy1vNYWTJI02syDzY8+cPuX3lfP4WD0u9eiXiuxVc4lk2SA/V9LFVfl1Y+YLFi0rfHNkkWo2fONoRH/wlY8evSsv6lXkipvuesujL0TXSnqvFPoeN50K6eFzq/Cbnh3yT130XLz7/RYlT+RzmR1qa8O3etauOSKOMxfs8Y5lfd84t/GIAYEXW/OV+2m5d7q/ehUG68uAqsmV+G79SemVVuuPC2689wGPwoOSxprij0i6vNzGELleCEnyqEuveiEKSTJCHoYcqnH5zSsmxGHFbZlszdvzST7I9TslPm1Gw5Q/VdLDw1P1WKTOwetkBvcaN3uuur907Dn3wglKG9yF0OX7Fs7TN1vb0DAxx5NO5evo6Iifr939IyHVor7vm03eLYuWhv9dedSsWbPy1TiTgRUb1i8OPrLg5hUPhRAmxnHcSuAFgRdb1cyjJl8yZ86clmLXzZ07t9BGzZkzJ9rjoA8fGHlaM/PoKb8efLsnwpOP7hXt+qBk74sU3lmOc5gxffItc+b4bdLXB13zdQ3+UduCRStmKPglMo3K5/MvStFZ3SNeurESj8mbdczUrjlz5hRZT3XoXKov8Yb/MYvlrrdsMPC63maR9X2X8DTPONURdl/I7LEgCn5K3/3uITzqUfakmUf9/S+rbRbti3+xywjVTjpt2qSbi38JpefUjBh1R5LP6erF9+170rT3/5FHEAi82Fp87ty5G9wFaa+DPnRf7Yia9/X09C6SdPTg6ydK6QtuvYWf2cpGlusgige4ua96a8EN9/zDyFEjF3SvXePu0WNxr0059YRDn6zkB8i6b3w2NJfq/MqJb43j+JxsTe2bL795xYTTj5q0cvBN5l+79E3Zmuz73KXE8yy/VAVezO72ldra2lNyPd2JK7p+xvQpn63GOcy/adnMMWN2mm9WOIc1KrbBcBLsmVqzwhW9+YSthbFZWIcXW4xZuK+3p1uRfMrCm5buPfj657XTXjI7cOCh9+tKncMVHb/aWbHN7167pm8oP+8ZsfqASg+7KG3GtEn35NPkd7293YpdtxTbZMFGRovSNFWa5J+eOW3y1Uytsl1x870fj+LM10OayhR9fca0Qz9btSGkN7klyee0ZvULWrh4+bxit8lE9o18rlceXLMapvyBRxA2Bw0vtphE1pGRnynTLrLMrxfceO+H8iFf2Hghk63ZLVL4uUw7e9CLSZJU7NbCnskdnM3W7pNPeoNJfxjZO2r6whvvGfoNQsZMuZoHTms45DEePZXOzzfZ7cGT/RYsWn5tznKzw5pcPmMhzowe8xUFn9Tfa/nXmFXldwMhpKcquFKLes1t1cLF95wwdI9KySLrff7l3tu/8LnDK3Yt3hmfOuzphTcvWyS36e4+68rFKx5TZAt7evNuozLZbKLz5f4xmclD+kUePiDwYps7Y9rkBxYsXn6m3FvNtHuUtYdqQvQ/ksnM9ymcuBPCS5GiGWc1TK3YkOeyT6ch6ftDFGXi86MoK2WH3i6Os+pR91mSCLwVbta0KXcsWLzin82ir0RRfHxtyB7no7JPyWy3TJSJUk8V5D+4M//0lUyrss3rWDpaUl1hoTr32kxt9obCS3GR54h8Pr9mu+2zB0iq6M0nLFczI2Rzu5vZ31sm8/0kn5uTzUTPKOdj40xm+yTJe0hDx8yjp3yXRxA2F4c0YIuaOW3y1XEc17lsVUhDr7vt5q7dQgi9Ln8oVWb/06ZPuqGih2B6e0jTXklr0yRZm8/liv7q6VmTNw+91flIeVYu73H3nmTQmsaV+7Ux6avB9bE0TZ50t5ykN8k9ySf55+U6ZeZRk069of8M9arSu90Yl/U/FszjpNI/31FZZWSFcxi6+54jSj0/9P2S+/NRPqn4kz5PazjkuZnTprzfFX01yee7JauVtI+kmiTJd8vslBnTJh3PKyxe30szsPWajO3iTHbfOASvHdPzx88dfvgapgJIV9z0y7fkop43eWQvnvXJqTT8wKCvj6D8rnEmfmJgeUvgdfv/AQAA//8BrMiePMFO1QAAAABJRU5ErkJggg==)\n",
        "\n",
        "Relu is linear for all positive values, and zero for all negative values.\n",
        "Which means:\n",
        "1. It’s cheap to compute as there is no complicated math. The model can therefore take less time to train or run.\n",
        "2. It converges faster. Linearity means that the slope doesn’t plateau, or “saturate,” when x gets large. It doesn’t have the vanishing gradient problem suffered by other activation functions like sigmoid or tanh.\n",
        "3. It’s sparsely activated. Since ReLU is zero for all negative inputs, it’s likely for any given unit to not activate at all."
      ]
    },
    {
      "cell_type": "markdown",
      "metadata": {
        "id": "9alMTtegqUNt"
      },
      "source": [
        "## Why mean squared error as loss function\n",
        "\n",
        "[Reference: How to Choose Loss Functions When Training Deep Learning Neural Networks](https://machinelearningmastery.com/how-to-choose-loss-functions-when-training-deep-learning-neural-networks/)\n",
        "<br/>\n",
        "Loss function used is `mean_squared_error`. This is chosen because we are solving a regression problem, and MSE is the default loss to ues for regression problems.\n",
        "\n",
        "Mathematically, it is the preferred loss function under the inference framework of maximum likelihood if the distribution of the target variable is Gaussian. It is the loss function to be evaluated first and only changed if you have a good reason.\n",
        "\n",
        "Mean squared error is calculated as the average of the squared differences between the predicted and actual values. The result is always positive regardless of the sign of the predicted and actual values and a perfect value is 0.0. The squaring means that larger mistakes result in more error than smaller mistakes, meaning that the model is punished for making larger mistakes."
      ]
    },
    {
      "cell_type": "markdown",
      "metadata": {
        "id": "W9ZVtvirqTTt"
      },
      "source": [
        "## Why Adam as optimizer\n",
        "\n",
        "[Reference: Various Optimization Algorithms For Training Neural Network](https://towardsdatascience.com/optimizers-for-training-neural-network-59450d71caf6)\n",
        "<br/>\n",
        "\n",
        "Adam (Adaptive Moment Estimation) is said to be the best optimizer.\n",
        "It has the advantages:\n",
        "\n",
        "1. The method is too fast and converges rapidly\n",
        "2. Rectifies vanishing learning rate, high variance."
      ]
    },
    {
      "cell_type": "markdown",
      "metadata": {
        "id": "8qswRwzco52z"
      },
      "source": [
        "Here we are compiling the model and fitting it to the training data. We will use 250 epochs to train the model. An epoch is an iteration over the entire data provided. batch_size is the number of samples per gradient update i.e. here the weights will be updates after 128 training examples."
      ]
    },
    {
      "cell_type": "code",
      "metadata": {
        "id": "AycB2-YjVLPR",
        "colab": {
          "base_uri": "https://localhost:8080/"
        },
        "outputId": "f1ec90f2-a821-46f9-c80c-af5b767a9213"
      },
      "source": [
        "model.compile(optimizer='adam', loss = 'mean_squared_error')\n",
        "history = model.fit(x=X_train, y=y_train, epochs=250, batch_size=128, shuffle=False)"
      ],
      "execution_count": null,
      "outputs": [
        {
          "output_type": "stream",
          "text": [
            "Epoch 1/250\n",
            "3/3 [==============================] - 2s 16ms/step - loss: 0.1379\n",
            "Epoch 2/250\n",
            "3/3 [==============================] - 0s 16ms/step - loss: 0.1250\n",
            "Epoch 3/250\n",
            "3/3 [==============================] - 0s 15ms/step - loss: 0.1116\n",
            "Epoch 4/250\n",
            "3/3 [==============================] - 0s 15ms/step - loss: 0.0966\n",
            "Epoch 5/250\n",
            "3/3 [==============================] - 0s 16ms/step - loss: 0.0801\n",
            "Epoch 6/250\n",
            "3/3 [==============================] - 0s 18ms/step - loss: 0.0630\n",
            "Epoch 7/250\n",
            "3/3 [==============================] - 0s 15ms/step - loss: 0.0505\n",
            "Epoch 8/250\n",
            "3/3 [==============================] - 0s 15ms/step - loss: 0.0444\n",
            "Epoch 9/250\n",
            "3/3 [==============================] - 0s 15ms/step - loss: 0.0370\n",
            "Epoch 10/250\n",
            "3/3 [==============================] - 0s 16ms/step - loss: 0.0346\n",
            "Epoch 11/250\n",
            "3/3 [==============================] - 0s 15ms/step - loss: 0.0335\n",
            "Epoch 12/250\n",
            "3/3 [==============================] - 0s 18ms/step - loss: 0.0328\n",
            "Epoch 13/250\n",
            "3/3 [==============================] - 0s 15ms/step - loss: 0.0314\n",
            "Epoch 14/250\n",
            "3/3 [==============================] - 0s 15ms/step - loss: 0.0297\n",
            "Epoch 15/250\n",
            "3/3 [==============================] - 0s 16ms/step - loss: 0.0282\n",
            "Epoch 16/250\n",
            "3/3 [==============================] - 0s 16ms/step - loss: 0.0267\n",
            "Epoch 17/250\n",
            "3/3 [==============================] - 0s 27ms/step - loss: 0.0249\n",
            "Epoch 18/250\n",
            "3/3 [==============================] - 0s 16ms/step - loss: 0.0234\n",
            "Epoch 19/250\n",
            "3/3 [==============================] - 0s 16ms/step - loss: 0.0218\n",
            "Epoch 20/250\n",
            "3/3 [==============================] - 0s 16ms/step - loss: 0.0206\n",
            "Epoch 21/250\n",
            "3/3 [==============================] - 0s 16ms/step - loss: 0.0194\n",
            "Epoch 22/250\n",
            "3/3 [==============================] - 0s 16ms/step - loss: 0.0181\n",
            "Epoch 23/250\n",
            "3/3 [==============================] - 0s 17ms/step - loss: 0.0175\n",
            "Epoch 24/250\n",
            "3/3 [==============================] - 0s 16ms/step - loss: 0.0164\n",
            "Epoch 25/250\n",
            "3/3 [==============================] - 0s 17ms/step - loss: 0.0158\n",
            "Epoch 26/250\n",
            "3/3 [==============================] - 0s 15ms/step - loss: 0.0152\n",
            "Epoch 27/250\n",
            "3/3 [==============================] - 0s 15ms/step - loss: 0.0143\n",
            "Epoch 28/250\n",
            "3/3 [==============================] - 0s 16ms/step - loss: 0.0136\n",
            "Epoch 29/250\n",
            "3/3 [==============================] - 0s 16ms/step - loss: 0.0129\n",
            "Epoch 30/250\n",
            "3/3 [==============================] - 0s 19ms/step - loss: 0.0124\n",
            "Epoch 31/250\n",
            "3/3 [==============================] - 0s 17ms/step - loss: 0.0122\n",
            "Epoch 32/250\n",
            "3/3 [==============================] - 0s 19ms/step - loss: 0.0117\n",
            "Epoch 33/250\n",
            "3/3 [==============================] - 0s 16ms/step - loss: 0.0113\n",
            "Epoch 34/250\n",
            "3/3 [==============================] - 0s 16ms/step - loss: 0.0108\n",
            "Epoch 35/250\n",
            "3/3 [==============================] - 0s 16ms/step - loss: 0.0103\n",
            "Epoch 36/250\n",
            "3/3 [==============================] - 0s 18ms/step - loss: 0.0101\n",
            "Epoch 37/250\n",
            "3/3 [==============================] - 0s 16ms/step - loss: 0.0097\n",
            "Epoch 38/250\n",
            "3/3 [==============================] - 0s 15ms/step - loss: 0.0093\n",
            "Epoch 39/250\n",
            "3/3 [==============================] - 0s 15ms/step - loss: 0.0093\n",
            "Epoch 40/250\n",
            "3/3 [==============================] - 0s 15ms/step - loss: 0.0089\n",
            "Epoch 41/250\n",
            "3/3 [==============================] - 0s 15ms/step - loss: 0.0086\n",
            "Epoch 42/250\n",
            "3/3 [==============================] - 0s 17ms/step - loss: 0.0086\n",
            "Epoch 43/250\n",
            "3/3 [==============================] - 0s 16ms/step - loss: 0.0085\n",
            "Epoch 44/250\n",
            "3/3 [==============================] - 0s 16ms/step - loss: 0.0083\n",
            "Epoch 45/250\n",
            "3/3 [==============================] - 0s 16ms/step - loss: 0.0082\n",
            "Epoch 46/250\n",
            "3/3 [==============================] - 0s 15ms/step - loss: 0.0077\n",
            "Epoch 47/250\n",
            "3/3 [==============================] - 0s 17ms/step - loss: 0.0076\n",
            "Epoch 48/250\n",
            "3/3 [==============================] - 0s 15ms/step - loss: 0.0072\n",
            "Epoch 49/250\n",
            "3/3 [==============================] - 0s 16ms/step - loss: 0.0071\n",
            "Epoch 50/250\n",
            "3/3 [==============================] - 0s 16ms/step - loss: 0.0070\n",
            "Epoch 51/250\n",
            "3/3 [==============================] - 0s 16ms/step - loss: 0.0068\n",
            "Epoch 52/250\n",
            "3/3 [==============================] - 0s 16ms/step - loss: 0.0067\n",
            "Epoch 53/250\n",
            "3/3 [==============================] - 0s 17ms/step - loss: 0.0065\n",
            "Epoch 54/250\n",
            "3/3 [==============================] - 0s 21ms/step - loss: 0.0061\n",
            "Epoch 55/250\n",
            "3/3 [==============================] - 0s 16ms/step - loss: 0.0060\n",
            "Epoch 56/250\n",
            "3/3 [==============================] - 0s 15ms/step - loss: 0.0059\n",
            "Epoch 57/250\n",
            "3/3 [==============================] - 0s 15ms/step - loss: 0.0059\n",
            "Epoch 58/250\n",
            "3/3 [==============================] - 0s 16ms/step - loss: 0.0056\n",
            "Epoch 59/250\n",
            "3/3 [==============================] - 0s 16ms/step - loss: 0.0056\n",
            "Epoch 60/250\n",
            "3/3 [==============================] - 0s 16ms/step - loss: 0.0053\n",
            "Epoch 61/250\n",
            "3/3 [==============================] - 0s 16ms/step - loss: 0.0053\n",
            "Epoch 62/250\n",
            "3/3 [==============================] - 0s 16ms/step - loss: 0.0052\n",
            "Epoch 63/250\n",
            "3/3 [==============================] - 0s 15ms/step - loss: 0.0048\n",
            "Epoch 64/250\n",
            "3/3 [==============================] - 0s 15ms/step - loss: 0.0046\n",
            "Epoch 65/250\n",
            "3/3 [==============================] - 0s 15ms/step - loss: 0.0045\n",
            "Epoch 66/250\n",
            "3/3 [==============================] - 0s 16ms/step - loss: 0.0042\n",
            "Epoch 67/250\n",
            "3/3 [==============================] - 0s 15ms/step - loss: 0.0042\n",
            "Epoch 68/250\n",
            "3/3 [==============================] - 0s 16ms/step - loss: 0.0043\n",
            "Epoch 69/250\n",
            "3/3 [==============================] - 0s 17ms/step - loss: 0.0039\n",
            "Epoch 70/250\n",
            "3/3 [==============================] - 0s 16ms/step - loss: 0.0038\n",
            "Epoch 71/250\n",
            "3/3 [==============================] - 0s 16ms/step - loss: 0.0038\n",
            "Epoch 72/250\n",
            "3/3 [==============================] - 0s 17ms/step - loss: 0.0037\n",
            "Epoch 73/250\n",
            "3/3 [==============================] - 0s 18ms/step - loss: 0.0036\n",
            "Epoch 74/250\n",
            "3/3 [==============================] - 0s 15ms/step - loss: 0.0037\n",
            "Epoch 75/250\n",
            "3/3 [==============================] - 0s 16ms/step - loss: 0.0034\n",
            "Epoch 76/250\n",
            "3/3 [==============================] - 0s 16ms/step - loss: 0.0034\n",
            "Epoch 77/250\n",
            "3/3 [==============================] - 0s 16ms/step - loss: 0.0034\n",
            "Epoch 78/250\n",
            "3/3 [==============================] - 0s 16ms/step - loss: 0.0034\n",
            "Epoch 79/250\n",
            "3/3 [==============================] - 0s 16ms/step - loss: 0.0032\n",
            "Epoch 80/250\n",
            "3/3 [==============================] - 0s 15ms/step - loss: 0.0031\n",
            "Epoch 81/250\n",
            "3/3 [==============================] - 0s 18ms/step - loss: 0.0031\n",
            "Epoch 82/250\n",
            "3/3 [==============================] - 0s 16ms/step - loss: 0.0032\n",
            "Epoch 83/250\n",
            "3/3 [==============================] - 0s 18ms/step - loss: 0.0031\n",
            "Epoch 84/250\n",
            "3/3 [==============================] - 0s 17ms/step - loss: 0.0031\n",
            "Epoch 85/250\n",
            "3/3 [==============================] - 0s 17ms/step - loss: 0.0029\n",
            "Epoch 86/250\n",
            "3/3 [==============================] - 0s 16ms/step - loss: 0.0030\n",
            "Epoch 87/250\n",
            "3/3 [==============================] - 0s 17ms/step - loss: 0.0029\n",
            "Epoch 88/250\n",
            "3/3 [==============================] - 0s 16ms/step - loss: 0.0029\n",
            "Epoch 89/250\n",
            "3/3 [==============================] - 0s 17ms/step - loss: 0.0029\n",
            "Epoch 90/250\n",
            "3/3 [==============================] - 0s 17ms/step - loss: 0.0030\n",
            "Epoch 91/250\n",
            "3/3 [==============================] - 0s 22ms/step - loss: 0.0028\n",
            "Epoch 92/250\n",
            "3/3 [==============================] - 0s 16ms/step - loss: 0.0028\n",
            "Epoch 93/250\n",
            "3/3 [==============================] - 0s 17ms/step - loss: 0.0030\n",
            "Epoch 94/250\n",
            "3/3 [==============================] - 0s 15ms/step - loss: 0.0027\n",
            "Epoch 95/250\n",
            "3/3 [==============================] - 0s 15ms/step - loss: 0.0028\n",
            "Epoch 96/250\n",
            "3/3 [==============================] - 0s 17ms/step - loss: 0.0029\n",
            "Epoch 97/250\n",
            "3/3 [==============================] - 0s 18ms/step - loss: 0.0029\n",
            "Epoch 98/250\n",
            "3/3 [==============================] - 0s 16ms/step - loss: 0.0027\n",
            "Epoch 99/250\n",
            "3/3 [==============================] - 0s 16ms/step - loss: 0.0028\n",
            "Epoch 100/250\n",
            "3/3 [==============================] - 0s 18ms/step - loss: 0.0025\n",
            "Epoch 101/250\n",
            "3/3 [==============================] - 0s 15ms/step - loss: 0.0025\n",
            "Epoch 102/250\n",
            "3/3 [==============================] - 0s 16ms/step - loss: 0.0025\n",
            "Epoch 103/250\n",
            "3/3 [==============================] - 0s 18ms/step - loss: 0.0026\n",
            "Epoch 104/250\n",
            "3/3 [==============================] - 0s 16ms/step - loss: 0.0028\n",
            "Epoch 105/250\n",
            "3/3 [==============================] - 0s 16ms/step - loss: 0.0025\n",
            "Epoch 106/250\n",
            "3/3 [==============================] - 0s 16ms/step - loss: 0.0027\n",
            "Epoch 107/250\n",
            "3/3 [==============================] - 0s 16ms/step - loss: 0.0027\n",
            "Epoch 108/250\n",
            "3/3 [==============================] - 0s 16ms/step - loss: 0.0027\n",
            "Epoch 109/250\n",
            "3/3 [==============================] - 0s 17ms/step - loss: 0.0027\n",
            "Epoch 110/250\n",
            "3/3 [==============================] - 0s 20ms/step - loss: 0.0026\n",
            "Epoch 111/250\n",
            "3/3 [==============================] - 0s 16ms/step - loss: 0.0027\n",
            "Epoch 112/250\n",
            "3/3 [==============================] - 0s 16ms/step - loss: 0.0025\n",
            "Epoch 113/250\n",
            "3/3 [==============================] - 0s 17ms/step - loss: 0.0025\n",
            "Epoch 114/250\n",
            "3/3 [==============================] - 0s 16ms/step - loss: 0.0026\n",
            "Epoch 115/250\n",
            "3/3 [==============================] - 0s 16ms/step - loss: 0.0026\n",
            "Epoch 116/250\n",
            "3/3 [==============================] - 0s 15ms/step - loss: 0.0024\n",
            "Epoch 117/250\n",
            "3/3 [==============================] - 0s 19ms/step - loss: 0.0024\n",
            "Epoch 118/250\n",
            "3/3 [==============================] - 0s 16ms/step - loss: 0.0025\n",
            "Epoch 119/250\n",
            "3/3 [==============================] - 0s 16ms/step - loss: 0.0025\n",
            "Epoch 120/250\n",
            "3/3 [==============================] - 0s 17ms/step - loss: 0.0025\n",
            "Epoch 121/250\n",
            "3/3 [==============================] - 0s 17ms/step - loss: 0.0025\n",
            "Epoch 122/250\n",
            "3/3 [==============================] - 0s 16ms/step - loss: 0.0026\n",
            "Epoch 123/250\n",
            "3/3 [==============================] - 0s 18ms/step - loss: 0.0026\n",
            "Epoch 124/250\n",
            "3/3 [==============================] - 0s 16ms/step - loss: 0.0025\n",
            "Epoch 125/250\n",
            "3/3 [==============================] - 0s 16ms/step - loss: 0.0025\n",
            "Epoch 126/250\n",
            "3/3 [==============================] - 0s 16ms/step - loss: 0.0024\n",
            "Epoch 127/250\n",
            "3/3 [==============================] - 0s 16ms/step - loss: 0.0023\n",
            "Epoch 128/250\n",
            "3/3 [==============================] - 0s 16ms/step - loss: 0.0024\n",
            "Epoch 129/250\n",
            "3/3 [==============================] - 0s 19ms/step - loss: 0.0025\n",
            "Epoch 130/250\n",
            "3/3 [==============================] - 0s 18ms/step - loss: 0.0023\n",
            "Epoch 131/250\n",
            "3/3 [==============================] - 0s 17ms/step - loss: 0.0024\n",
            "Epoch 132/250\n",
            "3/3 [==============================] - 0s 16ms/step - loss: 0.0024\n",
            "Epoch 133/250\n",
            "3/3 [==============================] - 0s 16ms/step - loss: 0.0024\n",
            "Epoch 134/250\n",
            "3/3 [==============================] - 0s 15ms/step - loss: 0.0024\n",
            "Epoch 135/250\n",
            "3/3 [==============================] - 0s 16ms/step - loss: 0.0025\n",
            "Epoch 136/250\n",
            "3/3 [==============================] - 0s 15ms/step - loss: 0.0022\n",
            "Epoch 137/250\n",
            "3/3 [==============================] - 0s 15ms/step - loss: 0.0023\n",
            "Epoch 138/250\n",
            "3/3 [==============================] - 0s 16ms/step - loss: 0.0022\n",
            "Epoch 139/250\n",
            "3/3 [==============================] - 0s 16ms/step - loss: 0.0024\n",
            "Epoch 140/250\n",
            "3/3 [==============================] - 0s 16ms/step - loss: 0.0024\n",
            "Epoch 141/250\n",
            "3/3 [==============================] - 0s 17ms/step - loss: 0.0023\n",
            "Epoch 142/250\n",
            "3/3 [==============================] - 0s 16ms/step - loss: 0.0024\n",
            "Epoch 143/250\n",
            "3/3 [==============================] - 0s 16ms/step - loss: 0.0022\n",
            "Epoch 144/250\n",
            "3/3 [==============================] - 0s 15ms/step - loss: 0.0022\n",
            "Epoch 145/250\n",
            "3/3 [==============================] - 0s 16ms/step - loss: 0.0021\n",
            "Epoch 146/250\n",
            "3/3 [==============================] - 0s 16ms/step - loss: 0.0023\n",
            "Epoch 147/250\n",
            "3/3 [==============================] - 0s 16ms/step - loss: 0.0023\n",
            "Epoch 148/250\n",
            "3/3 [==============================] - 0s 17ms/step - loss: 0.0021\n",
            "Epoch 149/250\n",
            "3/3 [==============================] - 0s 16ms/step - loss: 0.0022\n",
            "Epoch 150/250\n",
            "3/3 [==============================] - 0s 16ms/step - loss: 0.0023\n",
            "Epoch 151/250\n",
            "3/3 [==============================] - 0s 16ms/step - loss: 0.0023\n",
            "Epoch 152/250\n",
            "3/3 [==============================] - 0s 16ms/step - loss: 0.0022\n",
            "Epoch 153/250\n",
            "3/3 [==============================] - 0s 15ms/step - loss: 0.0021\n",
            "Epoch 154/250\n",
            "3/3 [==============================] - 0s 16ms/step - loss: 0.0021\n",
            "Epoch 155/250\n",
            "3/3 [==============================] - 0s 16ms/step - loss: 0.0022\n",
            "Epoch 156/250\n",
            "3/3 [==============================] - 0s 16ms/step - loss: 0.0022\n",
            "Epoch 157/250\n",
            "3/3 [==============================] - 0s 17ms/step - loss: 0.0021\n",
            "Epoch 158/250\n",
            "3/3 [==============================] - 0s 18ms/step - loss: 0.0022\n",
            "Epoch 159/250\n",
            "3/3 [==============================] - 0s 16ms/step - loss: 0.0022\n",
            "Epoch 160/250\n",
            "3/3 [==============================] - 0s 15ms/step - loss: 0.0021\n",
            "Epoch 161/250\n",
            "3/3 [==============================] - 0s 15ms/step - loss: 0.0023\n",
            "Epoch 162/250\n",
            "3/3 [==============================] - 0s 16ms/step - loss: 0.0021\n",
            "Epoch 163/250\n",
            "3/3 [==============================] - 0s 16ms/step - loss: 0.0022\n",
            "Epoch 164/250\n",
            "3/3 [==============================] - 0s 16ms/step - loss: 0.0023\n",
            "Epoch 165/250\n",
            "3/3 [==============================] - 0s 17ms/step - loss: 0.0021\n",
            "Epoch 166/250\n",
            "3/3 [==============================] - 0s 16ms/step - loss: 0.0022\n",
            "Epoch 167/250\n",
            "3/3 [==============================] - 0s 16ms/step - loss: 0.0021\n",
            "Epoch 168/250\n",
            "3/3 [==============================] - 0s 16ms/step - loss: 0.0022\n",
            "Epoch 169/250\n",
            "3/3 [==============================] - 0s 16ms/step - loss: 0.0021\n",
            "Epoch 170/250\n",
            "3/3 [==============================] - 0s 17ms/step - loss: 0.0021\n",
            "Epoch 171/250\n",
            "3/3 [==============================] - 0s 18ms/step - loss: 0.0021\n",
            "Epoch 172/250\n",
            "3/3 [==============================] - 0s 16ms/step - loss: 0.0020\n",
            "Epoch 173/250\n",
            "3/3 [==============================] - 0s 16ms/step - loss: 0.0021\n",
            "Epoch 174/250\n",
            "3/3 [==============================] - 0s 16ms/step - loss: 0.0021\n",
            "Epoch 175/250\n",
            "3/3 [==============================] - 0s 16ms/step - loss: 0.0022\n",
            "Epoch 176/250\n",
            "3/3 [==============================] - 0s 16ms/step - loss: 0.0022\n",
            "Epoch 177/250\n",
            "3/3 [==============================] - 0s 16ms/step - loss: 0.0020\n",
            "Epoch 178/250\n",
            "3/3 [==============================] - 0s 16ms/step - loss: 0.0023\n",
            "Epoch 179/250\n",
            "3/3 [==============================] - 0s 16ms/step - loss: 0.0021\n",
            "Epoch 180/250\n",
            "3/3 [==============================] - 0s 17ms/step - loss: 0.0022\n",
            "Epoch 181/250\n",
            "3/3 [==============================] - 0s 16ms/step - loss: 0.0020\n",
            "Epoch 182/250\n",
            "3/3 [==============================] - 0s 16ms/step - loss: 0.0020\n",
            "Epoch 183/250\n",
            "3/3 [==============================] - 0s 17ms/step - loss: 0.0020\n",
            "Epoch 184/250\n",
            "3/3 [==============================] - 0s 16ms/step - loss: 0.0021\n",
            "Epoch 185/250\n",
            "3/3 [==============================] - 0s 16ms/step - loss: 0.0020\n",
            "Epoch 186/250\n",
            "3/3 [==============================] - 0s 16ms/step - loss: 0.0020\n",
            "Epoch 187/250\n",
            "3/3 [==============================] - 0s 16ms/step - loss: 0.0020\n",
            "Epoch 188/250\n",
            "3/3 [==============================] - 0s 17ms/step - loss: 0.0021\n",
            "Epoch 189/250\n",
            "3/3 [==============================] - 0s 16ms/step - loss: 0.0020\n",
            "Epoch 190/250\n",
            "3/3 [==============================] - 0s 16ms/step - loss: 0.0020\n",
            "Epoch 191/250\n",
            "3/3 [==============================] - 0s 16ms/step - loss: 0.0020\n",
            "Epoch 192/250\n",
            "3/3 [==============================] - 0s 16ms/step - loss: 0.0019\n",
            "Epoch 193/250\n",
            "3/3 [==============================] - 0s 16ms/step - loss: 0.0020\n",
            "Epoch 194/250\n",
            "3/3 [==============================] - 0s 17ms/step - loss: 0.0021\n",
            "Epoch 195/250\n",
            "3/3 [==============================] - 0s 20ms/step - loss: 0.0019\n",
            "Epoch 196/250\n",
            "3/3 [==============================] - 0s 16ms/step - loss: 0.0020\n",
            "Epoch 197/250\n",
            "3/3 [==============================] - 0s 20ms/step - loss: 0.0020\n",
            "Epoch 198/250\n",
            "3/3 [==============================] - 0s 17ms/step - loss: 0.0019\n",
            "Epoch 199/250\n",
            "3/3 [==============================] - 0s 16ms/step - loss: 0.0020\n",
            "Epoch 200/250\n",
            "3/3 [==============================] - 0s 16ms/step - loss: 0.0019\n",
            "Epoch 201/250\n",
            "3/3 [==============================] - 0s 17ms/step - loss: 0.0020\n",
            "Epoch 202/250\n",
            "3/3 [==============================] - 0s 18ms/step - loss: 0.0019\n",
            "Epoch 203/250\n",
            "3/3 [==============================] - 0s 16ms/step - loss: 0.0019\n",
            "Epoch 204/250\n",
            "3/3 [==============================] - 0s 20ms/step - loss: 0.0021\n",
            "Epoch 205/250\n",
            "3/3 [==============================] - 0s 16ms/step - loss: 0.0021\n",
            "Epoch 206/250\n",
            "3/3 [==============================] - 0s 23ms/step - loss: 0.0021\n",
            "Epoch 207/250\n",
            "3/3 [==============================] - 0s 17ms/step - loss: 0.0019\n",
            "Epoch 208/250\n",
            "3/3 [==============================] - 0s 17ms/step - loss: 0.0020\n",
            "Epoch 209/250\n",
            "3/3 [==============================] - 0s 19ms/step - loss: 0.0020\n",
            "Epoch 210/250\n",
            "3/3 [==============================] - 0s 17ms/step - loss: 0.0019\n",
            "Epoch 211/250\n",
            "3/3 [==============================] - 0s 16ms/step - loss: 0.0019\n",
            "Epoch 212/250\n",
            "3/3 [==============================] - 0s 18ms/step - loss: 0.0020\n",
            "Epoch 213/250\n",
            "3/3 [==============================] - 0s 16ms/step - loss: 0.0019\n",
            "Epoch 214/250\n",
            "3/3 [==============================] - 0s 16ms/step - loss: 0.0020\n",
            "Epoch 215/250\n",
            "3/3 [==============================] - 0s 16ms/step - loss: 0.0020\n",
            "Epoch 216/250\n",
            "3/3 [==============================] - 0s 16ms/step - loss: 0.0018\n",
            "Epoch 217/250\n",
            "3/3 [==============================] - 0s 16ms/step - loss: 0.0019\n",
            "Epoch 218/250\n",
            "3/3 [==============================] - 0s 16ms/step - loss: 0.0020\n",
            "Epoch 219/250\n",
            "3/3 [==============================] - 0s 16ms/step - loss: 0.0020\n",
            "Epoch 220/250\n",
            "3/3 [==============================] - 0s 17ms/step - loss: 0.0019\n",
            "Epoch 221/250\n",
            "3/3 [==============================] - 0s 17ms/step - loss: 0.0019\n",
            "Epoch 222/250\n",
            "3/3 [==============================] - 0s 19ms/step - loss: 0.0019\n",
            "Epoch 223/250\n",
            "3/3 [==============================] - 0s 20ms/step - loss: 0.0019\n",
            "Epoch 224/250\n",
            "3/3 [==============================] - 0s 16ms/step - loss: 0.0020\n",
            "Epoch 225/250\n",
            "3/3 [==============================] - 0s 17ms/step - loss: 0.0019\n",
            "Epoch 226/250\n",
            "3/3 [==============================] - 0s 16ms/step - loss: 0.0019\n",
            "Epoch 227/250\n",
            "3/3 [==============================] - 0s 16ms/step - loss: 0.0018\n",
            "Epoch 228/250\n",
            "3/3 [==============================] - 0s 16ms/step - loss: 0.0018\n",
            "Epoch 229/250\n",
            "3/3 [==============================] - 0s 17ms/step - loss: 0.0019\n",
            "Epoch 230/250\n",
            "3/3 [==============================] - 0s 17ms/step - loss: 0.0018\n",
            "Epoch 231/250\n",
            "3/3 [==============================] - 0s 19ms/step - loss: 0.0019\n",
            "Epoch 232/250\n",
            "3/3 [==============================] - 0s 16ms/step - loss: 0.0019\n",
            "Epoch 233/250\n",
            "3/3 [==============================] - 0s 18ms/step - loss: 0.0019\n",
            "Epoch 234/250\n",
            "3/3 [==============================] - 0s 16ms/step - loss: 0.0018\n",
            "Epoch 235/250\n",
            "3/3 [==============================] - 0s 18ms/step - loss: 0.0019\n",
            "Epoch 236/250\n",
            "3/3 [==============================] - 0s 17ms/step - loss: 0.0019\n",
            "Epoch 237/250\n",
            "3/3 [==============================] - 0s 17ms/step - loss: 0.0019\n",
            "Epoch 238/250\n",
            "3/3 [==============================] - 0s 20ms/step - loss: 0.0019\n",
            "Epoch 239/250\n",
            "3/3 [==============================] - 0s 17ms/step - loss: 0.0019\n",
            "Epoch 240/250\n",
            "3/3 [==============================] - 0s 19ms/step - loss: 0.0020\n",
            "Epoch 241/250\n",
            "3/3 [==============================] - 0s 16ms/step - loss: 0.0018\n",
            "Epoch 242/250\n",
            "3/3 [==============================] - 0s 17ms/step - loss: 0.0018\n",
            "Epoch 243/250\n",
            "3/3 [==============================] - 0s 16ms/step - loss: 0.0019\n",
            "Epoch 244/250\n",
            "3/3 [==============================] - 0s 17ms/step - loss: 0.0018\n",
            "Epoch 245/250\n",
            "3/3 [==============================] - 0s 16ms/step - loss: 0.0018\n",
            "Epoch 246/250\n",
            "3/3 [==============================] - 0s 16ms/step - loss: 0.0018\n",
            "Epoch 247/250\n",
            "3/3 [==============================] - 0s 18ms/step - loss: 0.0018\n",
            "Epoch 248/250\n",
            "3/3 [==============================] - 0s 19ms/step - loss: 0.0019\n",
            "Epoch 249/250\n",
            "3/3 [==============================] - 0s 20ms/step - loss: 0.0018\n",
            "Epoch 250/250\n",
            "3/3 [==============================] - 0s 20ms/step - loss: 0.0018\n"
          ],
          "name": "stdout"
        }
      ]
    },
    {
      "cell_type": "markdown",
      "metadata": {
        "id": "0pmFGb-Qr71u"
      },
      "source": [
        "## Visualize the loss function"
      ]
    },
    {
      "cell_type": "code",
      "metadata": {
        "colab": {
          "base_uri": "https://localhost:8080/",
          "height": 265
        },
        "id": "21mKXTMMzCEh",
        "outputId": "d2731b44-30c2-4663-de17-72b6b7ea3a24"
      },
      "source": [
        "plt.plot(history.history['loss'], label='train')\n",
        "plt.legend()\n",
        "plt.show()"
      ],
      "execution_count": null,
      "outputs": [
        {
          "output_type": "display_data",
          "data": {
            "image/png": "[encoded data removed]",
            "text/plain": [
              "<Figure size 432x288 with 1 Axes>"
            ]
          },
          "metadata": {
            "tags": [],
            "needs_background": "light"
          }
        }
      ]
    },
    {
      "cell_type": "markdown",
      "metadata": {
        "id": "vMC78zdCsAD9"
      },
      "source": [
        "## Prepare test dataset"
      ]
    },
    {
      "cell_type": "markdown",
      "metadata": {
        "id": "xanTF6I-uHaU"
      },
      "source": [
        "In order to predict the data on any day we need the data of previous n days. However, when we are trying to predict further in the future, this is impossible because we don't have the data for the future.\n",
        "\n",
        "To solve this problem, we can either use a **multi-step** model which output multiple steps in the future. Or feed our **single-step** result back into the model to generate a sequence of data points.\n",
        "\n",
        "I decided to use the latter method. The diagram below shows how we are usingg the prediction result to predict further in to the future.\n",
        "\n",
        "Notice that we need 8 features input to the model, therefore we will need our model to predict 8 features output. Otherwise we can't generate further prediction values based on prediction result."
      ]
    },
    {
      "cell_type": "markdown",
      "metadata": {
        "id": "xtAfgDlTtvSq"
      },
      "source": [
        "![ml_pic_5.png](data:image/png;base64,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)"
      ]
    },
    {
      "cell_type": "markdown",
      "metadata": {
        "id": "xvb-UAmbDWXn"
      },
      "source": [
        "We are gonna predict the data in Feb 2021.\n",
        "Before we start, we will create the numpy array `Feb_data` from the `data_test`. This makes the latter code more clear."
      ]
    },
    {
      "cell_type": "code",
      "metadata": {
        "id": "YJEo2Wm_z4Tv"
      },
      "source": [
        "Feb_data = data_test.reset_index(drop=True)\n",
        "Feb_data = Feb_data.drop(['date'], axis=1)\n",
        "Feb_data = Feb_data.to_numpy()"
      ],
      "execution_count": null,
      "outputs": []
    },
    {
      "cell_type": "markdown",
      "metadata": {
        "id": "oasNt3AODXf_"
      },
      "source": [
        "Here, we will prepare the test dataset the way similar to how we prepare the training dataset. We will make the our test input as chunks of 14rows based on the previous 14days data.\n",
        "\n",
        "`past_days` will contain the data of the past 14 days required to predict the 15th day.\n",
        "\n",
        "So we will need data from the training set. Then we will scale the data down.\n",
        "\n",
        "Next, we are going to use our predicted result to predict further into the future. The for loop will do the job fo us. We first get a predicted output, then we append it to the input, reshape the input to the latest 14rows, and we make another prediction. This process will repeat for 28 times.\n",
        "\n",
        "During this process, we will also record the prediction for `total_cases` and real total case number."
      ]
    },
    {
      "cell_type": "code",
      "metadata": {
        "id": "-9Jjs3i-wfH_"
      },
      "source": [
        "past_days = data_training.tail(days)\n",
        "past_days = past_days.drop(['date'],axis=1)\n",
        "inputs = scaler.transform(past_days)\n",
        "\n",
        "prediction = []\n",
        "real_total_case = []\n",
        "for i in range(len(data_test)):\n",
        "  y_inputs = np.expand_dims(inputs, axis=0)\n",
        "  y_pred = model.predict(y_inputs)\n",
        "  inputs = np.delete(inputs,0,0)\n",
        "  inputs = np.append(inputs,y_pred)\n",
        "  inputs = inputs.reshape(days,features_nums)\n",
        "  prediction.append(y_pred[0][0])\n",
        "  real_total_case.append(Feb_data[i][0])"
      ],
      "execution_count": null,
      "outputs": []
    },
    {
      "cell_type": "code",
      "metadata": {
        "id": "NOFH0z1RxYNR"
      },
      "source": [
        "prediction = np.array(prediction)\n",
        "real_total_case = np.array(real_total_case)"
      ],
      "execution_count": null,
      "outputs": []
    },
    {
      "cell_type": "code",
      "metadata": {
        "colab": {
          "base_uri": "https://localhost:8080/"
        },
        "id": "ZkWAkRi7xsho",
        "outputId": "b31df6e8-9c5e-4ccb-f829-c6caeaa967fb"
      },
      "source": [
        "prediction.shape"
      ],
      "execution_count": null,
      "outputs": [
        {
          "output_type": "execute_result",
          "data": {
            "text/plain": [
              "(28,)"
            ]
          },
          "metadata": {
            "tags": []
          },
          "execution_count": 32
        }
      ]
    },
    {
      "cell_type": "markdown",
      "metadata": {
        "id": "WzNr9amJDyS4"
      },
      "source": [
        "As we had scaled all the values down, now we will have to get them back to the original scale. scaler.scale\\_ gives the scaling level for all features, and scaler.scale[0] gives the scaling for `total_cases`."
      ]
    },
    {
      "cell_type": "code",
      "metadata": {
        "colab": {
          "base_uri": "https://localhost:8080/"
        },
        "id": "Uw70MaY0ylcr",
        "outputId": "b6afb24f-83c4-4a27-8538-0c6a62122bc6"
      },
      "source": [
        "scale = 1/scaler.scale_[0]\n",
        "scale"
      ],
      "execution_count": null,
      "outputs": [
        {
          "output_type": "execute_result",
          "data": {
            "text/plain": [
              "3828093.0"
            ]
          },
          "metadata": {
            "tags": []
          },
          "execution_count": 33
        }
      ]
    },
    {
      "cell_type": "code",
      "metadata": {
        "id": "QYSzFxVTya-w"
      },
      "source": [
        "prediction = prediction*scale"
      ],
      "execution_count": null,
      "outputs": []
    },
    {
      "cell_type": "markdown",
      "metadata": {
        "id": "AuQ2ZodhEGI-"
      },
      "source": [
        "We can then flatten the array for prediction and real total case to calculate the percentage difference."
      ]
    },
    {
      "cell_type": "code",
      "metadata": {
        "id": "5fHpjytyytVH"
      },
      "source": [
        "pred = prediction.flatten()\n",
        "real = real_total_case.flatten()"
      ],
      "execution_count": null,
      "outputs": []
    },
    {
      "cell_type": "code",
      "metadata": {
        "colab": {
          "base_uri": "https://localhost:8080/"
        },
        "id": "Ec5YeQSN0iDw",
        "outputId": "f2a21107-8bf1-4c5d-c6ee-f398eac9de16"
      },
      "source": [
        "real"
      ],
      "execution_count": null,
      "outputs": [
        {
          "output_type": "execute_result",
          "data": {
            "text/plain": [
              "array([3846855., 3863761., 3882976., 3903710., 3922914., 3941277.,\n",
              "       3957181., 3971319., 3983760., 3996837., 4010380., 4025578.,\n",
              "       4038933., 4049924., 4059700., 4070336., 4083096., 4095191.,\n",
              "       4107290., 4117743., 4127578., 4138237., 4146760., 4156707.,\n",
              "       4166727., 4175315., 4182772., 4188827.])"
            ]
          },
          "metadata": {
            "tags": []
          },
          "execution_count": 36
        }
      ]
    },
    {
      "cell_type": "code",
      "metadata": {
        "colab": {
          "base_uri": "https://localhost:8080/"
        },
        "id": "XeJ2wCXiBHQ7",
        "outputId": "5ba1b8ad-8748-4da3-e469-e01534d0e35a"
      },
      "source": [
        "# Percentage difference\n",
        "diffs= ((pred-real)/real)*100\n",
        "diffs"
      ],
      "execution_count": null,
      "outputs": [
        {
          "output_type": "execute_result",
          "data": {
            "text/plain": [
              "array([-0.07510031, -0.31537924, -0.24279058, -0.19688963, -0.29441125,\n",
              "       -0.46691085, -0.39895193, -0.49235531, -0.20847767,  0.25996181,\n",
              "        0.57758242,  0.627531  ,  0.66736685,  0.82331175,  0.81971574,\n",
              "        1.09862552,  1.3429454 ,  1.59256919,  1.82721454,  2.10864301,\n",
              "        2.41946972,  2.69812966,  3.03133048,  3.33038869,  3.6186436 ,\n",
              "        3.93789451,  4.29021711,  4.69019131])"
            ]
          },
          "metadata": {
            "tags": []
          },
          "execution_count": 37
        }
      ]
    },
    {
      "cell_type": "code",
      "metadata": {
        "colab": {
          "base_uri": "https://localhost:8080/"
        },
        "id": "OnSE2tVV9XgO",
        "outputId": "e91f815c-df1c-4937-fd17-957aeee6c06e"
      },
      "source": [
        "accuracy = 100-abs(diffs)\n",
        "accuracy"
      ],
      "execution_count": null,
      "outputs": [
        {
          "output_type": "execute_result",
          "data": {
            "text/plain": [
              "array([99.92489969, 99.68462076, 99.75720942, 99.80311037, 99.70558875,\n",
              "       99.53308915, 99.60104807, 99.50764469, 99.79152233, 99.74003819,\n",
              "       99.42241758, 99.372469  , 99.33263315, 99.17668825, 99.18028426,\n",
              "       98.90137448, 98.6570546 , 98.40743081, 98.17278546, 97.89135699,\n",
              "       97.58053028, 97.30187034, 96.96866952, 96.66961131, 96.3813564 ,\n",
              "       96.06210549, 95.70978289, 95.30980869])"
            ]
          },
          "metadata": {
            "tags": []
          },
          "execution_count": 55
        }
      ]
    },
    {
      "cell_type": "markdown",
      "metadata": {
        "id": "dvWkW6xNob_G"
      },
      "source": [
        "## Visulisation"
      ]
    },
    {
      "cell_type": "code",
      "metadata": {
        "colab": {
          "base_uri": "https://localhost:8080/"
        },
        "id": "GpsWMG8M2vSC",
        "outputId": "ee9ce42f-5749-4076-c576-e93feacbf46d"
      },
      "source": [
        "len(data_test)"
      ],
      "execution_count": null,
      "outputs": [
        {
          "output_type": "execute_result",
          "data": {
            "text/plain": [
              "28"
            ]
          },
          "metadata": {
            "tags": []
          },
          "execution_count": 38
        }
      ]
    },
    {
      "cell_type": "markdown",
      "metadata": {
        "id": "8AUJZoM2FC5w"
      },
      "source": [
        "We can now plot the result. And the code below will generate the time-axis which we are going to use in the plot."
      ]
    },
    {
      "cell_type": "code",
      "metadata": {
        "colab": {
          "base_uri": "https://localhost:8080/"
        },
        "id": "HZvYDqrP6InA",
        "outputId": "c6805438-4e84-43db-d7c4-08590fe5c90e"
      },
      "source": [
        "train_datetime = data_training['date']\n",
        "train_datetime = pd.to_datetime(train_datetime)\n",
        "train_datetime"
      ],
      "execution_count": null,
      "outputs": [
        {
          "output_type": "execute_result",
          "data": {
            "text/plain": [
              "0     2020-03-01\n",
              "1     2020-03-02\n",
              "2     2020-03-03\n",
              "3     2020-03-04\n",
              "4     2020-03-05\n",
              "         ...    \n",
              "332   2021-01-27\n",
              "333   2021-01-28\n",
              "334   2021-01-29\n",
              "335   2021-01-30\n",
              "336   2021-01-31\n",
              "Name: date, Length: 337, dtype: datetime64[ns]"
            ]
          },
          "metadata": {
            "tags": []
          },
          "execution_count": 39
        }
      ]
    },
    {
      "cell_type": "code",
      "metadata": {
        "colab": {
          "base_uri": "https://localhost:8080/"
        },
        "id": "m_d0aLx43zQO",
        "outputId": "42e937a5-a941-44a8-b912-cf3eff37e0ba"
      },
      "source": [
        "x_datetime = data_test['date']\n",
        "x_datetime = pd.to_datetime(x_datetime)\n",
        "print(x_datetime[min(x_datetime.index)])\n",
        "x_datetime"
      ],
      "execution_count": null,
      "outputs": [
        {
          "output_type": "stream",
          "text": [
            "2021-02-01 00:00:00\n"
          ],
          "name": "stdout"
        },
        {
          "output_type": "execute_result",
          "data": {
            "text/plain": [
              "337   2021-02-01\n",
              "338   2021-02-02\n",
              "339   2021-02-03\n",
              "340   2021-02-04\n",
              "341   2021-02-05\n",
              "342   2021-02-06\n",
              "343   2021-02-07\n",
              "344   2021-02-08\n",
              "345   2021-02-09\n",
              "346   2021-02-10\n",
              "347   2021-02-11\n",
              "348   2021-02-12\n",
              "349   2021-02-13\n",
              "350   2021-02-14\n",
              "351   2021-02-15\n",
              "352   2021-02-16\n",
              "353   2021-02-17\n",
              "354   2021-02-18\n",
              "355   2021-02-19\n",
              "356   2021-02-20\n",
              "357   2021-02-21\n",
              "358   2021-02-22\n",
              "359   2021-02-23\n",
              "360   2021-02-24\n",
              "361   2021-02-25\n",
              "362   2021-02-26\n",
              "363   2021-02-27\n",
              "364   2021-02-28\n",
              "Name: date, dtype: datetime64[ns]"
            ]
          },
          "metadata": {
            "tags": []
          },
          "execution_count": 40
        }
      ]
    },
    {
      "cell_type": "code",
      "metadata": {
        "colab": {
          "base_uri": "https://localhost:8080/",
          "height": 378
        },
        "id": "L2aG8BtI6_-f",
        "outputId": "377c1a6a-6ff0-4964-a514-65cb6cc05e66"
      },
      "source": [
        "fig, ax = plt.subplots(figsize=(14,5))\n",
        "ax.plot(x_datetime, real_total_case, color = 'red', label = 'Real Covid Case Number')\n",
        "ax.plot(x_datetime, prediction, color = 'blue', label = 'Predicted Covid Case Number')\n",
        "plt.title('Covid Cases in UK from 2021-2-1')\n",
        "plt.ylabel('Total Cases')\n",
        "plt.legend()\n",
        "plt.grid()\n",
        "plt.xticks(rotation=45)\n",
        "# Make ticks on occurrences of each month:\n",
        "ax.xaxis.set_major_locator(mdates.DayLocator())\n",
        "# Get only the month to show in the x-axis:\n",
        "ax.xaxis.set_major_formatter(mdates.DateFormatter('%d-%b-%Y'))\n",
        "plt.show()"
      ],
      "execution_count": null,
      "outputs": [
        {
          "output_type": "display_data",
          "data": {
            "image/png": "[encoded data removed]",
            "text/plain": [
              "<Figure size 1008x360 with 1 Axes>"
            ]
          },
          "metadata": {
            "tags": [],
            "needs_background": "light"
          }
        }
      ]
    },
    {
      "cell_type": "code",
      "metadata": {
        "colab": {
          "base_uri": "https://localhost:8080/",
          "height": 378
        },
        "id": "fJpjTh3lB4Gx",
        "outputId": "95d709db-a7bf-4bca-d5e8-7b8c8e1f2a5f"
      },
      "source": [
        "fig, ax = plt.subplots(figsize=(14,5))\n",
        "ax.plot(x_datetime, diffs, color = 'red', label = 'Percentage off from real value')\n",
        "plt.title('Covid Cases in UK')\n",
        "plt.ylabel('Percentage')\n",
        "plt.legend()\n",
        "plt.grid()\n",
        "plt.xticks(rotation=45)\n",
        "# Make ticks on occurrences of each month:\n",
        "ax.xaxis.set_major_locator(mdates.DayLocator())\n",
        "# Get only the month to show in the x-axis:\n",
        "ax.xaxis.set_major_formatter(mdates.DateFormatter('%d-%b-%Y'))\n",
        "plt.show()"
      ],
      "execution_count": null,
      "outputs": [
        {
          "output_type": "display_data",
          "data": {
            "image/png": "[encoded data removed]",
            "text/plain": [
              "<Figure size 1008x360 with 1 Axes>"
            ]
          },
          "metadata": {
            "tags": [],
            "needs_background": "light"
          }
        }
      ]
    },
    {
      "cell_type": "code",
      "metadata": {
        "colab": {
          "base_uri": "https://localhost:8080/",
          "height": 350
        },
        "id": "eOsniqW5-f8o",
        "outputId": "42334a3c-b0af-43a9-a3d4-621d494b8d77"
      },
      "source": [
        "x = [i for i in range(1,29,1)]\n",
        "fig, ax = plt.subplots(figsize=(14,5))\n",
        "ax.plot(x, accuracy, color = 'red', label = 'Accuracy')\n",
        "plt.title('Covid Cases in UK')\n",
        "plt.ylabel('Accuracy')\n",
        "plt.xlabel('Days in advance')\n",
        "plt.legend()\n",
        "plt.grid()\n",
        "plt.xticks(x)\n",
        "plt.show()"
      ],
      "execution_count": null,
      "outputs": [
        {
          "output_type": "display_data",
          "data": {
            "image/png": "[encoded data removed]",
            "text/plain": [
              "<Figure size 1008x360 with 1 Axes>"
            ]
          },
          "metadata": {
            "tags": [],
            "needs_background": "light"
          }
        }
      ]
    },
    {
      "cell_type": "code",
      "metadata": {
        "colab": {
          "base_uri": "https://localhost:8080/",
          "height": 368
        },
        "id": "QTJ54mDd2pQF",
        "outputId": "c1a99c44-05f1-4de2-d92e-cb55725e1430"
      },
      "source": [
        "fig, ax = plt.subplots(figsize=(14,5))\n",
        "ax.plot(train_datetime, data_training['total_cases'], color = 'brown', label= 'Training Data')\n",
        "ax.plot(x_datetime, real_total_case, color = 'red', label = 'Real Covid Case Number')\n",
        "ax.plot(x_datetime, prediction, color = 'blue', label = 'Predicted Covid Case Number')\n",
        "ax.axvline(x=x_datetime[min(x_datetime.index)], color='green', linewidth=2, linestyle='--')\n",
        "plt.title('Covid Cases in UK')\n",
        "plt.ylabel('Total Cases')\n",
        "plt.legend()\n",
        "plt.grid()\n",
        "plt.xticks(rotation=45)\n",
        "# Make ticks on occurrences of each month:\n",
        "ax.xaxis.set_major_locator(mdates.MonthLocator())\n",
        "# Get only the month to show in the x-axis:\n",
        "ax.xaxis.set_major_formatter(mdates.DateFormatter('%b-%Y'))\n",
        "plt.show()"
      ],
      "execution_count": null,
      "outputs": [
        {
          "output_type": "display_data",
          "data": {
            "image/png": "[encoded data removed]",
            "text/plain": [
              "<Figure size 1008x360 with 1 Axes>"
            ]
          },
          "metadata": {
            "tags": [],
            "needs_background": "light"
          }
        }
      ]
    },
    {
      "cell_type": "markdown",
      "metadata": {
        "id": "tAA58kP9FqVt"
      },
      "source": [
        "## Save the model\n",
        "\n",
        "Finally, we save the model.\n",
        "Notice that the commented code can be used to load the model we just train."
      ]
    },
    {
      "cell_type": "code",
      "metadata": {
        "id": "bf7XwwbYsu1s"
      },
      "source": [
        "model.save('SNS_covid_prediction.h5')\n",
        "# import tensorflow as tf\n",
        "# model = tf.keras.models.load_model('path/to/location')"
      ],
      "execution_count": null,
      "outputs": []
    }
  ]
}