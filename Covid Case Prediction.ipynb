{
  "nbformat": 4,
  "nbformat_minor": 0,
  "metadata": {
    "colab": {
      "name": "「SNS_All in one」的2",
      "provenance": [],
      "collapsed_sections": [],
      "toc_visible": true
    },
    "kernelspec": {
      "name": "python3",
      "display_name": "Python 3"
    }
  },
  "cells": [
    {
      "cell_type": "code",
      "metadata": {
        "colab": {
          "base_uri": "https://localhost:8080/",
          "height": 17
        },
        "id": "Z26UYcXCMOAC",
        "outputId": "47d37c24-1ac3-4bc4-aa1d-7e4a82cecdfa"
      },
      "source": [
        "# import os\n",
        "# from google.colab import files\n",
        "# fs = os.listdir()\n",
        "# for f in fs:\n",
        "#   if \"SNS_covid_prediction\" in f:\n",
        "#     files.download(f)"
      ],
      "execution_count": 1,
      "outputs": [
        {
          "output_type": "display_data",
          "data": {
            "application/javascript": [
              "\n",
              "    async function download(id, filename, size) {\n",
              "      if (!google.colab.kernel.accessAllowed) {\n",
              "        return;\n",
              "      }\n",
              "      const div = document.createElement('div');\n",
              "      const label = document.createElement('label');\n",
              "      label.textContent = `Downloading \"${filename}\": `;\n",
              "      div.appendChild(label);\n",
              "      const progress = document.createElement('progress');\n",
              "      progress.max = size;\n",
              "      div.appendChild(progress);\n",
              "      document.body.appendChild(div);\n",
              "\n",
              "      const buffers = [];\n",
              "      let downloaded = 0;\n",
              "\n",
              "      const channel = await google.colab.kernel.comms.open(id);\n",
              "      // Send a message to notify the kernel that we're ready.\n",
              "      channel.send({})\n",
              "\n",
              "      for await (const message of channel.messages) {\n",
              "        // Send a message to notify the kernel that we're ready.\n",
              "        channel.send({})\n",
              "        if (message.buffers) {\n",
              "          for (const buffer of message.buffers) {\n",
              "            buffers.push(buffer);\n",
              "            downloaded += buffer.byteLength;\n",
              "            progress.value = downloaded;\n",
              "          }\n",
              "        }\n",
              "      }\n",
              "      const blob = new Blob(buffers, {type: 'application/binary'});\n",
              "      const a = document.createElement('a');\n",
              "      a.href = window.URL.createObjectURL(blob);\n",
              "      a.download = filename;\n",
              "      div.appendChild(a);\n",
              "      a.click();\n",
              "      div.remove();\n",
              "    }\n",
              "  "
            ],
            "text/plain": [
              "<IPython.core.display.Javascript object>"
            ]
          },
          "metadata": {
            "tags": []
          }
        },
        {
          "output_type": "display_data",
          "data": {
            "application/javascript": [
              "download(\"download_01731c81-959e-48d0-9c67-5258e66b0c33\", \"SNS_covid_prediction_20_dia.h5\", 424912)"
            ],
            "text/plain": [
              "<IPython.core.display.Javascript object>"
            ]
          },
          "metadata": {
            "tags": []
          }
        },
        {
          "output_type": "display_data",
          "data": {
            "application/javascript": [
              "\n",
              "    async function download(id, filename, size) {\n",
              "      if (!google.colab.kernel.accessAllowed) {\n",
              "        return;\n",
              "      }\n",
              "      const div = document.createElement('div');\n",
              "      const label = document.createElement('label');\n",
              "      label.textContent = `Downloading \"${filename}\": `;\n",
              "      div.appendChild(label);\n",
              "      const progress = document.createElement('progress');\n",
              "      progress.max = size;\n",
              "      div.appendChild(progress);\n",
              "      document.body.appendChild(div);\n",
              "\n",
              "      const buffers = [];\n",
              "      let downloaded = 0;\n",
              "\n",
              "      const channel = await google.colab.kernel.comms.open(id);\n",
              "      // Send a message to notify the kernel that we're ready.\n",
              "      channel.send({})\n",
              "\n",
              "      for await (const message of channel.messages) {\n",
              "        // Send a message to notify the kernel that we're ready.\n",
              "        channel.send({})\n",
              "        if (message.buffers) {\n",
              "          for (const buffer of message.buffers) {\n",
              "            buffers.push(buffer);\n",
              "            downloaded += buffer.byteLength;\n",
              "            progress.value = downloaded;\n",
              "          }\n",
              "        }\n",
              "      }\n",
              "      const blob = new Blob(buffers, {type: 'application/binary'});\n",
              "      const a = document.createElement('a');\n",
              "      a.href = window.URL.createObjectURL(blob);\n",
              "      a.download = filename;\n",
              "      div.appendChild(a);\n",
              "      a.click();\n",
              "      div.remove();\n",
              "    }\n",
              "  "
            ],
            "text/plain": [
              "<IPython.core.display.Javascript object>"
            ]
          },
          "metadata": {
            "tags": []
          }
        },
        {
          "output_type": "display_data",
          "data": {
            "application/javascript": [
              "download(\"download_d531cf01-0c9d-4ad8-9685-58dab8146f65\", \"SNS_covid_prediction_29_dia.h5\", 424912)"
            ],
            "text/plain": [
              "<IPython.core.display.Javascript object>"
            ]
          },
          "metadata": {
            "tags": []
          }
        },
        {
          "output_type": "display_data",
          "data": {
            "application/javascript": [
              "\n",
              "    async function download(id, filename, size) {\n",
              "      if (!google.colab.kernel.accessAllowed) {\n",
              "        return;\n",
              "      }\n",
              "      const div = document.createElement('div');\n",
              "      const label = document.createElement('label');\n",
              "      label.textContent = `Downloading \"${filename}\": `;\n",
              "      div.appendChild(label);\n",
              "      const progress = document.createElement('progress');\n",
              "      progress.max = size;\n",
              "      div.appendChild(progress);\n",
              "      document.body.appendChild(div);\n",
              "\n",
              "      const buffers = [];\n",
              "      let downloaded = 0;\n",
              "\n",
              "      const channel = await google.colab.kernel.comms.open(id);\n",
              "      // Send a message to notify the kernel that we're ready.\n",
              "      channel.send({})\n",
              "\n",
              "      for await (const message of channel.messages) {\n",
              "        // Send a message to notify the kernel that we're ready.\n",
              "        channel.send({})\n",
              "        if (message.buffers) {\n",
              "          for (const buffer of message.buffers) {\n",
              "            buffers.push(buffer);\n",
              "            downloaded += buffer.byteLength;\n",
              "            progress.value = downloaded;\n",
              "          }\n",
              "        }\n",
              "      }\n",
              "      const blob = new Blob(buffers, {type: 'application/binary'});\n",
              "      const a = document.createElement('a');\n",
              "      a.href = window.URL.createObjectURL(blob);\n",
              "      a.download = filename;\n",
              "      div.appendChild(a);\n",
              "      a.click();\n",
              "      div.remove();\n",
              "    }\n",
              "  "
            ],
            "text/plain": [
              "<IPython.core.display.Javascript object>"
            ]
          },
          "metadata": {
            "tags": []
          }
        },
        {
          "output_type": "display_data",
          "data": {
            "application/javascript": [
              "download(\"download_9530f575-4253-4ec5-b1e2-e5c232d6f454\", \"SNS_covid_prediction_7_dia.h5\", 423800)"
            ],
            "text/plain": [
              "<IPython.core.display.Javascript object>"
            ]
          },
          "metadata": {
            "tags": []
          }
        },
        {
          "output_type": "display_data",
          "data": {
            "application/javascript": [
              "\n",
              "    async function download(id, filename, size) {\n",
              "      if (!google.colab.kernel.accessAllowed) {\n",
              "        return;\n",
              "      }\n",
              "      const div = document.createElement('div');\n",
              "      const label = document.createElement('label');\n",
              "      label.textContent = `Downloading \"${filename}\": `;\n",
              "      div.appendChild(label);\n",
              "      const progress = document.createElement('progress');\n",
              "      progress.max = size;\n",
              "      div.appendChild(progress);\n",
              "      document.body.appendChild(div);\n",
              "\n",
              "      const buffers = [];\n",
              "      let downloaded = 0;\n",
              "\n",
              "      const channel = await google.colab.kernel.comms.open(id);\n",
              "      // Send a message to notify the kernel that we're ready.\n",
              "      channel.send({})\n",
              "\n",
              "      for await (const message of channel.messages) {\n",
              "        // Send a message to notify the kernel that we're ready.\n",
              "        channel.send({})\n",
              "        if (message.buffers) {\n",
              "          for (const buffer of message.buffers) {\n",
              "            buffers.push(buffer);\n",
              "            downloaded += buffer.byteLength;\n",
              "            progress.value = downloaded;\n",
              "          }\n",
              "        }\n",
              "      }\n",
              "      const blob = new Blob(buffers, {type: 'application/binary'});\n",
              "      const a = document.createElement('a');\n",
              "      a.href = window.URL.createObjectURL(blob);\n",
              "      a.download = filename;\n",
              "      div.appendChild(a);\n",
              "      a.click();\n",
              "      div.remove();\n",
              "    }\n",
              "  "
            ],
            "text/plain": [
              "<IPython.core.display.Javascript object>"
            ]
          },
          "metadata": {
            "tags": []
          }
        },
        {
          "output_type": "display_data",
          "data": {
            "application/javascript": [
              "download(\"download_b93050bb-d551-409a-b497-474ba83af63f\", \"SNS_covid_prediction_47_dia.h5\", 424912)"
            ],
            "text/plain": [
              "<IPython.core.display.Javascript object>"
            ]
          },
          "metadata": {
            "tags": []
          }
        },
        {
          "output_type": "display_data",
          "data": {
            "application/javascript": [
              "\n",
              "    async function download(id, filename, size) {\n",
              "      if (!google.colab.kernel.accessAllowed) {\n",
              "        return;\n",
              "      }\n",
              "      const div = document.createElement('div');\n",
              "      const label = document.createElement('label');\n",
              "      label.textContent = `Downloading \"${filename}\": `;\n",
              "      div.appendChild(label);\n",
              "      const progress = document.createElement('progress');\n",
              "      progress.max = size;\n",
              "      div.appendChild(progress);\n",
              "      document.body.appendChild(div);\n",
              "\n",
              "      const buffers = [];\n",
              "      let downloaded = 0;\n",
              "\n",
              "      const channel = await google.colab.kernel.comms.open(id);\n",
              "      // Send a message to notify the kernel that we're ready.\n",
              "      channel.send({})\n",
              "\n",
              "      for await (const message of channel.messages) {\n",
              "        // Send a message to notify the kernel that we're ready.\n",
              "        channel.send({})\n",
              "        if (message.buffers) {\n",
              "          for (const buffer of message.buffers) {\n",
              "            buffers.push(buffer);\n",
              "            downloaded += buffer.byteLength;\n",
              "            progress.value = downloaded;\n",
              "          }\n",
              "        }\n",
              "      }\n",
              "      const blob = new Blob(buffers, {type: 'application/binary'});\n",
              "      const a = document.createElement('a');\n",
              "      a.href = window.URL.createObjectURL(blob);\n",
              "      a.download = filename;\n",
              "      div.appendChild(a);\n",
              "      a.click();\n",
              "      div.remove();\n",
              "    }\n",
              "  "
            ],
            "text/plain": [
              "<IPython.core.display.Javascript object>"
            ]
          },
          "metadata": {
            "tags": []
          }
        },
        {
          "output_type": "display_data",
          "data": {
            "application/javascript": [
              "download(\"download_6227bfdb-062b-4100-b719-bd68f42133eb\", \"SNS_covid_prediction_49_dia.h5\", 424912)"
            ],
            "text/plain": [
              "<IPython.core.display.Javascript object>"
            ]
          },
          "metadata": {
            "tags": []
          }
        },
        {
          "output_type": "display_data",
          "data": {
            "application/javascript": [
              "\n",
              "    async function download(id, filename, size) {\n",
              "      if (!google.colab.kernel.accessAllowed) {\n",
              "        return;\n",
              "      }\n",
              "      const div = document.createElement('div');\n",
              "      const label = document.createElement('label');\n",
              "      label.textContent = `Downloading \"${filename}\": `;\n",
              "      div.appendChild(label);\n",
              "      const progress = document.createElement('progress');\n",
              "      progress.max = size;\n",
              "      div.appendChild(progress);\n",
              "      document.body.appendChild(div);\n",
              "\n",
              "      const buffers = [];\n",
              "      let downloaded = 0;\n",
              "\n",
              "      const channel = await google.colab.kernel.comms.open(id);\n",
              "      // Send a message to notify the kernel that we're ready.\n",
              "      channel.send({})\n",
              "\n",
              "      for await (const message of channel.messages) {\n",
              "        // Send a message to notify the kernel that we're ready.\n",
              "        channel.send({})\n",
              "        if (message.buffers) {\n",
              "          for (const buffer of message.buffers) {\n",
              "            buffers.push(buffer);\n",
              "            downloaded += buffer.byteLength;\n",
              "            progress.value = downloaded;\n",
              "          }\n",
              "        }\n",
              "      }\n",
              "      const blob = new Blob(buffers, {type: 'application/binary'});\n",
              "      const a = document.createElement('a');\n",
              "      a.href = window.URL.createObjectURL(blob);\n",
              "      a.download = filename;\n",
              "      div.appendChild(a);\n",
              "      a.click();\n",
              "      div.remove();\n",
              "    }\n",
              "  "
            ],
            "text/plain": [
              "<IPython.core.display.Javascript object>"
            ]
          },
          "metadata": {
            "tags": []
          }
        },
        {
          "output_type": "display_data",
          "data": {
            "application/javascript": [
              "download(\"download_dc625eef-c61c-400f-80e5-5008dbbc13f0\", \"SNS_covid_prediction_34_dia.h5\", 424912)"
            ],
            "text/plain": [
              "<IPython.core.display.Javascript object>"
            ]
          },
          "metadata": {
            "tags": []
          }
        },
        {
          "output_type": "display_data",
          "data": {
            "application/javascript": [
              "\n",
              "    async function download(id, filename, size) {\n",
              "      if (!google.colab.kernel.accessAllowed) {\n",
              "        return;\n",
              "      }\n",
              "      const div = document.createElement('div');\n",
              "      const label = document.createElement('label');\n",
              "      label.textContent = `Downloading \"${filename}\": `;\n",
              "      div.appendChild(label);\n",
              "      const progress = document.createElement('progress');\n",
              "      progress.max = size;\n",
              "      div.appendChild(progress);\n",
              "      document.body.appendChild(div);\n",
              "\n",
              "      const buffers = [];\n",
              "      let downloaded = 0;\n",
              "\n",
              "      const channel = await google.colab.kernel.comms.open(id);\n",
              "      // Send a message to notify the kernel that we're ready.\n",
              "      channel.send({})\n",
              "\n",
              "      for await (const message of channel.messages) {\n",
              "        // Send a message to notify the kernel that we're ready.\n",
              "        channel.send({})\n",
              "        if (message.buffers) {\n",
              "          for (const buffer of message.buffers) {\n",
              "            buffers.push(buffer);\n",
              "            downloaded += buffer.byteLength;\n",
              "            progress.value = downloaded;\n",
              "          }\n",
              "        }\n",
              "      }\n",
              "      const blob = new Blob(buffers, {type: 'application/binary'});\n",
              "      const a = document.createElement('a');\n",
              "      a.href = window.URL.createObjectURL(blob);\n",
              "      a.download = filename;\n",
              "      div.appendChild(a);\n",
              "      a.click();\n",
              "      div.remove();\n",
              "    }\n",
              "  "
            ],
            "text/plain": [
              "<IPython.core.display.Javascript object>"
            ]
          },
          "metadata": {
            "tags": []
          }
        },
        {
          "output_type": "display_data",
          "data": {
            "application/javascript": [
              "download(\"download_63fd6c0d-af75-4c60-89c7-a819848c9789\", \"SNS_covid_prediction_33_dia.h5\", 424912)"
            ],
            "text/plain": [
              "<IPython.core.display.Javascript object>"
            ]
          },
          "metadata": {
            "tags": []
          }
        },
        {
          "output_type": "display_data",
          "data": {
            "application/javascript": [
              "\n",
              "    async function download(id, filename, size) {\n",
              "      if (!google.colab.kernel.accessAllowed) {\n",
              "        return;\n",
              "      }\n",
              "      const div = document.createElement('div');\n",
              "      const label = document.createElement('label');\n",
              "      label.textContent = `Downloading \"${filename}\": `;\n",
              "      div.appendChild(label);\n",
              "      const progress = document.createElement('progress');\n",
              "      progress.max = size;\n",
              "      div.appendChild(progress);\n",
              "      document.body.appendChild(div);\n",
              "\n",
              "      const buffers = [];\n",
              "      let downloaded = 0;\n",
              "\n",
              "      const channel = await google.colab.kernel.comms.open(id);\n",
              "      // Send a message to notify the kernel that we're ready.\n",
              "      channel.send({})\n",
              "\n",
              "      for await (const message of channel.messages) {\n",
              "        // Send a message to notify the kernel that we're ready.\n",
              "        channel.send({})\n",
              "        if (message.buffers) {\n",
              "          for (const buffer of message.buffers) {\n",
              "            buffers.push(buffer);\n",
              "            downloaded += buffer.byteLength;\n",
              "            progress.value = downloaded;\n",
              "          }\n",
              "        }\n",
              "      }\n",
              "      const blob = new Blob(buffers, {type: 'application/binary'});\n",
              "      const a = document.createElement('a');\n",
              "      a.href = window.URL.createObjectURL(blob);\n",
              "      a.download = filename;\n",
              "      div.appendChild(a);\n",
              "      a.click();\n",
              "      div.remove();\n",
              "    }\n",
              "  "
            ],
            "text/plain": [
              "<IPython.core.display.Javascript object>"
            ]
          },
          "metadata": {
            "tags": []
          }
        },
        {
          "output_type": "display_data",
          "data": {
            "application/javascript": [
              "download(\"download_bfc542e7-7f9c-43c5-96b9-304d110e9cdb\", \"SNS_covid_prediction_26_dia.h5\", 424912)"
            ],
            "text/plain": [
              "<IPython.core.display.Javascript object>"
            ]
          },
          "metadata": {
            "tags": []
          }
        },
        {
          "output_type": "display_data",
          "data": {
            "application/javascript": [
              "\n",
              "    async function download(id, filename, size) {\n",
              "      if (!google.colab.kernel.accessAllowed) {\n",
              "        return;\n",
              "      }\n",
              "      const div = document.createElement('div');\n",
              "      const label = document.createElement('label');\n",
              "      label.textContent = `Downloading \"${filename}\": `;\n",
              "      div.appendChild(label);\n",
              "      const progress = document.createElement('progress');\n",
              "      progress.max = size;\n",
              "      div.appendChild(progress);\n",
              "      document.body.appendChild(div);\n",
              "\n",
              "      const buffers = [];\n",
              "      let downloaded = 0;\n",
              "\n",
              "      const channel = await google.colab.kernel.comms.open(id);\n",
              "      // Send a message to notify the kernel that we're ready.\n",
              "      channel.send({})\n",
              "\n",
              "      for await (const message of channel.messages) {\n",
              "        // Send a message to notify the kernel that we're ready.\n",
              "        channel.send({})\n",
              "        if (message.buffers) {\n",
              "          for (const buffer of message.buffers) {\n",
              "            buffers.push(buffer);\n",
              "            downloaded += buffer.byteLength;\n",
              "            progress.value = downloaded;\n",
              "          }\n",
              "        }\n",
              "      }\n",
              "      const blob = new Blob(buffers, {type: 'application/binary'});\n",
              "      const a = document.createElement('a');\n",
              "      a.href = window.URL.createObjectURL(blob);\n",
              "      a.download = filename;\n",
              "      div.appendChild(a);\n",
              "      a.click();\n",
              "      div.remove();\n",
              "    }\n",
              "  "
            ],
            "text/plain": [
              "<IPython.core.display.Javascript object>"
            ]
          },
          "metadata": {
            "tags": []
          }
        },
        {
          "output_type": "display_data",
          "data": {
            "application/javascript": [
              "download(\"download_46b1311e-78cb-4122-aca0-368e9f2bb0e5\", \"SNS_covid_prediction_31_dia.h5\", 423800)"
            ],
            "text/plain": [
              "<IPython.core.display.Javascript object>"
            ]
          },
          "metadata": {
            "tags": []
          }
        },
        {
          "output_type": "display_data",
          "data": {
            "application/javascript": [
              "\n",
              "    async function download(id, filename, size) {\n",
              "      if (!google.colab.kernel.accessAllowed) {\n",
              "        return;\n",
              "      }\n",
              "      const div = document.createElement('div');\n",
              "      const label = document.createElement('label');\n",
              "      label.textContent = `Downloading \"${filename}\": `;\n",
              "      div.appendChild(label);\n",
              "      const progress = document.createElement('progress');\n",
              "      progress.max = size;\n",
              "      div.appendChild(progress);\n",
              "      document.body.appendChild(div);\n",
              "\n",
              "      const buffers = [];\n",
              "      let downloaded = 0;\n",
              "\n",
              "      const channel = await google.colab.kernel.comms.open(id);\n",
              "      // Send a message to notify the kernel that we're ready.\n",
              "      channel.send({})\n",
              "\n",
              "      for await (const message of channel.messages) {\n",
              "        // Send a message to notify the kernel that we're ready.\n",
              "        channel.send({})\n",
              "        if (message.buffers) {\n",
              "          for (const buffer of message.buffers) {\n",
              "            buffers.push(buffer);\n",
              "            downloaded += buffer.byteLength;\n",
              "            progress.value = downloaded;\n",
              "          }\n",
              "        }\n",
              "      }\n",
              "      const blob = new Blob(buffers, {type: 'application/binary'});\n",
              "      const a = document.createElement('a');\n",
              "      a.href = window.URL.createObjectURL(blob);\n",
              "      a.download = filename;\n",
              "      div.appendChild(a);\n",
              "      a.click();\n",
              "      div.remove();\n",
              "    }\n",
              "  "
            ],
            "text/plain": [
              "<IPython.core.display.Javascript object>"
            ]
          },
          "metadata": {
            "tags": []
          }
        },
        {
          "output_type": "display_data",
          "data": {
            "application/javascript": [
              "download(\"download_95a0d6e8-d342-48ba-ae19-d9c8ac30cb06\", \"SNS_covid_prediction_13_dia.h5\", 423800)"
            ],
            "text/plain": [
              "<IPython.core.display.Javascript object>"
            ]
          },
          "metadata": {
            "tags": []
          }
        },
        {
          "output_type": "display_data",
          "data": {
            "application/javascript": [
              "\n",
              "    async function download(id, filename, size) {\n",
              "      if (!google.colab.kernel.accessAllowed) {\n",
              "        return;\n",
              "      }\n",
              "      const div = document.createElement('div');\n",
              "      const label = document.createElement('label');\n",
              "      label.textContent = `Downloading \"${filename}\": `;\n",
              "      div.appendChild(label);\n",
              "      const progress = document.createElement('progress');\n",
              "      progress.max = size;\n",
              "      div.appendChild(progress);\n",
              "      document.body.appendChild(div);\n",
              "\n",
              "      const buffers = [];\n",
              "      let downloaded = 0;\n",
              "\n",
              "      const channel = await google.colab.kernel.comms.open(id);\n",
              "      // Send a message to notify the kernel that we're ready.\n",
              "      channel.send({})\n",
              "\n",
              "      for await (const message of channel.messages) {\n",
              "        // Send a message to notify the kernel that we're ready.\n",
              "        channel.send({})\n",
              "        if (message.buffers) {\n",
              "          for (const buffer of message.buffers) {\n",
              "            buffers.push(buffer);\n",
              "            downloaded += buffer.byteLength;\n",
              "            progress.value = downloaded;\n",
              "          }\n",
              "        }\n",
              "      }\n",
              "      const blob = new Blob(buffers, {type: 'application/binary'});\n",
              "      const a = document.createElement('a');\n",
              "      a.href = window.URL.createObjectURL(blob);\n",
              "      a.download = filename;\n",
              "      div.appendChild(a);\n",
              "      a.click();\n",
              "      div.remove();\n",
              "    }\n",
              "  "
            ],
            "text/plain": [
              "<IPython.core.display.Javascript object>"
            ]
          },
          "metadata": {
            "tags": []
          }
        },
        {
          "output_type": "display_data",
          "data": {
            "application/javascript": [
              "download(\"download_96c01e57-0564-481a-a78e-fc17c43dced6\", \"SNS_covid_prediction_6_dia.h5\", 423800)"
            ],
            "text/plain": [
              "<IPython.core.display.Javascript object>"
            ]
          },
          "metadata": {
            "tags": []
          }
        },
        {
          "output_type": "display_data",
          "data": {
            "application/javascript": [
              "\n",
              "    async function download(id, filename, size) {\n",
              "      if (!google.colab.kernel.accessAllowed) {\n",
              "        return;\n",
              "      }\n",
              "      const div = document.createElement('div');\n",
              "      const label = document.createElement('label');\n",
              "      label.textContent = `Downloading \"${filename}\": `;\n",
              "      div.appendChild(label);\n",
              "      const progress = document.createElement('progress');\n",
              "      progress.max = size;\n",
              "      div.appendChild(progress);\n",
              "      document.body.appendChild(div);\n",
              "\n",
              "      const buffers = [];\n",
              "      let downloaded = 0;\n",
              "\n",
              "      const channel = await google.colab.kernel.comms.open(id);\n",
              "      // Send a message to notify the kernel that we're ready.\n",
              "      channel.send({})\n",
              "\n",
              "      for await (const message of channel.messages) {\n",
              "        // Send a message to notify the kernel that we're ready.\n",
              "        channel.send({})\n",
              "        if (message.buffers) {\n",
              "          for (const buffer of message.buffers) {\n",
              "            buffers.push(buffer);\n",
              "            downloaded += buffer.byteLength;\n",
              "            progress.value = downloaded;\n",
              "          }\n",
              "        }\n",
              "      }\n",
              "      const blob = new Blob(buffers, {type: 'application/binary'});\n",
              "      const a = document.createElement('a');\n",
              "      a.href = window.URL.createObjectURL(blob);\n",
              "      a.download = filename;\n",
              "      div.appendChild(a);\n",
              "      a.click();\n",
              "      div.remove();\n",
              "    }\n",
              "  "
            ],
            "text/plain": [
              "<IPython.core.display.Javascript object>"
            ]
          },
          "metadata": {
            "tags": []
          }
        },
        {
          "output_type": "display_data",
          "data": {
            "application/javascript": [
              "download(\"download_bc453eeb-5cb9-4689-92e8-67948b572208\", \"SNS_covid_prediction_43_dia.h5\", 424912)"
            ],
            "text/plain": [
              "<IPython.core.display.Javascript object>"
            ]
          },
          "metadata": {
            "tags": []
          }
        },
        {
          "output_type": "display_data",
          "data": {
            "application/javascript": [
              "\n",
              "    async function download(id, filename, size) {\n",
              "      if (!google.colab.kernel.accessAllowed) {\n",
              "        return;\n",
              "      }\n",
              "      const div = document.createElement('div');\n",
              "      const label = document.createElement('label');\n",
              "      label.textContent = `Downloading \"${filename}\": `;\n",
              "      div.appendChild(label);\n",
              "      const progress = document.createElement('progress');\n",
              "      progress.max = size;\n",
              "      div.appendChild(progress);\n",
              "      document.body.appendChild(div);\n",
              "\n",
              "      const buffers = [];\n",
              "      let downloaded = 0;\n",
              "\n",
              "      const channel = await google.colab.kernel.comms.open(id);\n",
              "      // Send a message to notify the kernel that we're ready.\n",
              "      channel.send({})\n",
              "\n",
              "      for await (const message of channel.messages) {\n",
              "        // Send a message to notify the kernel that we're ready.\n",
              "        channel.send({})\n",
              "        if (message.buffers) {\n",
              "          for (const buffer of message.buffers) {\n",
              "            buffers.push(buffer);\n",
              "            downloaded += buffer.byteLength;\n",
              "            progress.value = downloaded;\n",
              "          }\n",
              "        }\n",
              "      }\n",
              "      const blob = new Blob(buffers, {type: 'application/binary'});\n",
              "      const a = document.createElement('a');\n",
              "      a.href = window.URL.createObjectURL(blob);\n",
              "      a.download = filename;\n",
              "      div.appendChild(a);\n",
              "      a.click();\n",
              "      div.remove();\n",
              "    }\n",
              "  "
            ],
            "text/plain": [
              "<IPython.core.display.Javascript object>"
            ]
          },
          "metadata": {
            "tags": []
          }
        },
        {
          "output_type": "display_data",
          "data": {
            "application/javascript": [
              "download(\"download_a92fe4cc-425e-4fd1-86e3-1fa47d67d701\", \"SNS_covid_prediction_3_dia.h5\", 424912)"
            ],
            "text/plain": [
              "<IPython.core.display.Javascript object>"
            ]
          },
          "metadata": {
            "tags": []
          }
        },
        {
          "output_type": "display_data",
          "data": {
            "application/javascript": [
              "\n",
              "    async function download(id, filename, size) {\n",
              "      if (!google.colab.kernel.accessAllowed) {\n",
              "        return;\n",
              "      }\n",
              "      const div = document.createElement('div');\n",
              "      const label = document.createElement('label');\n",
              "      label.textContent = `Downloading \"${filename}\": `;\n",
              "      div.appendChild(label);\n",
              "      const progress = document.createElement('progress');\n",
              "      progress.max = size;\n",
              "      div.appendChild(progress);\n",
              "      document.body.appendChild(div);\n",
              "\n",
              "      const buffers = [];\n",
              "      let downloaded = 0;\n",
              "\n",
              "      const channel = await google.colab.kernel.comms.open(id);\n",
              "      // Send a message to notify the kernel that we're ready.\n",
              "      channel.send({})\n",
              "\n",
              "      for await (const message of channel.messages) {\n",
              "        // Send a message to notify the kernel that we're ready.\n",
              "        channel.send({})\n",
              "        if (message.buffers) {\n",
              "          for (const buffer of message.buffers) {\n",
              "            buffers.push(buffer);\n",
              "            downloaded += buffer.byteLength;\n",
              "            progress.value = downloaded;\n",
              "          }\n",
              "        }\n",
              "      }\n",
              "      const blob = new Blob(buffers, {type: 'application/binary'});\n",
              "      const a = document.createElement('a');\n",
              "      a.href = window.URL.createObjectURL(blob);\n",
              "      a.download = filename;\n",
              "      div.appendChild(a);\n",
              "      a.click();\n",
              "      div.remove();\n",
              "    }\n",
              "  "
            ],
            "text/plain": [
              "<IPython.core.display.Javascript object>"
            ]
          },
          "metadata": {
            "tags": []
          }
        },
        {
          "output_type": "display_data",
          "data": {
            "application/javascript": [
              "download(\"download_30483c38-9179-4d2b-949c-d3b54e61b739\", \"SNS_covid_prediction_32_dia.h5\", 424912)"
            ],
            "text/plain": [
              "<IPython.core.display.Javascript object>"
            ]
          },
          "metadata": {
            "tags": []
          }
        },
        {
          "output_type": "display_data",
          "data": {
            "application/javascript": [
              "\n",
              "    async function download(id, filename, size) {\n",
              "      if (!google.colab.kernel.accessAllowed) {\n",
              "        return;\n",
              "      }\n",
              "      const div = document.createElement('div');\n",
              "      const label = document.createElement('label');\n",
              "      label.textContent = `Downloading \"${filename}\": `;\n",
              "      div.appendChild(label);\n",
              "      const progress = document.createElement('progress');\n",
              "      progress.max = size;\n",
              "      div.appendChild(progress);\n",
              "      document.body.appendChild(div);\n",
              "\n",
              "      const buffers = [];\n",
              "      let downloaded = 0;\n",
              "\n",
              "      const channel = await google.colab.kernel.comms.open(id);\n",
              "      // Send a message to notify the kernel that we're ready.\n",
              "      channel.send({})\n",
              "\n",
              "      for await (const message of channel.messages) {\n",
              "        // Send a message to notify the kernel that we're ready.\n",
              "        channel.send({})\n",
              "        if (message.buffers) {\n",
              "          for (const buffer of message.buffers) {\n",
              "            buffers.push(buffer);\n",
              "            downloaded += buffer.byteLength;\n",
              "            progress.value = downloaded;\n",
              "          }\n",
              "        }\n",
              "      }\n",
              "      const blob = new Blob(buffers, {type: 'application/binary'});\n",
              "      const a = document.createElement('a');\n",
              "      a.href = window.URL.createObjectURL(blob);\n",
              "      a.download = filename;\n",
              "      div.appendChild(a);\n",
              "      a.click();\n",
              "      div.remove();\n",
              "    }\n",
              "  "
            ],
            "text/plain": [
              "<IPython.core.display.Javascript object>"
            ]
          },
          "metadata": {
            "tags": []
          }
        },
        {
          "output_type": "display_data",
          "data": {
            "application/javascript": [
              "download(\"download_e3cde0b7-85d7-4a7a-916c-7855f52d09bc\", \"SNS_covid_prediction_30_dia.h5\", 424912)"
            ],
            "text/plain": [
              "<IPython.core.display.Javascript object>"
            ]
          },
          "metadata": {
            "tags": []
          }
        },
        {
          "output_type": "display_data",
          "data": {
            "application/javascript": [
              "\n",
              "    async function download(id, filename, size) {\n",
              "      if (!google.colab.kernel.accessAllowed) {\n",
              "        return;\n",
              "      }\n",
              "      const div = document.createElement('div');\n",
              "      const label = document.createElement('label');\n",
              "      label.textContent = `Downloading \"${filename}\": `;\n",
              "      div.appendChild(label);\n",
              "      const progress = document.createElement('progress');\n",
              "      progress.max = size;\n",
              "      div.appendChild(progress);\n",
              "      document.body.appendChild(div);\n",
              "\n",
              "      const buffers = [];\n",
              "      let downloaded = 0;\n",
              "\n",
              "      const channel = await google.colab.kernel.comms.open(id);\n",
              "      // Send a message to notify the kernel that we're ready.\n",
              "      channel.send({})\n",
              "\n",
              "      for await (const message of channel.messages) {\n",
              "        // Send a message to notify the kernel that we're ready.\n",
              "        channel.send({})\n",
              "        if (message.buffers) {\n",
              "          for (const buffer of message.buffers) {\n",
              "            buffers.push(buffer);\n",
              "            downloaded += buffer.byteLength;\n",
              "            progress.value = downloaded;\n",
              "          }\n",
              "        }\n",
              "      }\n",
              "      const blob = new Blob(buffers, {type: 'application/binary'});\n",
              "      const a = document.createElement('a');\n",
              "      a.href = window.URL.createObjectURL(blob);\n",
              "      a.download = filename;\n",
              "      div.appendChild(a);\n",
              "      a.click();\n",
              "      div.remove();\n",
              "    }\n",
              "  "
            ],
            "text/plain": [
              "<IPython.core.display.Javascript object>"
            ]
          },
          "metadata": {
            "tags": []
          }
        },
        {
          "output_type": "display_data",
          "data": {
            "application/javascript": [
              "download(\"download_4ac0447e-8bb7-4b71-ba3c-36d1efec578d\", \"SNS_covid_prediction_23_dia.h5\", 424912)"
            ],
            "text/plain": [
              "<IPython.core.display.Javascript object>"
            ]
          },
          "metadata": {
            "tags": []
          }
        },
        {
          "output_type": "display_data",
          "data": {
            "application/javascript": [
              "\n",
              "    async function download(id, filename, size) {\n",
              "      if (!google.colab.kernel.accessAllowed) {\n",
              "        return;\n",
              "      }\n",
              "      const div = document.createElement('div');\n",
              "      const label = document.createElement('label');\n",
              "      label.textContent = `Downloading \"${filename}\": `;\n",
              "      div.appendChild(label);\n",
              "      const progress = document.createElement('progress');\n",
              "      progress.max = size;\n",
              "      div.appendChild(progress);\n",
              "      document.body.appendChild(div);\n",
              "\n",
              "      const buffers = [];\n",
              "      let downloaded = 0;\n",
              "\n",
              "      const channel = await google.colab.kernel.comms.open(id);\n",
              "      // Send a message to notify the kernel that we're ready.\n",
              "      channel.send({})\n",
              "\n",
              "      for await (const message of channel.messages) {\n",
              "        // Send a message to notify the kernel that we're ready.\n",
              "        channel.send({})\n",
              "        if (message.buffers) {\n",
              "          for (const buffer of message.buffers) {\n",
              "            buffers.push(buffer);\n",
              "            downloaded += buffer.byteLength;\n",
              "            progress.value = downloaded;\n",
              "          }\n",
              "        }\n",
              "      }\n",
              "      const blob = new Blob(buffers, {type: 'application/binary'});\n",
              "      const a = document.createElement('a');\n",
              "      a.href = window.URL.createObjectURL(blob);\n",
              "      a.download = filename;\n",
              "      div.appendChild(a);\n",
              "      a.click();\n",
              "      div.remove();\n",
              "    }\n",
              "  "
            ],
            "text/plain": [
              "<IPython.core.display.Javascript object>"
            ]
          },
          "metadata": {
            "tags": []
          }
        },
        {
          "output_type": "display_data",
          "data": {
            "application/javascript": [
              "download(\"download_a05ecfb8-8369-4660-9749-45c63463ff7f\", \"SNS_covid_prediction_55_dia.h5\", 424912)"
            ],
            "text/plain": [
              "<IPython.core.display.Javascript object>"
            ]
          },
          "metadata": {
            "tags": []
          }
        },
        {
          "output_type": "display_data",
          "data": {
            "application/javascript": [
              "\n",
              "    async function download(id, filename, size) {\n",
              "      if (!google.colab.kernel.accessAllowed) {\n",
              "        return;\n",
              "      }\n",
              "      const div = document.createElement('div');\n",
              "      const label = document.createElement('label');\n",
              "      label.textContent = `Downloading \"${filename}\": `;\n",
              "      div.appendChild(label);\n",
              "      const progress = document.createElement('progress');\n",
              "      progress.max = size;\n",
              "      div.appendChild(progress);\n",
              "      document.body.appendChild(div);\n",
              "\n",
              "      const buffers = [];\n",
              "      let downloaded = 0;\n",
              "\n",
              "      const channel = await google.colab.kernel.comms.open(id);\n",
              "      // Send a message to notify the kernel that we're ready.\n",
              "      channel.send({})\n",
              "\n",
              "      for await (const message of channel.messages) {\n",
              "        // Send a message to notify the kernel that we're ready.\n",
              "        channel.send({})\n",
              "        if (message.buffers) {\n",
              "          for (const buffer of message.buffers) {\n",
              "            buffers.push(buffer);\n",
              "            downloaded += buffer.byteLength;\n",
              "            progress.value = downloaded;\n",
              "          }\n",
              "        }\n",
              "      }\n",
              "      const blob = new Blob(buffers, {type: 'application/binary'});\n",
              "      const a = document.createElement('a');\n",
              "      a.href = window.URL.createObjectURL(blob);\n",
              "      a.download = filename;\n",
              "      div.appendChild(a);\n",
              "      a.click();\n",
              "      div.remove();\n",
              "    }\n",
              "  "
            ],
            "text/plain": [
              "<IPython.core.display.Javascript object>"
            ]
          },
          "metadata": {
            "tags": []
          }
        },
        {
          "output_type": "display_data",
          "data": {
            "application/javascript": [
              "download(\"download_a7289fed-de21-43fd-a485-2a2a98f2c0a9\", \"SNS_covid_prediction_11_dia.h5\", 423800)"
            ],
            "text/plain": [
              "<IPython.core.display.Javascript object>"
            ]
          },
          "metadata": {
            "tags": []
          }
        },
        {
          "output_type": "display_data",
          "data": {
            "application/javascript": [
              "\n",
              "    async function download(id, filename, size) {\n",
              "      if (!google.colab.kernel.accessAllowed) {\n",
              "        return;\n",
              "      }\n",
              "      const div = document.createElement('div');\n",
              "      const label = document.createElement('label');\n",
              "      label.textContent = `Downloading \"${filename}\": `;\n",
              "      div.appendChild(label);\n",
              "      const progress = document.createElement('progress');\n",
              "      progress.max = size;\n",
              "      div.appendChild(progress);\n",
              "      document.body.appendChild(div);\n",
              "\n",
              "      const buffers = [];\n",
              "      let downloaded = 0;\n",
              "\n",
              "      const channel = await google.colab.kernel.comms.open(id);\n",
              "      // Send a message to notify the kernel that we're ready.\n",
              "      channel.send({})\n",
              "\n",
              "      for await (const message of channel.messages) {\n",
              "        // Send a message to notify the kernel that we're ready.\n",
              "        channel.send({})\n",
              "        if (message.buffers) {\n",
              "          for (const buffer of message.buffers) {\n",
              "            buffers.push(buffer);\n",
              "            downloaded += buffer.byteLength;\n",
              "            progress.value = downloaded;\n",
              "          }\n",
              "        }\n",
              "      }\n",
              "      const blob = new Blob(buffers, {type: 'application/binary'});\n",
              "      const a = document.createElement('a');\n",
              "      a.href = window.URL.createObjectURL(blob);\n",
              "      a.download = filename;\n",
              "      div.appendChild(a);\n",
              "      a.click();\n",
              "      div.remove();\n",
              "    }\n",
              "  "
            ],
            "text/plain": [
              "<IPython.core.display.Javascript object>"
            ]
          },
          "metadata": {
            "tags": []
          }
        },
        {
          "output_type": "display_data",
          "data": {
            "application/javascript": [
              "download(\"download_04e2feb3-65ee-42d9-bd30-285fb5466cbb\", \"SNS_covid_prediction_41_dia.h5\", 424912)"
            ],
            "text/plain": [
              "<IPython.core.display.Javascript object>"
            ]
          },
          "metadata": {
            "tags": []
          }
        },
        {
          "output_type": "display_data",
          "data": {
            "application/javascript": [
              "\n",
              "    async function download(id, filename, size) {\n",
              "      if (!google.colab.kernel.accessAllowed) {\n",
              "        return;\n",
              "      }\n",
              "      const div = document.createElement('div');\n",
              "      const label = document.createElement('label');\n",
              "      label.textContent = `Downloading \"${filename}\": `;\n",
              "      div.appendChild(label);\n",
              "      const progress = document.createElement('progress');\n",
              "      progress.max = size;\n",
              "      div.appendChild(progress);\n",
              "      document.body.appendChild(div);\n",
              "\n",
              "      const buffers = [];\n",
              "      let downloaded = 0;\n",
              "\n",
              "      const channel = await google.colab.kernel.comms.open(id);\n",
              "      // Send a message to notify the kernel that we're ready.\n",
              "      channel.send({})\n",
              "\n",
              "      for await (const message of channel.messages) {\n",
              "        // Send a message to notify the kernel that we're ready.\n",
              "        channel.send({})\n",
              "        if (message.buffers) {\n",
              "          for (const buffer of message.buffers) {\n",
              "            buffers.push(buffer);\n",
              "            downloaded += buffer.byteLength;\n",
              "            progress.value = downloaded;\n",
              "          }\n",
              "        }\n",
              "      }\n",
              "      const blob = new Blob(buffers, {type: 'application/binary'});\n",
              "      const a = document.createElement('a');\n",
              "      a.href = window.URL.createObjectURL(blob);\n",
              "      a.download = filename;\n",
              "      div.appendChild(a);\n",
              "      a.click();\n",
              "      div.remove();\n",
              "    }\n",
              "  "
            ],
            "text/plain": [
              "<IPython.core.display.Javascript object>"
            ]
          },
          "metadata": {
            "tags": []
          }
        },
        {
          "output_type": "display_data",
          "data": {
            "application/javascript": [
              "download(\"download_b584b7d4-242d-4772-af80-39414bf35994\", \"SNS_covid_prediction_53_dia.h5\", 424912)"
            ],
            "text/plain": [
              "<IPython.core.display.Javascript object>"
            ]
          },
          "metadata": {
            "tags": []
          }
        },
        {
          "output_type": "display_data",
          "data": {
            "application/javascript": [
              "\n",
              "    async function download(id, filename, size) {\n",
              "      if (!google.colab.kernel.accessAllowed) {\n",
              "        return;\n",
              "      }\n",
              "      const div = document.createElement('div');\n",
              "      const label = document.createElement('label');\n",
              "      label.textContent = `Downloading \"${filename}\": `;\n",
              "      div.appendChild(label);\n",
              "      const progress = document.createElement('progress');\n",
              "      progress.max = size;\n",
              "      div.appendChild(progress);\n",
              "      document.body.appendChild(div);\n",
              "\n",
              "      const buffers = [];\n",
              "      let downloaded = 0;\n",
              "\n",
              "      const channel = await google.colab.kernel.comms.open(id);\n",
              "      // Send a message to notify the kernel that we're ready.\n",
              "      channel.send({})\n",
              "\n",
              "      for await (const message of channel.messages) {\n",
              "        // Send a message to notify the kernel that we're ready.\n",
              "        channel.send({})\n",
              "        if (message.buffers) {\n",
              "          for (const buffer of message.buffers) {\n",
              "            buffers.push(buffer);\n",
              "            downloaded += buffer.byteLength;\n",
              "            progress.value = downloaded;\n",
              "          }\n",
              "        }\n",
              "      }\n",
              "      const blob = new Blob(buffers, {type: 'application/binary'});\n",
              "      const a = document.createElement('a');\n",
              "      a.href = window.URL.createObjectURL(blob);\n",
              "      a.download = filename;\n",
              "      div.appendChild(a);\n",
              "      a.click();\n",
              "      div.remove();\n",
              "    }\n",
              "  "
            ],
            "text/plain": [
              "<IPython.core.display.Javascript object>"
            ]
          },
          "metadata": {
            "tags": []
          }
        },
        {
          "output_type": "display_data",
          "data": {
            "application/javascript": [
              "download(\"download_ae4cf15d-650d-447f-bbc2-01f595bf2d85\", \"SNS_covid_prediction_52_dia.h5\", 424912)"
            ],
            "text/plain": [
              "<IPython.core.display.Javascript object>"
            ]
          },
          "metadata": {
            "tags": []
          }
        },
        {
          "output_type": "display_data",
          "data": {
            "application/javascript": [
              "\n",
              "    async function download(id, filename, size) {\n",
              "      if (!google.colab.kernel.accessAllowed) {\n",
              "        return;\n",
              "      }\n",
              "      const div = document.createElement('div');\n",
              "      const label = document.createElement('label');\n",
              "      label.textContent = `Downloading \"${filename}\": `;\n",
              "      div.appendChild(label);\n",
              "      const progress = document.createElement('progress');\n",
              "      progress.max = size;\n",
              "      div.appendChild(progress);\n",
              "      document.body.appendChild(div);\n",
              "\n",
              "      const buffers = [];\n",
              "      let downloaded = 0;\n",
              "\n",
              "      const channel = await google.colab.kernel.comms.open(id);\n",
              "      // Send a message to notify the kernel that we're ready.\n",
              "      channel.send({})\n",
              "\n",
              "      for await (const message of channel.messages) {\n",
              "        // Send a message to notify the kernel that we're ready.\n",
              "        channel.send({})\n",
              "        if (message.buffers) {\n",
              "          for (const buffer of message.buffers) {\n",
              "            buffers.push(buffer);\n",
              "            downloaded += buffer.byteLength;\n",
              "            progress.value = downloaded;\n",
              "          }\n",
              "        }\n",
              "      }\n",
              "      const blob = new Blob(buffers, {type: 'application/binary'});\n",
              "      const a = document.createElement('a');\n",
              "      a.href = window.URL.createObjectURL(blob);\n",
              "      a.download = filename;\n",
              "      div.appendChild(a);\n",
              "      a.click();\n",
              "      div.remove();\n",
              "    }\n",
              "  "
            ],
            "text/plain": [
              "<IPython.core.display.Javascript object>"
            ]
          },
          "metadata": {
            "tags": []
          }
        },
        {
          "output_type": "display_data",
          "data": {
            "application/javascript": [
              "download(\"download_db84a6af-952f-4242-8ca9-944e02509b84\", \"SNS_covid_prediction_8_dia.h5\", 423800)"
            ],
            "text/plain": [
              "<IPython.core.display.Javascript object>"
            ]
          },
          "metadata": {
            "tags": []
          }
        },
        {
          "output_type": "display_data",
          "data": {
            "application/javascript": [
              "\n",
              "    async function download(id, filename, size) {\n",
              "      if (!google.colab.kernel.accessAllowed) {\n",
              "        return;\n",
              "      }\n",
              "      const div = document.createElement('div');\n",
              "      const label = document.createElement('label');\n",
              "      label.textContent = `Downloading \"${filename}\": `;\n",
              "      div.appendChild(label);\n",
              "      const progress = document.createElement('progress');\n",
              "      progress.max = size;\n",
              "      div.appendChild(progress);\n",
              "      document.body.appendChild(div);\n",
              "\n",
              "      const buffers = [];\n",
              "      let downloaded = 0;\n",
              "\n",
              "      const channel = await google.colab.kernel.comms.open(id);\n",
              "      // Send a message to notify the kernel that we're ready.\n",
              "      channel.send({})\n",
              "\n",
              "      for await (const message of channel.messages) {\n",
              "        // Send a message to notify the kernel that we're ready.\n",
              "        channel.send({})\n",
              "        if (message.buffers) {\n",
              "          for (const buffer of message.buffers) {\n",
              "            buffers.push(buffer);\n",
              "            downloaded += buffer.byteLength;\n",
              "            progress.value = downloaded;\n",
              "          }\n",
              "        }\n",
              "      }\n",
              "      const blob = new Blob(buffers, {type: 'application/binary'});\n",
              "      const a = document.createElement('a');\n",
              "      a.href = window.URL.createObjectURL(blob);\n",
              "      a.download = filename;\n",
              "      div.appendChild(a);\n",
              "      a.click();\n",
              "      div.remove();\n",
              "    }\n",
              "  "
            ],
            "text/plain": [
              "<IPython.core.display.Javascript object>"
            ]
          },
          "metadata": {
            "tags": []
          }
        },
        {
          "output_type": "display_data",
          "data": {
            "application/javascript": [
              "download(\"download_b088c55e-4758-49c4-b3e8-8d0c8e9e5d4c\", \"SNS_covid_prediction_37_dia.h5\", 424912)"
            ],
            "text/plain": [
              "<IPython.core.display.Javascript object>"
            ]
          },
          "metadata": {
            "tags": []
          }
        },
        {
          "output_type": "display_data",
          "data": {
            "application/javascript": [
              "\n",
              "    async function download(id, filename, size) {\n",
              "      if (!google.colab.kernel.accessAllowed) {\n",
              "        return;\n",
              "      }\n",
              "      const div = document.createElement('div');\n",
              "      const label = document.createElement('label');\n",
              "      label.textContent = `Downloading \"${filename}\": `;\n",
              "      div.appendChild(label);\n",
              "      const progress = document.createElement('progress');\n",
              "      progress.max = size;\n",
              "      div.appendChild(progress);\n",
              "      document.body.appendChild(div);\n",
              "\n",
              "      const buffers = [];\n",
              "      let downloaded = 0;\n",
              "\n",
              "      const channel = await google.colab.kernel.comms.open(id);\n",
              "      // Send a message to notify the kernel that we're ready.\n",
              "      channel.send({})\n",
              "\n",
              "      for await (const message of channel.messages) {\n",
              "        // Send a message to notify the kernel that we're ready.\n",
              "        channel.send({})\n",
              "        if (message.buffers) {\n",
              "          for (const buffer of message.buffers) {\n",
              "            buffers.push(buffer);\n",
              "            downloaded += buffer.byteLength;\n",
              "            progress.value = downloaded;\n",
              "          }\n",
              "        }\n",
              "      }\n",
              "      const blob = new Blob(buffers, {type: 'application/binary'});\n",
              "      const a = document.createElement('a');\n",
              "      a.href = window.URL.createObjectURL(blob);\n",
              "      a.download = filename;\n",
              "      div.appendChild(a);\n",
              "      a.click();\n",
              "      div.remove();\n",
              "    }\n",
              "  "
            ],
            "text/plain": [
              "<IPython.core.display.Javascript object>"
            ]
          },
          "metadata": {
            "tags": []
          }
        },
        {
          "output_type": "display_data",
          "data": {
            "application/javascript": [
              "download(\"download_80b6f631-176a-44e0-a10d-7e83a33318f6\", \"SNS_covid_prediction_50_dia.h5\", 424912)"
            ],
            "text/plain": [
              "<IPython.core.display.Javascript object>"
            ]
          },
          "metadata": {
            "tags": []
          }
        },
        {
          "output_type": "display_data",
          "data": {
            "application/javascript": [
              "\n",
              "    async function download(id, filename, size) {\n",
              "      if (!google.colab.kernel.accessAllowed) {\n",
              "        return;\n",
              "      }\n",
              "      const div = document.createElement('div');\n",
              "      const label = document.createElement('label');\n",
              "      label.textContent = `Downloading \"${filename}\": `;\n",
              "      div.appendChild(label);\n",
              "      const progress = document.createElement('progress');\n",
              "      progress.max = size;\n",
              "      div.appendChild(progress);\n",
              "      document.body.appendChild(div);\n",
              "\n",
              "      const buffers = [];\n",
              "      let downloaded = 0;\n",
              "\n",
              "      const channel = await google.colab.kernel.comms.open(id);\n",
              "      // Send a message to notify the kernel that we're ready.\n",
              "      channel.send({})\n",
              "\n",
              "      for await (const message of channel.messages) {\n",
              "        // Send a message to notify the kernel that we're ready.\n",
              "        channel.send({})\n",
              "        if (message.buffers) {\n",
              "          for (const buffer of message.buffers) {\n",
              "            buffers.push(buffer);\n",
              "            downloaded += buffer.byteLength;\n",
              "            progress.value = downloaded;\n",
              "          }\n",
              "        }\n",
              "      }\n",
              "      const blob = new Blob(buffers, {type: 'application/binary'});\n",
              "      const a = document.createElement('a');\n",
              "      a.href = window.URL.createObjectURL(blob);\n",
              "      a.download = filename;\n",
              "      div.appendChild(a);\n",
              "      a.click();\n",
              "      div.remove();\n",
              "    }\n",
              "  "
            ],
            "text/plain": [
              "<IPython.core.display.Javascript object>"
            ]
          },
          "metadata": {
            "tags": []
          }
        },
        {
          "output_type": "display_data",
          "data": {
            "application/javascript": [
              "download(\"download_c0f3bf56-e024-45f4-88d3-bc762a35ad12\", \"SNS_covid_prediction_17_dia.h5\", 424912)"
            ],
            "text/plain": [
              "<IPython.core.display.Javascript object>"
            ]
          },
          "metadata": {
            "tags": []
          }
        },
        {
          "output_type": "display_data",
          "data": {
            "application/javascript": [
              "\n",
              "    async function download(id, filename, size) {\n",
              "      if (!google.colab.kernel.accessAllowed) {\n",
              "        return;\n",
              "      }\n",
              "      const div = document.createElement('div');\n",
              "      const label = document.createElement('label');\n",
              "      label.textContent = `Downloading \"${filename}\": `;\n",
              "      div.appendChild(label);\n",
              "      const progress = document.createElement('progress');\n",
              "      progress.max = size;\n",
              "      div.appendChild(progress);\n",
              "      document.body.appendChild(div);\n",
              "\n",
              "      const buffers = [];\n",
              "      let downloaded = 0;\n",
              "\n",
              "      const channel = await google.colab.kernel.comms.open(id);\n",
              "      // Send a message to notify the kernel that we're ready.\n",
              "      channel.send({})\n",
              "\n",
              "      for await (const message of channel.messages) {\n",
              "        // Send a message to notify the kernel that we're ready.\n",
              "        channel.send({})\n",
              "        if (message.buffers) {\n",
              "          for (const buffer of message.buffers) {\n",
              "            buffers.push(buffer);\n",
              "            downloaded += buffer.byteLength;\n",
              "            progress.value = downloaded;\n",
              "          }\n",
              "        }\n",
              "      }\n",
              "      const blob = new Blob(buffers, {type: 'application/binary'});\n",
              "      const a = document.createElement('a');\n",
              "      a.href = window.URL.createObjectURL(blob);\n",
              "      a.download = filename;\n",
              "      div.appendChild(a);\n",
              "      a.click();\n",
              "      div.remove();\n",
              "    }\n",
              "  "
            ],
            "text/plain": [
              "<IPython.core.display.Javascript object>"
            ]
          },
          "metadata": {
            "tags": []
          }
        },
        {
          "output_type": "display_data",
          "data": {
            "application/javascript": [
              "download(\"download_5c121c81-3222-4758-bb31-6452f0931e6d\", \"SNS_covid_prediction_9_dia.h5\", 423800)"
            ],
            "text/plain": [
              "<IPython.core.display.Javascript object>"
            ]
          },
          "metadata": {
            "tags": []
          }
        },
        {
          "output_type": "display_data",
          "data": {
            "application/javascript": [
              "\n",
              "    async function download(id, filename, size) {\n",
              "      if (!google.colab.kernel.accessAllowed) {\n",
              "        return;\n",
              "      }\n",
              "      const div = document.createElement('div');\n",
              "      const label = document.createElement('label');\n",
              "      label.textContent = `Downloading \"${filename}\": `;\n",
              "      div.appendChild(label);\n",
              "      const progress = document.createElement('progress');\n",
              "      progress.max = size;\n",
              "      div.appendChild(progress);\n",
              "      document.body.appendChild(div);\n",
              "\n",
              "      const buffers = [];\n",
              "      let downloaded = 0;\n",
              "\n",
              "      const channel = await google.colab.kernel.comms.open(id);\n",
              "      // Send a message to notify the kernel that we're ready.\n",
              "      channel.send({})\n",
              "\n",
              "      for await (const message of channel.messages) {\n",
              "        // Send a message to notify the kernel that we're ready.\n",
              "        channel.send({})\n",
              "        if (message.buffers) {\n",
              "          for (const buffer of message.buffers) {\n",
              "            buffers.push(buffer);\n",
              "            downloaded += buffer.byteLength;\n",
              "            progress.value = downloaded;\n",
              "          }\n",
              "        }\n",
              "      }\n",
              "      const blob = new Blob(buffers, {type: 'application/binary'});\n",
              "      const a = document.createElement('a');\n",
              "      a.href = window.URL.createObjectURL(blob);\n",
              "      a.download = filename;\n",
              "      div.appendChild(a);\n",
              "      a.click();\n",
              "      div.remove();\n",
              "    }\n",
              "  "
            ],
            "text/plain": [
              "<IPython.core.display.Javascript object>"
            ]
          },
          "metadata": {
            "tags": []
          }
        },
        {
          "output_type": "display_data",
          "data": {
            "application/javascript": [
              "download(\"download_3dee249e-53ad-410b-9db0-74786ba90287\", \"SNS_covid_prediction_51_dia.h5\", 424912)"
            ],
            "text/plain": [
              "<IPython.core.display.Javascript object>"
            ]
          },
          "metadata": {
            "tags": []
          }
        },
        {
          "output_type": "display_data",
          "data": {
            "application/javascript": [
              "\n",
              "    async function download(id, filename, size) {\n",
              "      if (!google.colab.kernel.accessAllowed) {\n",
              "        return;\n",
              "      }\n",
              "      const div = document.createElement('div');\n",
              "      const label = document.createElement('label');\n",
              "      label.textContent = `Downloading \"${filename}\": `;\n",
              "      div.appendChild(label);\n",
              "      const progress = document.createElement('progress');\n",
              "      progress.max = size;\n",
              "      div.appendChild(progress);\n",
              "      document.body.appendChild(div);\n",
              "\n",
              "      const buffers = [];\n",
              "      let downloaded = 0;\n",
              "\n",
              "      const channel = await google.colab.kernel.comms.open(id);\n",
              "      // Send a message to notify the kernel that we're ready.\n",
              "      channel.send({})\n",
              "\n",
              "      for await (const message of channel.messages) {\n",
              "        // Send a message to notify the kernel that we're ready.\n",
              "        channel.send({})\n",
              "        if (message.buffers) {\n",
              "          for (const buffer of message.buffers) {\n",
              "            buffers.push(buffer);\n",
              "            downloaded += buffer.byteLength;\n",
              "            progress.value = downloaded;\n",
              "          }\n",
              "        }\n",
              "      }\n",
              "      const blob = new Blob(buffers, {type: 'application/binary'});\n",
              "      const a = document.createElement('a');\n",
              "      a.href = window.URL.createObjectURL(blob);\n",
              "      a.download = filename;\n",
              "      div.appendChild(a);\n",
              "      a.click();\n",
              "      div.remove();\n",
              "    }\n",
              "  "
            ],
            "text/plain": [
              "<IPython.core.display.Javascript object>"
            ]
          },
          "metadata": {
            "tags": []
          }
        },
        {
          "output_type": "display_data",
          "data": {
            "application/javascript": [
              "download(\"download_5c4b3114-1fe1-4764-819b-2744473fe7fc\", \"SNS_covid_prediction_59_dia.h5\", 424912)"
            ],
            "text/plain": [
              "<IPython.core.display.Javascript object>"
            ]
          },
          "metadata": {
            "tags": []
          }
        },
        {
          "output_type": "display_data",
          "data": {
            "application/javascript": [
              "\n",
              "    async function download(id, filename, size) {\n",
              "      if (!google.colab.kernel.accessAllowed) {\n",
              "        return;\n",
              "      }\n",
              "      const div = document.createElement('div');\n",
              "      const label = document.createElement('label');\n",
              "      label.textContent = `Downloading \"${filename}\": `;\n",
              "      div.appendChild(label);\n",
              "      const progress = document.createElement('progress');\n",
              "      progress.max = size;\n",
              "      div.appendChild(progress);\n",
              "      document.body.appendChild(div);\n",
              "\n",
              "      const buffers = [];\n",
              "      let downloaded = 0;\n",
              "\n",
              "      const channel = await google.colab.kernel.comms.open(id);\n",
              "      // Send a message to notify the kernel that we're ready.\n",
              "      channel.send({})\n",
              "\n",
              "      for await (const message of channel.messages) {\n",
              "        // Send a message to notify the kernel that we're ready.\n",
              "        channel.send({})\n",
              "        if (message.buffers) {\n",
              "          for (const buffer of message.buffers) {\n",
              "            buffers.push(buffer);\n",
              "            downloaded += buffer.byteLength;\n",
              "            progress.value = downloaded;\n",
              "          }\n",
              "        }\n",
              "      }\n",
              "      const blob = new Blob(buffers, {type: 'application/binary'});\n",
              "      const a = document.createElement('a');\n",
              "      a.href = window.URL.createObjectURL(blob);\n",
              "      a.download = filename;\n",
              "      div.appendChild(a);\n",
              "      a.click();\n",
              "      div.remove();\n",
              "    }\n",
              "  "
            ],
            "text/plain": [
              "<IPython.core.display.Javascript object>"
            ]
          },
          "metadata": {
            "tags": []
          }
        },
        {
          "output_type": "display_data",
          "data": {
            "application/javascript": [
              "download(\"download_ba19786c-4e52-4830-8f0b-a6cd8221e323\", \"SNS_covid_prediction_14_dia.h5\", 424912)"
            ],
            "text/plain": [
              "<IPython.core.display.Javascript object>"
            ]
          },
          "metadata": {
            "tags": []
          }
        },
        {
          "output_type": "display_data",
          "data": {
            "application/javascript": [
              "\n",
              "    async function download(id, filename, size) {\n",
              "      if (!google.colab.kernel.accessAllowed) {\n",
              "        return;\n",
              "      }\n",
              "      const div = document.createElement('div');\n",
              "      const label = document.createElement('label');\n",
              "      label.textContent = `Downloading \"${filename}\": `;\n",
              "      div.appendChild(label);\n",
              "      const progress = document.createElement('progress');\n",
              "      progress.max = size;\n",
              "      div.appendChild(progress);\n",
              "      document.body.appendChild(div);\n",
              "\n",
              "      const buffers = [];\n",
              "      let downloaded = 0;\n",
              "\n",
              "      const channel = await google.colab.kernel.comms.open(id);\n",
              "      // Send a message to notify the kernel that we're ready.\n",
              "      channel.send({})\n",
              "\n",
              "      for await (const message of channel.messages) {\n",
              "        // Send a message to notify the kernel that we're ready.\n",
              "        channel.send({})\n",
              "        if (message.buffers) {\n",
              "          for (const buffer of message.buffers) {\n",
              "            buffers.push(buffer);\n",
              "            downloaded += buffer.byteLength;\n",
              "            progress.value = downloaded;\n",
              "          }\n",
              "        }\n",
              "      }\n",
              "      const blob = new Blob(buffers, {type: 'application/binary'});\n",
              "      const a = document.createElement('a');\n",
              "      a.href = window.URL.createObjectURL(blob);\n",
              "      a.download = filename;\n",
              "      div.appendChild(a);\n",
              "      a.click();\n",
              "      div.remove();\n",
              "    }\n",
              "  "
            ],
            "text/plain": [
              "<IPython.core.display.Javascript object>"
            ]
          },
          "metadata": {
            "tags": []
          }
        },
        {
          "output_type": "display_data",
          "data": {
            "application/javascript": [
              "download(\"download_01174198-54d4-4bb4-b4ed-11caefe0c5b3\", \"SNS_covid_prediction_10_dia.h5\", 423800)"
            ],
            "text/plain": [
              "<IPython.core.display.Javascript object>"
            ]
          },
          "metadata": {
            "tags": []
          }
        },
        {
          "output_type": "display_data",
          "data": {
            "application/javascript": [
              "\n",
              "    async function download(id, filename, size) {\n",
              "      if (!google.colab.kernel.accessAllowed) {\n",
              "        return;\n",
              "      }\n",
              "      const div = document.createElement('div');\n",
              "      const label = document.createElement('label');\n",
              "      label.textContent = `Downloading \"${filename}\": `;\n",
              "      div.appendChild(label);\n",
              "      const progress = document.createElement('progress');\n",
              "      progress.max = size;\n",
              "      div.appendChild(progress);\n",
              "      document.body.appendChild(div);\n",
              "\n",
              "      const buffers = [];\n",
              "      let downloaded = 0;\n",
              "\n",
              "      const channel = await google.colab.kernel.comms.open(id);\n",
              "      // Send a message to notify the kernel that we're ready.\n",
              "      channel.send({})\n",
              "\n",
              "      for await (const message of channel.messages) {\n",
              "        // Send a message to notify the kernel that we're ready.\n",
              "        channel.send({})\n",
              "        if (message.buffers) {\n",
              "          for (const buffer of message.buffers) {\n",
              "            buffers.push(buffer);\n",
              "            downloaded += buffer.byteLength;\n",
              "            progress.value = downloaded;\n",
              "          }\n",
              "        }\n",
              "      }\n",
              "      const blob = new Blob(buffers, {type: 'application/binary'});\n",
              "      const a = document.createElement('a');\n",
              "      a.href = window.URL.createObjectURL(blob);\n",
              "      a.download = filename;\n",
              "      div.appendChild(a);\n",
              "      a.click();\n",
              "      div.remove();\n",
              "    }\n",
              "  "
            ],
            "text/plain": [
              "<IPython.core.display.Javascript object>"
            ]
          },
          "metadata": {
            "tags": []
          }
        },
        {
          "output_type": "display_data",
          "data": {
            "application/javascript": [
              "download(\"download_40f06ce8-e63f-4127-9fb0-ed33513a0792\", \"SNS_covid_prediction_4_dia.h5\", 424912)"
            ],
            "text/plain": [
              "<IPython.core.display.Javascript object>"
            ]
          },
          "metadata": {
            "tags": []
          }
        },
        {
          "output_type": "display_data",
          "data": {
            "application/javascript": [
              "\n",
              "    async function download(id, filename, size) {\n",
              "      if (!google.colab.kernel.accessAllowed) {\n",
              "        return;\n",
              "      }\n",
              "      const div = document.createElement('div');\n",
              "      const label = document.createElement('label');\n",
              "      label.textContent = `Downloading \"${filename}\": `;\n",
              "      div.appendChild(label);\n",
              "      const progress = document.createElement('progress');\n",
              "      progress.max = size;\n",
              "      div.appendChild(progress);\n",
              "      document.body.appendChild(div);\n",
              "\n",
              "      const buffers = [];\n",
              "      let downloaded = 0;\n",
              "\n",
              "      const channel = await google.colab.kernel.comms.open(id);\n",
              "      // Send a message to notify the kernel that we're ready.\n",
              "      channel.send({})\n",
              "\n",
              "      for await (const message of channel.messages) {\n",
              "        // Send a message to notify the kernel that we're ready.\n",
              "        channel.send({})\n",
              "        if (message.buffers) {\n",
              "          for (const buffer of message.buffers) {\n",
              "            buffers.push(buffer);\n",
              "            downloaded += buffer.byteLength;\n",
              "            progress.value = downloaded;\n",
              "          }\n",
              "        }\n",
              "      }\n",
              "      const blob = new Blob(buffers, {type: 'application/binary'});\n",
              "      const a = document.createElement('a');\n",
              "      a.href = window.URL.createObjectURL(blob);\n",
              "      a.download = filename;\n",
              "      div.appendChild(a);\n",
              "      a.click();\n",
              "      div.remove();\n",
              "    }\n",
              "  "
            ],
            "text/plain": [
              "<IPython.core.display.Javascript object>"
            ]
          },
          "metadata": {
            "tags": []
          }
        },
        {
          "output_type": "display_data",
          "data": {
            "application/javascript": [
              "download(\"download_4ec31dd7-a41c-4074-a687-bb7a98200537\", \"SNS_covid_prediction_19_dia.h5\", 424912)"
            ],
            "text/plain": [
              "<IPython.core.display.Javascript object>"
            ]
          },
          "metadata": {
            "tags": []
          }
        },
        {
          "output_type": "display_data",
          "data": {
            "application/javascript": [
              "\n",
              "    async function download(id, filename, size) {\n",
              "      if (!google.colab.kernel.accessAllowed) {\n",
              "        return;\n",
              "      }\n",
              "      const div = document.createElement('div');\n",
              "      const label = document.createElement('label');\n",
              "      label.textContent = `Downloading \"${filename}\": `;\n",
              "      div.appendChild(label);\n",
              "      const progress = document.createElement('progress');\n",
              "      progress.max = size;\n",
              "      div.appendChild(progress);\n",
              "      document.body.appendChild(div);\n",
              "\n",
              "      const buffers = [];\n",
              "      let downloaded = 0;\n",
              "\n",
              "      const channel = await google.colab.kernel.comms.open(id);\n",
              "      // Send a message to notify the kernel that we're ready.\n",
              "      channel.send({})\n",
              "\n",
              "      for await (const message of channel.messages) {\n",
              "        // Send a message to notify the kernel that we're ready.\n",
              "        channel.send({})\n",
              "        if (message.buffers) {\n",
              "          for (const buffer of message.buffers) {\n",
              "            buffers.push(buffer);\n",
              "            downloaded += buffer.byteLength;\n",
              "            progress.value = downloaded;\n",
              "          }\n",
              "        }\n",
              "      }\n",
              "      const blob = new Blob(buffers, {type: 'application/binary'});\n",
              "      const a = document.createElement('a');\n",
              "      a.href = window.URL.createObjectURL(blob);\n",
              "      a.download = filename;\n",
              "      div.appendChild(a);\n",
              "      a.click();\n",
              "      div.remove();\n",
              "    }\n",
              "  "
            ],
            "text/plain": [
              "<IPython.core.display.Javascript object>"
            ]
          },
          "metadata": {
            "tags": []
          }
        },
        {
          "output_type": "display_data",
          "data": {
            "application/javascript": [
              "download(\"download_249372b6-6062-4330-8f77-0458d36a184e\", \"SNS_covid_prediction_25_dia.h5\", 424912)"
            ],
            "text/plain": [
              "<IPython.core.display.Javascript object>"
            ]
          },
          "metadata": {
            "tags": []
          }
        },
        {
          "output_type": "display_data",
          "data": {
            "application/javascript": [
              "\n",
              "    async function download(id, filename, size) {\n",
              "      if (!google.colab.kernel.accessAllowed) {\n",
              "        return;\n",
              "      }\n",
              "      const div = document.createElement('div');\n",
              "      const label = document.createElement('label');\n",
              "      label.textContent = `Downloading \"${filename}\": `;\n",
              "      div.appendChild(label);\n",
              "      const progress = document.createElement('progress');\n",
              "      progress.max = size;\n",
              "      div.appendChild(progress);\n",
              "      document.body.appendChild(div);\n",
              "\n",
              "      const buffers = [];\n",
              "      let downloaded = 0;\n",
              "\n",
              "      const channel = await google.colab.kernel.comms.open(id);\n",
              "      // Send a message to notify the kernel that we're ready.\n",
              "      channel.send({})\n",
              "\n",
              "      for await (const message of channel.messages) {\n",
              "        // Send a message to notify the kernel that we're ready.\n",
              "        channel.send({})\n",
              "        if (message.buffers) {\n",
              "          for (const buffer of message.buffers) {\n",
              "            buffers.push(buffer);\n",
              "            downloaded += buffer.byteLength;\n",
              "            progress.value = downloaded;\n",
              "          }\n",
              "        }\n",
              "      }\n",
              "      const blob = new Blob(buffers, {type: 'application/binary'});\n",
              "      const a = document.createElement('a');\n",
              "      a.href = window.URL.createObjectURL(blob);\n",
              "      a.download = filename;\n",
              "      div.appendChild(a);\n",
              "      a.click();\n",
              "      div.remove();\n",
              "    }\n",
              "  "
            ],
            "text/plain": [
              "<IPython.core.display.Javascript object>"
            ]
          },
          "metadata": {
            "tags": []
          }
        },
        {
          "output_type": "display_data",
          "data": {
            "application/javascript": [
              "download(\"download_9a289c63-3884-483f-87aa-b07ef98a0781\", \"SNS_covid_prediction_2_dia.h5\", 424912)"
            ],
            "text/plain": [
              "<IPython.core.display.Javascript object>"
            ]
          },
          "metadata": {
            "tags": []
          }
        },
        {
          "output_type": "display_data",
          "data": {
            "application/javascript": [
              "\n",
              "    async function download(id, filename, size) {\n",
              "      if (!google.colab.kernel.accessAllowed) {\n",
              "        return;\n",
              "      }\n",
              "      const div = document.createElement('div');\n",
              "      const label = document.createElement('label');\n",
              "      label.textContent = `Downloading \"${filename}\": `;\n",
              "      div.appendChild(label);\n",
              "      const progress = document.createElement('progress');\n",
              "      progress.max = size;\n",
              "      div.appendChild(progress);\n",
              "      document.body.appendChild(div);\n",
              "\n",
              "      const buffers = [];\n",
              "      let downloaded = 0;\n",
              "\n",
              "      const channel = await google.colab.kernel.comms.open(id);\n",
              "      // Send a message to notify the kernel that we're ready.\n",
              "      channel.send({})\n",
              "\n",
              "      for await (const message of channel.messages) {\n",
              "        // Send a message to notify the kernel that we're ready.\n",
              "        channel.send({})\n",
              "        if (message.buffers) {\n",
              "          for (const buffer of message.buffers) {\n",
              "            buffers.push(buffer);\n",
              "            downloaded += buffer.byteLength;\n",
              "            progress.value = downloaded;\n",
              "          }\n",
              "        }\n",
              "      }\n",
              "      const blob = new Blob(buffers, {type: 'application/binary'});\n",
              "      const a = document.createElement('a');\n",
              "      a.href = window.URL.createObjectURL(blob);\n",
              "      a.download = filename;\n",
              "      div.appendChild(a);\n",
              "      a.click();\n",
              "      div.remove();\n",
              "    }\n",
              "  "
            ],
            "text/plain": [
              "<IPython.core.display.Javascript object>"
            ]
          },
          "metadata": {
            "tags": []
          }
        },
        {
          "output_type": "display_data",
          "data": {
            "application/javascript": [
              "download(\"download_9151652f-fd0f-4897-b66d-2b352099cca5\", \"SNS_covid_prediction_46_dia.h5\", 424912)"
            ],
            "text/plain": [
              "<IPython.core.display.Javascript object>"
            ]
          },
          "metadata": {
            "tags": []
          }
        },
        {
          "output_type": "display_data",
          "data": {
            "application/javascript": [
              "\n",
              "    async function download(id, filename, size) {\n",
              "      if (!google.colab.kernel.accessAllowed) {\n",
              "        return;\n",
              "      }\n",
              "      const div = document.createElement('div');\n",
              "      const label = document.createElement('label');\n",
              "      label.textContent = `Downloading \"${filename}\": `;\n",
              "      div.appendChild(label);\n",
              "      const progress = document.createElement('progress');\n",
              "      progress.max = size;\n",
              "      div.appendChild(progress);\n",
              "      document.body.appendChild(div);\n",
              "\n",
              "      const buffers = [];\n",
              "      let downloaded = 0;\n",
              "\n",
              "      const channel = await google.colab.kernel.comms.open(id);\n",
              "      // Send a message to notify the kernel that we're ready.\n",
              "      channel.send({})\n",
              "\n",
              "      for await (const message of channel.messages) {\n",
              "        // Send a message to notify the kernel that we're ready.\n",
              "        channel.send({})\n",
              "        if (message.buffers) {\n",
              "          for (const buffer of message.buffers) {\n",
              "            buffers.push(buffer);\n",
              "            downloaded += buffer.byteLength;\n",
              "            progress.value = downloaded;\n",
              "          }\n",
              "        }\n",
              "      }\n",
              "      const blob = new Blob(buffers, {type: 'application/binary'});\n",
              "      const a = document.createElement('a');\n",
              "      a.href = window.URL.createObjectURL(blob);\n",
              "      a.download = filename;\n",
              "      div.appendChild(a);\n",
              "      a.click();\n",
              "      div.remove();\n",
              "    }\n",
              "  "
            ],
            "text/plain": [
              "<IPython.core.display.Javascript object>"
            ]
          },
          "metadata": {
            "tags": []
          }
        },
        {
          "output_type": "display_data",
          "data": {
            "application/javascript": [
              "download(\"download_09f6ac96-f2cd-487b-b7a3-108d18118053\", \"SNS_covid_prediction_48_dia.h5\", 424912)"
            ],
            "text/plain": [
              "<IPython.core.display.Javascript object>"
            ]
          },
          "metadata": {
            "tags": []
          }
        },
        {
          "output_type": "display_data",
          "data": {
            "application/javascript": [
              "\n",
              "    async function download(id, filename, size) {\n",
              "      if (!google.colab.kernel.accessAllowed) {\n",
              "        return;\n",
              "      }\n",
              "      const div = document.createElement('div');\n",
              "      const label = document.createElement('label');\n",
              "      label.textContent = `Downloading \"${filename}\": `;\n",
              "      div.appendChild(label);\n",
              "      const progress = document.createElement('progress');\n",
              "      progress.max = size;\n",
              "      div.appendChild(progress);\n",
              "      document.body.appendChild(div);\n",
              "\n",
              "      const buffers = [];\n",
              "      let downloaded = 0;\n",
              "\n",
              "      const channel = await google.colab.kernel.comms.open(id);\n",
              "      // Send a message to notify the kernel that we're ready.\n",
              "      channel.send({})\n",
              "\n",
              "      for await (const message of channel.messages) {\n",
              "        // Send a message to notify the kernel that we're ready.\n",
              "        channel.send({})\n",
              "        if (message.buffers) {\n",
              "          for (const buffer of message.buffers) {\n",
              "            buffers.push(buffer);\n",
              "            downloaded += buffer.byteLength;\n",
              "            progress.value = downloaded;\n",
              "          }\n",
              "        }\n",
              "      }\n",
              "      const blob = new Blob(buffers, {type: 'application/binary'});\n",
              "      const a = document.createElement('a');\n",
              "      a.href = window.URL.createObjectURL(blob);\n",
              "      a.download = filename;\n",
              "      div.appendChild(a);\n",
              "      a.click();\n",
              "      div.remove();\n",
              "    }\n",
              "  "
            ],
            "text/plain": [
              "<IPython.core.display.Javascript object>"
            ]
          },
          "metadata": {
            "tags": []
          }
        },
        {
          "output_type": "display_data",
          "data": {
            "application/javascript": [
              "download(\"download_db666919-8ee2-47aa-b3b2-2a46231f8f02\", \"SNS_covid_prediction_57_dia.h5\", 424912)"
            ],
            "text/plain": [
              "<IPython.core.display.Javascript object>"
            ]
          },
          "metadata": {
            "tags": []
          }
        },
        {
          "output_type": "display_data",
          "data": {
            "application/javascript": [
              "\n",
              "    async function download(id, filename, size) {\n",
              "      if (!google.colab.kernel.accessAllowed) {\n",
              "        return;\n",
              "      }\n",
              "      const div = document.createElement('div');\n",
              "      const label = document.createElement('label');\n",
              "      label.textContent = `Downloading \"${filename}\": `;\n",
              "      div.appendChild(label);\n",
              "      const progress = document.createElement('progress');\n",
              "      progress.max = size;\n",
              "      div.appendChild(progress);\n",
              "      document.body.appendChild(div);\n",
              "\n",
              "      const buffers = [];\n",
              "      let downloaded = 0;\n",
              "\n",
              "      const channel = await google.colab.kernel.comms.open(id);\n",
              "      // Send a message to notify the kernel that we're ready.\n",
              "      channel.send({})\n",
              "\n",
              "      for await (const message of channel.messages) {\n",
              "        // Send a message to notify the kernel that we're ready.\n",
              "        channel.send({})\n",
              "        if (message.buffers) {\n",
              "          for (const buffer of message.buffers) {\n",
              "            buffers.push(buffer);\n",
              "            downloaded += buffer.byteLength;\n",
              "            progress.value = downloaded;\n",
              "          }\n",
              "        }\n",
              "      }\n",
              "      const blob = new Blob(buffers, {type: 'application/binary'});\n",
              "      const a = document.createElement('a');\n",
              "      a.href = window.URL.createObjectURL(blob);\n",
              "      a.download = filename;\n",
              "      div.appendChild(a);\n",
              "      a.click();\n",
              "      div.remove();\n",
              "    }\n",
              "  "
            ],
            "text/plain": [
              "<IPython.core.display.Javascript object>"
            ]
          },
          "metadata": {
            "tags": []
          }
        },
        {
          "output_type": "display_data",
          "data": {
            "application/javascript": [
              "download(\"download_352c7100-3356-4e07-80c4-d66847e67bbf\", \"SNS_covid_prediction_12_dia.h5\", 423800)"
            ],
            "text/plain": [
              "<IPython.core.display.Javascript object>"
            ]
          },
          "metadata": {
            "tags": []
          }
        },
        {
          "output_type": "display_data",
          "data": {
            "application/javascript": [
              "\n",
              "    async function download(id, filename, size) {\n",
              "      if (!google.colab.kernel.accessAllowed) {\n",
              "        return;\n",
              "      }\n",
              "      const div = document.createElement('div');\n",
              "      const label = document.createElement('label');\n",
              "      label.textContent = `Downloading \"${filename}\": `;\n",
              "      div.appendChild(label);\n",
              "      const progress = document.createElement('progress');\n",
              "      progress.max = size;\n",
              "      div.appendChild(progress);\n",
              "      document.body.appendChild(div);\n",
              "\n",
              "      const buffers = [];\n",
              "      let downloaded = 0;\n",
              "\n",
              "      const channel = await google.colab.kernel.comms.open(id);\n",
              "      // Send a message to notify the kernel that we're ready.\n",
              "      channel.send({})\n",
              "\n",
              "      for await (const message of channel.messages) {\n",
              "        // Send a message to notify the kernel that we're ready.\n",
              "        channel.send({})\n",
              "        if (message.buffers) {\n",
              "          for (const buffer of message.buffers) {\n",
              "            buffers.push(buffer);\n",
              "            downloaded += buffer.byteLength;\n",
              "            progress.value = downloaded;\n",
              "          }\n",
              "        }\n",
              "      }\n",
              "      const blob = new Blob(buffers, {type: 'application/binary'});\n",
              "      const a = document.createElement('a');\n",
              "      a.href = window.URL.createObjectURL(blob);\n",
              "      a.download = filename;\n",
              "      div.appendChild(a);\n",
              "      a.click();\n",
              "      div.remove();\n",
              "    }\n",
              "  "
            ],
            "text/plain": [
              "<IPython.core.display.Javascript object>"
            ]
          },
          "metadata": {
            "tags": []
          }
        },
        {
          "output_type": "display_data",
          "data": {
            "application/javascript": [
              "download(\"download_df09dcdd-8ddc-4eed-a516-91a2e01bd222\", \"SNS_covid_prediction_5_dia.h5\", 424912)"
            ],
            "text/plain": [
              "<IPython.core.display.Javascript object>"
            ]
          },
          "metadata": {
            "tags": []
          }
        },
        {
          "output_type": "display_data",
          "data": {
            "application/javascript": [
              "\n",
              "    async function download(id, filename, size) {\n",
              "      if (!google.colab.kernel.accessAllowed) {\n",
              "        return;\n",
              "      }\n",
              "      const div = document.createElement('div');\n",
              "      const label = document.createElement('label');\n",
              "      label.textContent = `Downloading \"${filename}\": `;\n",
              "      div.appendChild(label);\n",
              "      const progress = document.createElement('progress');\n",
              "      progress.max = size;\n",
              "      div.appendChild(progress);\n",
              "      document.body.appendChild(div);\n",
              "\n",
              "      const buffers = [];\n",
              "      let downloaded = 0;\n",
              "\n",
              "      const channel = await google.colab.kernel.comms.open(id);\n",
              "      // Send a message to notify the kernel that we're ready.\n",
              "      channel.send({})\n",
              "\n",
              "      for await (const message of channel.messages) {\n",
              "        // Send a message to notify the kernel that we're ready.\n",
              "        channel.send({})\n",
              "        if (message.buffers) {\n",
              "          for (const buffer of message.buffers) {\n",
              "            buffers.push(buffer);\n",
              "            downloaded += buffer.byteLength;\n",
              "            progress.value = downloaded;\n",
              "          }\n",
              "        }\n",
              "      }\n",
              "      const blob = new Blob(buffers, {type: 'application/binary'});\n",
              "      const a = document.createElement('a');\n",
              "      a.href = window.URL.createObjectURL(blob);\n",
              "      a.download = filename;\n",
              "      div.appendChild(a);\n",
              "      a.click();\n",
              "      div.remove();\n",
              "    }\n",
              "  "
            ],
            "text/plain": [
              "<IPython.core.display.Javascript object>"
            ]
          },
          "metadata": {
            "tags": []
          }
        },
        {
          "output_type": "display_data",
          "data": {
            "application/javascript": [
              "download(\"download_1b1792b0-6d0d-4961-931e-4e25e1c89f48\", \"SNS_covid_prediction_35_dia.h5\", 424912)"
            ],
            "text/plain": [
              "<IPython.core.display.Javascript object>"
            ]
          },
          "metadata": {
            "tags": []
          }
        },
        {
          "output_type": "display_data",
          "data": {
            "application/javascript": [
              "\n",
              "    async function download(id, filename, size) {\n",
              "      if (!google.colab.kernel.accessAllowed) {\n",
              "        return;\n",
              "      }\n",
              "      const div = document.createElement('div');\n",
              "      const label = document.createElement('label');\n",
              "      label.textContent = `Downloading \"${filename}\": `;\n",
              "      div.appendChild(label);\n",
              "      const progress = document.createElement('progress');\n",
              "      progress.max = size;\n",
              "      div.appendChild(progress);\n",
              "      document.body.appendChild(div);\n",
              "\n",
              "      const buffers = [];\n",
              "      let downloaded = 0;\n",
              "\n",
              "      const channel = await google.colab.kernel.comms.open(id);\n",
              "      // Send a message to notify the kernel that we're ready.\n",
              "      channel.send({})\n",
              "\n",
              "      for await (const message of channel.messages) {\n",
              "        // Send a message to notify the kernel that we're ready.\n",
              "        channel.send({})\n",
              "        if (message.buffers) {\n",
              "          for (const buffer of message.buffers) {\n",
              "            buffers.push(buffer);\n",
              "            downloaded += buffer.byteLength;\n",
              "            progress.value = downloaded;\n",
              "          }\n",
              "        }\n",
              "      }\n",
              "      const blob = new Blob(buffers, {type: 'application/binary'});\n",
              "      const a = document.createElement('a');\n",
              "      a.href = window.URL.createObjectURL(blob);\n",
              "      a.download = filename;\n",
              "      div.appendChild(a);\n",
              "      a.click();\n",
              "      div.remove();\n",
              "    }\n",
              "  "
            ],
            "text/plain": [
              "<IPython.core.display.Javascript object>"
            ]
          },
          "metadata": {
            "tags": []
          }
        },
        {
          "output_type": "display_data",
          "data": {
            "application/javascript": [
              "download(\"download_c10f39d7-e7e2-4488-acbc-858f70431c4b\", \"SNS_covid_prediction_22_dia.h5\", 424912)"
            ],
            "text/plain": [
              "<IPython.core.display.Javascript object>"
            ]
          },
          "metadata": {
            "tags": []
          }
        },
        {
          "output_type": "display_data",
          "data": {
            "application/javascript": [
              "\n",
              "    async function download(id, filename, size) {\n",
              "      if (!google.colab.kernel.accessAllowed) {\n",
              "        return;\n",
              "      }\n",
              "      const div = document.createElement('div');\n",
              "      const label = document.createElement('label');\n",
              "      label.textContent = `Downloading \"${filename}\": `;\n",
              "      div.appendChild(label);\n",
              "      const progress = document.createElement('progress');\n",
              "      progress.max = size;\n",
              "      div.appendChild(progress);\n",
              "      document.body.appendChild(div);\n",
              "\n",
              "      const buffers = [];\n",
              "      let downloaded = 0;\n",
              "\n",
              "      const channel = await google.colab.kernel.comms.open(id);\n",
              "      // Send a message to notify the kernel that we're ready.\n",
              "      channel.send({})\n",
              "\n",
              "      for await (const message of channel.messages) {\n",
              "        // Send a message to notify the kernel that we're ready.\n",
              "        channel.send({})\n",
              "        if (message.buffers) {\n",
              "          for (const buffer of message.buffers) {\n",
              "            buffers.push(buffer);\n",
              "            downloaded += buffer.byteLength;\n",
              "            progress.value = downloaded;\n",
              "          }\n",
              "        }\n",
              "      }\n",
              "      const blob = new Blob(buffers, {type: 'application/binary'});\n",
              "      const a = document.createElement('a');\n",
              "      a.href = window.URL.createObjectURL(blob);\n",
              "      a.download = filename;\n",
              "      div.appendChild(a);\n",
              "      a.click();\n",
              "      div.remove();\n",
              "    }\n",
              "  "
            ],
            "text/plain": [
              "<IPython.core.display.Javascript object>"
            ]
          },
          "metadata": {
            "tags": []
          }
        },
        {
          "output_type": "display_data",
          "data": {
            "application/javascript": [
              "download(\"download_a99d3af8-8920-4ddd-8e86-3872ec13cbb3\", \"SNS_covid_prediction_21_dia.h5\", 424912)"
            ],
            "text/plain": [
              "<IPython.core.display.Javascript object>"
            ]
          },
          "metadata": {
            "tags": []
          }
        },
        {
          "output_type": "display_data",
          "data": {
            "application/javascript": [
              "\n",
              "    async function download(id, filename, size) {\n",
              "      if (!google.colab.kernel.accessAllowed) {\n",
              "        return;\n",
              "      }\n",
              "      const div = document.createElement('div');\n",
              "      const label = document.createElement('label');\n",
              "      label.textContent = `Downloading \"${filename}\": `;\n",
              "      div.appendChild(label);\n",
              "      const progress = document.createElement('progress');\n",
              "      progress.max = size;\n",
              "      div.appendChild(progress);\n",
              "      document.body.appendChild(div);\n",
              "\n",
              "      const buffers = [];\n",
              "      let downloaded = 0;\n",
              "\n",
              "      const channel = await google.colab.kernel.comms.open(id);\n",
              "      // Send a message to notify the kernel that we're ready.\n",
              "      channel.send({})\n",
              "\n",
              "      for await (const message of channel.messages) {\n",
              "        // Send a message to notify the kernel that we're ready.\n",
              "        channel.send({})\n",
              "        if (message.buffers) {\n",
              "          for (const buffer of message.buffers) {\n",
              "            buffers.push(buffer);\n",
              "            downloaded += buffer.byteLength;\n",
              "            progress.value = downloaded;\n",
              "          }\n",
              "        }\n",
              "      }\n",
              "      const blob = new Blob(buffers, {type: 'application/binary'});\n",
              "      const a = document.createElement('a');\n",
              "      a.href = window.URL.createObjectURL(blob);\n",
              "      a.download = filename;\n",
              "      div.appendChild(a);\n",
              "      a.click();\n",
              "      div.remove();\n",
              "    }\n",
              "  "
            ],
            "text/plain": [
              "<IPython.core.display.Javascript object>"
            ]
          },
          "metadata": {
            "tags": []
          }
        },
        {
          "output_type": "display_data",
          "data": {
            "application/javascript": [
              "download(\"download_13556abc-1150-434f-9665-feaea19bbf7e\", \"SNS_covid_prediction_44_dia.h5\", 424912)"
            ],
            "text/plain": [
              "<IPython.core.display.Javascript object>"
            ]
          },
          "metadata": {
            "tags": []
          }
        },
        {
          "output_type": "display_data",
          "data": {
            "application/javascript": [
              "\n",
              "    async function download(id, filename, size) {\n",
              "      if (!google.colab.kernel.accessAllowed) {\n",
              "        return;\n",
              "      }\n",
              "      const div = document.createElement('div');\n",
              "      const label = document.createElement('label');\n",
              "      label.textContent = `Downloading \"${filename}\": `;\n",
              "      div.appendChild(label);\n",
              "      const progress = document.createElement('progress');\n",
              "      progress.max = size;\n",
              "      div.appendChild(progress);\n",
              "      document.body.appendChild(div);\n",
              "\n",
              "      const buffers = [];\n",
              "      let downloaded = 0;\n",
              "\n",
              "      const channel = await google.colab.kernel.comms.open(id);\n",
              "      // Send a message to notify the kernel that we're ready.\n",
              "      channel.send({})\n",
              "\n",
              "      for await (const message of channel.messages) {\n",
              "        // Send a message to notify the kernel that we're ready.\n",
              "        channel.send({})\n",
              "        if (message.buffers) {\n",
              "          for (const buffer of message.buffers) {\n",
              "            buffers.push(buffer);\n",
              "            downloaded += buffer.byteLength;\n",
              "            progress.value = downloaded;\n",
              "          }\n",
              "        }\n",
              "      }\n",
              "      const blob = new Blob(buffers, {type: 'application/binary'});\n",
              "      const a = document.createElement('a');\n",
              "      a.href = window.URL.createObjectURL(blob);\n",
              "      a.download = filename;\n",
              "      div.appendChild(a);\n",
              "      a.click();\n",
              "      div.remove();\n",
              "    }\n",
              "  "
            ],
            "text/plain": [
              "<IPython.core.display.Javascript object>"
            ]
          },
          "metadata": {
            "tags": []
          }
        },
        {
          "output_type": "display_data",
          "data": {
            "application/javascript": [
              "download(\"download_f3030cd7-41f4-409d-b6bd-0a529126e102\", \"SNS_covid_prediction_15_dia.h5\", 424912)"
            ],
            "text/plain": [
              "<IPython.core.display.Javascript object>"
            ]
          },
          "metadata": {
            "tags": []
          }
        },
        {
          "output_type": "display_data",
          "data": {
            "application/javascript": [
              "\n",
              "    async function download(id, filename, size) {\n",
              "      if (!google.colab.kernel.accessAllowed) {\n",
              "        return;\n",
              "      }\n",
              "      const div = document.createElement('div');\n",
              "      const label = document.createElement('label');\n",
              "      label.textContent = `Downloading \"${filename}\": `;\n",
              "      div.appendChild(label);\n",
              "      const progress = document.createElement('progress');\n",
              "      progress.max = size;\n",
              "      div.appendChild(progress);\n",
              "      document.body.appendChild(div);\n",
              "\n",
              "      const buffers = [];\n",
              "      let downloaded = 0;\n",
              "\n",
              "      const channel = await google.colab.kernel.comms.open(id);\n",
              "      // Send a message to notify the kernel that we're ready.\n",
              "      channel.send({})\n",
              "\n",
              "      for await (const message of channel.messages) {\n",
              "        // Send a message to notify the kernel that we're ready.\n",
              "        channel.send({})\n",
              "        if (message.buffers) {\n",
              "          for (const buffer of message.buffers) {\n",
              "            buffers.push(buffer);\n",
              "            downloaded += buffer.byteLength;\n",
              "            progress.value = downloaded;\n",
              "          }\n",
              "        }\n",
              "      }\n",
              "      const blob = new Blob(buffers, {type: 'application/binary'});\n",
              "      const a = document.createElement('a');\n",
              "      a.href = window.URL.createObjectURL(blob);\n",
              "      a.download = filename;\n",
              "      div.appendChild(a);\n",
              "      a.click();\n",
              "      div.remove();\n",
              "    }\n",
              "  "
            ],
            "text/plain": [
              "<IPython.core.display.Javascript object>"
            ]
          },
          "metadata": {
            "tags": []
          }
        },
        {
          "output_type": "display_data",
          "data": {
            "application/javascript": [
              "download(\"download_d5eba8c1-968e-4e1d-bb76-f9c433271268\", \"SNS_covid_prediction_28_dia.h5\", 424912)"
            ],
            "text/plain": [
              "<IPython.core.display.Javascript object>"
            ]
          },
          "metadata": {
            "tags": []
          }
        },
        {
          "output_type": "display_data",
          "data": {
            "application/javascript": [
              "\n",
              "    async function download(id, filename, size) {\n",
              "      if (!google.colab.kernel.accessAllowed) {\n",
              "        return;\n",
              "      }\n",
              "      const div = document.createElement('div');\n",
              "      const label = document.createElement('label');\n",
              "      label.textContent = `Downloading \"${filename}\": `;\n",
              "      div.appendChild(label);\n",
              "      const progress = document.createElement('progress');\n",
              "      progress.max = size;\n",
              "      div.appendChild(progress);\n",
              "      document.body.appendChild(div);\n",
              "\n",
              "      const buffers = [];\n",
              "      let downloaded = 0;\n",
              "\n",
              "      const channel = await google.colab.kernel.comms.open(id);\n",
              "      // Send a message to notify the kernel that we're ready.\n",
              "      channel.send({})\n",
              "\n",
              "      for await (const message of channel.messages) {\n",
              "        // Send a message to notify the kernel that we're ready.\n",
              "        channel.send({})\n",
              "        if (message.buffers) {\n",
              "          for (const buffer of message.buffers) {\n",
              "            buffers.push(buffer);\n",
              "            downloaded += buffer.byteLength;\n",
              "            progress.value = downloaded;\n",
              "          }\n",
              "        }\n",
              "      }\n",
              "      const blob = new Blob(buffers, {type: 'application/binary'});\n",
              "      const a = document.createElement('a');\n",
              "      a.href = window.URL.createObjectURL(blob);\n",
              "      a.download = filename;\n",
              "      div.appendChild(a);\n",
              "      a.click();\n",
              "      div.remove();\n",
              "    }\n",
              "  "
            ],
            "text/plain": [
              "<IPython.core.display.Javascript object>"
            ]
          },
          "metadata": {
            "tags": []
          }
        },
        {
          "output_type": "display_data",
          "data": {
            "application/javascript": [
              "download(\"download_3c2da4c2-280b-490e-b4f6-fc15f058421e\", \"SNS_covid_prediction_56_dia.h5\", 424912)"
            ],
            "text/plain": [
              "<IPython.core.display.Javascript object>"
            ]
          },
          "metadata": {
            "tags": []
          }
        },
        {
          "output_type": "display_data",
          "data": {
            "application/javascript": [
              "\n",
              "    async function download(id, filename, size) {\n",
              "      if (!google.colab.kernel.accessAllowed) {\n",
              "        return;\n",
              "      }\n",
              "      const div = document.createElement('div');\n",
              "      const label = document.createElement('label');\n",
              "      label.textContent = `Downloading \"${filename}\": `;\n",
              "      div.appendChild(label);\n",
              "      const progress = document.createElement('progress');\n",
              "      progress.max = size;\n",
              "      div.appendChild(progress);\n",
              "      document.body.appendChild(div);\n",
              "\n",
              "      const buffers = [];\n",
              "      let downloaded = 0;\n",
              "\n",
              "      const channel = await google.colab.kernel.comms.open(id);\n",
              "      // Send a message to notify the kernel that we're ready.\n",
              "      channel.send({})\n",
              "\n",
              "      for await (const message of channel.messages) {\n",
              "        // Send a message to notify the kernel that we're ready.\n",
              "        channel.send({})\n",
              "        if (message.buffers) {\n",
              "          for (const buffer of message.buffers) {\n",
              "            buffers.push(buffer);\n",
              "            downloaded += buffer.byteLength;\n",
              "            progress.value = downloaded;\n",
              "          }\n",
              "        }\n",
              "      }\n",
              "      const blob = new Blob(buffers, {type: 'application/binary'});\n",
              "      const a = document.createElement('a');\n",
              "      a.href = window.URL.createObjectURL(blob);\n",
              "      a.download = filename;\n",
              "      div.appendChild(a);\n",
              "      a.click();\n",
              "      div.remove();\n",
              "    }\n",
              "  "
            ],
            "text/plain": [
              "<IPython.core.display.Javascript object>"
            ]
          },
          "metadata": {
            "tags": []
          }
        },
        {
          "output_type": "display_data",
          "data": {
            "application/javascript": [
              "download(\"download_b87b2fb2-1f2b-44cd-be81-18163f5b66b1\", \"SNS_covid_prediction_24_dia.h5\", 424912)"
            ],
            "text/plain": [
              "<IPython.core.display.Javascript object>"
            ]
          },
          "metadata": {
            "tags": []
          }
        },
        {
          "output_type": "display_data",
          "data": {
            "application/javascript": [
              "\n",
              "    async function download(id, filename, size) {\n",
              "      if (!google.colab.kernel.accessAllowed) {\n",
              "        return;\n",
              "      }\n",
              "      const div = document.createElement('div');\n",
              "      const label = document.createElement('label');\n",
              "      label.textContent = `Downloading \"${filename}\": `;\n",
              "      div.appendChild(label);\n",
              "      const progress = document.createElement('progress');\n",
              "      progress.max = size;\n",
              "      div.appendChild(progress);\n",
              "      document.body.appendChild(div);\n",
              "\n",
              "      const buffers = [];\n",
              "      let downloaded = 0;\n",
              "\n",
              "      const channel = await google.colab.kernel.comms.open(id);\n",
              "      // Send a message to notify the kernel that we're ready.\n",
              "      channel.send({})\n",
              "\n",
              "      for await (const message of channel.messages) {\n",
              "        // Send a message to notify the kernel that we're ready.\n",
              "        channel.send({})\n",
              "        if (message.buffers) {\n",
              "          for (const buffer of message.buffers) {\n",
              "            buffers.push(buffer);\n",
              "            downloaded += buffer.byteLength;\n",
              "            progress.value = downloaded;\n",
              "          }\n",
              "        }\n",
              "      }\n",
              "      const blob = new Blob(buffers, {type: 'application/binary'});\n",
              "      const a = document.createElement('a');\n",
              "      a.href = window.URL.createObjectURL(blob);\n",
              "      a.download = filename;\n",
              "      div.appendChild(a);\n",
              "      a.click();\n",
              "      div.remove();\n",
              "    }\n",
              "  "
            ],
            "text/plain": [
              "<IPython.core.display.Javascript object>"
            ]
          },
          "metadata": {
            "tags": []
          }
        },
        {
          "output_type": "display_data",
          "data": {
            "application/javascript": [
              "download(\"download_377d944c-af89-4f60-a89e-3d76a9dfce39\", \"SNS_covid_prediction_16_dia.h5\", 424912)"
            ],
            "text/plain": [
              "<IPython.core.display.Javascript object>"
            ]
          },
          "metadata": {
            "tags": []
          }
        },
        {
          "output_type": "display_data",
          "data": {
            "application/javascript": [
              "\n",
              "    async function download(id, filename, size) {\n",
              "      if (!google.colab.kernel.accessAllowed) {\n",
              "        return;\n",
              "      }\n",
              "      const div = document.createElement('div');\n",
              "      const label = document.createElement('label');\n",
              "      label.textContent = `Downloading \"${filename}\": `;\n",
              "      div.appendChild(label);\n",
              "      const progress = document.createElement('progress');\n",
              "      progress.max = size;\n",
              "      div.appendChild(progress);\n",
              "      document.body.appendChild(div);\n",
              "\n",
              "      const buffers = [];\n",
              "      let downloaded = 0;\n",
              "\n",
              "      const channel = await google.colab.kernel.comms.open(id);\n",
              "      // Send a message to notify the kernel that we're ready.\n",
              "      channel.send({})\n",
              "\n",
              "      for await (const message of channel.messages) {\n",
              "        // Send a message to notify the kernel that we're ready.\n",
              "        channel.send({})\n",
              "        if (message.buffers) {\n",
              "          for (const buffer of message.buffers) {\n",
              "            buffers.push(buffer);\n",
              "            downloaded += buffer.byteLength;\n",
              "            progress.value = downloaded;\n",
              "          }\n",
              "        }\n",
              "      }\n",
              "      const blob = new Blob(buffers, {type: 'application/binary'});\n",
              "      const a = document.createElement('a');\n",
              "      a.href = window.URL.createObjectURL(blob);\n",
              "      a.download = filename;\n",
              "      div.appendChild(a);\n",
              "      a.click();\n",
              "      div.remove();\n",
              "    }\n",
              "  "
            ],
            "text/plain": [
              "<IPython.core.display.Javascript object>"
            ]
          },
          "metadata": {
            "tags": []
          }
        },
        {
          "output_type": "display_data",
          "data": {
            "application/javascript": [
              "download(\"download_2712f74c-d10f-498d-ade1-3450819a1eb3\", \"SNS_covid_prediction_58_dia.h5\", 424912)"
            ],
            "text/plain": [
              "<IPython.core.display.Javascript object>"
            ]
          },
          "metadata": {
            "tags": []
          }
        },
        {
          "output_type": "display_data",
          "data": {
            "application/javascript": [
              "\n",
              "    async function download(id, filename, size) {\n",
              "      if (!google.colab.kernel.accessAllowed) {\n",
              "        return;\n",
              "      }\n",
              "      const div = document.createElement('div');\n",
              "      const label = document.createElement('label');\n",
              "      label.textContent = `Downloading \"${filename}\": `;\n",
              "      div.appendChild(label);\n",
              "      const progress = document.createElement('progress');\n",
              "      progress.max = size;\n",
              "      div.appendChild(progress);\n",
              "      document.body.appendChild(div);\n",
              "\n",
              "      const buffers = [];\n",
              "      let downloaded = 0;\n",
              "\n",
              "      const channel = await google.colab.kernel.comms.open(id);\n",
              "      // Send a message to notify the kernel that we're ready.\n",
              "      channel.send({})\n",
              "\n",
              "      for await (const message of channel.messages) {\n",
              "        // Send a message to notify the kernel that we're ready.\n",
              "        channel.send({})\n",
              "        if (message.buffers) {\n",
              "          for (const buffer of message.buffers) {\n",
              "            buffers.push(buffer);\n",
              "            downloaded += buffer.byteLength;\n",
              "            progress.value = downloaded;\n",
              "          }\n",
              "        }\n",
              "      }\n",
              "      const blob = new Blob(buffers, {type: 'application/binary'});\n",
              "      const a = document.createElement('a');\n",
              "      a.href = window.URL.createObjectURL(blob);\n",
              "      a.download = filename;\n",
              "      div.appendChild(a);\n",
              "      a.click();\n",
              "      div.remove();\n",
              "    }\n",
              "  "
            ],
            "text/plain": [
              "<IPython.core.display.Javascript object>"
            ]
          },
          "metadata": {
            "tags": []
          }
        },
        {
          "output_type": "display_data",
          "data": {
            "application/javascript": [
              "download(\"download_6b1f2e6b-0502-41ef-a0c1-49730c23ed19\", \"SNS_covid_prediction_39_dia.h5\", 424912)"
            ],
            "text/plain": [
              "<IPython.core.display.Javascript object>"
            ]
          },
          "metadata": {
            "tags": []
          }
        },
        {
          "output_type": "display_data",
          "data": {
            "application/javascript": [
              "\n",
              "    async function download(id, filename, size) {\n",
              "      if (!google.colab.kernel.accessAllowed) {\n",
              "        return;\n",
              "      }\n",
              "      const div = document.createElement('div');\n",
              "      const label = document.createElement('label');\n",
              "      label.textContent = `Downloading \"${filename}\": `;\n",
              "      div.appendChild(label);\n",
              "      const progress = document.createElement('progress');\n",
              "      progress.max = size;\n",
              "      div.appendChild(progress);\n",
              "      document.body.appendChild(div);\n",
              "\n",
              "      const buffers = [];\n",
              "      let downloaded = 0;\n",
              "\n",
              "      const channel = await google.colab.kernel.comms.open(id);\n",
              "      // Send a message to notify the kernel that we're ready.\n",
              "      channel.send({})\n",
              "\n",
              "      for await (const message of channel.messages) {\n",
              "        // Send a message to notify the kernel that we're ready.\n",
              "        channel.send({})\n",
              "        if (message.buffers) {\n",
              "          for (const buffer of message.buffers) {\n",
              "            buffers.push(buffer);\n",
              "            downloaded += buffer.byteLength;\n",
              "            progress.value = downloaded;\n",
              "          }\n",
              "        }\n",
              "      }\n",
              "      const blob = new Blob(buffers, {type: 'application/binary'});\n",
              "      const a = document.createElement('a');\n",
              "      a.href = window.URL.createObjectURL(blob);\n",
              "      a.download = filename;\n",
              "      div.appendChild(a);\n",
              "      a.click();\n",
              "      div.remove();\n",
              "    }\n",
              "  "
            ],
            "text/plain": [
              "<IPython.core.display.Javascript object>"
            ]
          },
          "metadata": {
            "tags": []
          }
        },
        {
          "output_type": "display_data",
          "data": {
            "application/javascript": [
              "download(\"download_50ef487f-6b85-421f-9c66-9f517d539734\", \"SNS_covid_prediction_45_dia.h5\", 424912)"
            ],
            "text/plain": [
              "<IPython.core.display.Javascript object>"
            ]
          },
          "metadata": {
            "tags": []
          }
        },
        {
          "output_type": "display_data",
          "data": {
            "application/javascript": [
              "\n",
              "    async function download(id, filename, size) {\n",
              "      if (!google.colab.kernel.accessAllowed) {\n",
              "        return;\n",
              "      }\n",
              "      const div = document.createElement('div');\n",
              "      const label = document.createElement('label');\n",
              "      label.textContent = `Downloading \"${filename}\": `;\n",
              "      div.appendChild(label);\n",
              "      const progress = document.createElement('progress');\n",
              "      progress.max = size;\n",
              "      div.appendChild(progress);\n",
              "      document.body.appendChild(div);\n",
              "\n",
              "      const buffers = [];\n",
              "      let downloaded = 0;\n",
              "\n",
              "      const channel = await google.colab.kernel.comms.open(id);\n",
              "      // Send a message to notify the kernel that we're ready.\n",
              "      channel.send({})\n",
              "\n",
              "      for await (const message of channel.messages) {\n",
              "        // Send a message to notify the kernel that we're ready.\n",
              "        channel.send({})\n",
              "        if (message.buffers) {\n",
              "          for (const buffer of message.buffers) {\n",
              "            buffers.push(buffer);\n",
              "            downloaded += buffer.byteLength;\n",
              "            progress.value = downloaded;\n",
              "          }\n",
              "        }\n",
              "      }\n",
              "      const blob = new Blob(buffers, {type: 'application/binary'});\n",
              "      const a = document.createElement('a');\n",
              "      a.href = window.URL.createObjectURL(blob);\n",
              "      a.download = filename;\n",
              "      div.appendChild(a);\n",
              "      a.click();\n",
              "      div.remove();\n",
              "    }\n",
              "  "
            ],
            "text/plain": [
              "<IPython.core.display.Javascript object>"
            ]
          },
          "metadata": {
            "tags": []
          }
        },
        {
          "output_type": "display_data",
          "data": {
            "application/javascript": [
              "download(\"download_e1290932-f390-4d1d-a46b-22c18d7ddea2\", \"SNS_covid_prediction_1_dia.h5\", 424912)"
            ],
            "text/plain": [
              "<IPython.core.display.Javascript object>"
            ]
          },
          "metadata": {
            "tags": []
          }
        },
        {
          "output_type": "display_data",
          "data": {
            "application/javascript": [
              "\n",
              "    async function download(id, filename, size) {\n",
              "      if (!google.colab.kernel.accessAllowed) {\n",
              "        return;\n",
              "      }\n",
              "      const div = document.createElement('div');\n",
              "      const label = document.createElement('label');\n",
              "      label.textContent = `Downloading \"${filename}\": `;\n",
              "      div.appendChild(label);\n",
              "      const progress = document.createElement('progress');\n",
              "      progress.max = size;\n",
              "      div.appendChild(progress);\n",
              "      document.body.appendChild(div);\n",
              "\n",
              "      const buffers = [];\n",
              "      let downloaded = 0;\n",
              "\n",
              "      const channel = await google.colab.kernel.comms.open(id);\n",
              "      // Send a message to notify the kernel that we're ready.\n",
              "      channel.send({})\n",
              "\n",
              "      for await (const message of channel.messages) {\n",
              "        // Send a message to notify the kernel that we're ready.\n",
              "        channel.send({})\n",
              "        if (message.buffers) {\n",
              "          for (const buffer of message.buffers) {\n",
              "            buffers.push(buffer);\n",
              "            downloaded += buffer.byteLength;\n",
              "            progress.value = downloaded;\n",
              "          }\n",
              "        }\n",
              "      }\n",
              "      const blob = new Blob(buffers, {type: 'application/binary'});\n",
              "      const a = document.createElement('a');\n",
              "      a.href = window.URL.createObjectURL(blob);\n",
              "      a.download = filename;\n",
              "      div.appendChild(a);\n",
              "      a.click();\n",
              "      div.remove();\n",
              "    }\n",
              "  "
            ],
            "text/plain": [
              "<IPython.core.display.Javascript object>"
            ]
          },
          "metadata": {
            "tags": []
          }
        },
        {
          "output_type": "display_data",
          "data": {
            "application/javascript": [
              "download(\"download_595bdd02-5f25-4e57-bdd1-30e9535f0b53\", \"SNS_covid_prediction_18_dia.h5\", 424912)"
            ],
            "text/plain": [
              "<IPython.core.display.Javascript object>"
            ]
          },
          "metadata": {
            "tags": []
          }
        },
        {
          "output_type": "display_data",
          "data": {
            "application/javascript": [
              "\n",
              "    async function download(id, filename, size) {\n",
              "      if (!google.colab.kernel.accessAllowed) {\n",
              "        return;\n",
              "      }\n",
              "      const div = document.createElement('div');\n",
              "      const label = document.createElement('label');\n",
              "      label.textContent = `Downloading \"${filename}\": `;\n",
              "      div.appendChild(label);\n",
              "      const progress = document.createElement('progress');\n",
              "      progress.max = size;\n",
              "      div.appendChild(progress);\n",
              "      document.body.appendChild(div);\n",
              "\n",
              "      const buffers = [];\n",
              "      let downloaded = 0;\n",
              "\n",
              "      const channel = await google.colab.kernel.comms.open(id);\n",
              "      // Send a message to notify the kernel that we're ready.\n",
              "      channel.send({})\n",
              "\n",
              "      for await (const message of channel.messages) {\n",
              "        // Send a message to notify the kernel that we're ready.\n",
              "        channel.send({})\n",
              "        if (message.buffers) {\n",
              "          for (const buffer of message.buffers) {\n",
              "            buffers.push(buffer);\n",
              "            downloaded += buffer.byteLength;\n",
              "            progress.value = downloaded;\n",
              "          }\n",
              "        }\n",
              "      }\n",
              "      const blob = new Blob(buffers, {type: 'application/binary'});\n",
              "      const a = document.createElement('a');\n",
              "      a.href = window.URL.createObjectURL(blob);\n",
              "      a.download = filename;\n",
              "      div.appendChild(a);\n",
              "      a.click();\n",
              "      div.remove();\n",
              "    }\n",
              "  "
            ],
            "text/plain": [
              "<IPython.core.display.Javascript object>"
            ]
          },
          "metadata": {
            "tags": []
          }
        },
        {
          "output_type": "display_data",
          "data": {
            "application/javascript": [
              "download(\"download_c1d7b9f5-e7e1-4cf6-9077-6d130e3ed2be\", \"SNS_covid_prediction_40_dia.h5\", 424912)"
            ],
            "text/plain": [
              "<IPython.core.display.Javascript object>"
            ]
          },
          "metadata": {
            "tags": []
          }
        },
        {
          "output_type": "display_data",
          "data": {
            "application/javascript": [
              "\n",
              "    async function download(id, filename, size) {\n",
              "      if (!google.colab.kernel.accessAllowed) {\n",
              "        return;\n",
              "      }\n",
              "      const div = document.createElement('div');\n",
              "      const label = document.createElement('label');\n",
              "      label.textContent = `Downloading \"${filename}\": `;\n",
              "      div.appendChild(label);\n",
              "      const progress = document.createElement('progress');\n",
              "      progress.max = size;\n",
              "      div.appendChild(progress);\n",
              "      document.body.appendChild(div);\n",
              "\n",
              "      const buffers = [];\n",
              "      let downloaded = 0;\n",
              "\n",
              "      const channel = await google.colab.kernel.comms.open(id);\n",
              "      // Send a message to notify the kernel that we're ready.\n",
              "      channel.send({})\n",
              "\n",
              "      for await (const message of channel.messages) {\n",
              "        // Send a message to notify the kernel that we're ready.\n",
              "        channel.send({})\n",
              "        if (message.buffers) {\n",
              "          for (const buffer of message.buffers) {\n",
              "            buffers.push(buffer);\n",
              "            downloaded += buffer.byteLength;\n",
              "            progress.value = downloaded;\n",
              "          }\n",
              "        }\n",
              "      }\n",
              "      const blob = new Blob(buffers, {type: 'application/binary'});\n",
              "      const a = document.createElement('a');\n",
              "      a.href = window.URL.createObjectURL(blob);\n",
              "      a.download = filename;\n",
              "      div.appendChild(a);\n",
              "      a.click();\n",
              "      div.remove();\n",
              "    }\n",
              "  "
            ],
            "text/plain": [
              "<IPython.core.display.Javascript object>"
            ]
          },
          "metadata": {
            "tags": []
          }
        },
        {
          "output_type": "display_data",
          "data": {
            "application/javascript": [
              "download(\"download_6fc92d37-2bb2-4a9d-8971-e0501e952a30\", \"SNS_covid_prediction_36_dia.h5\", 424912)"
            ],
            "text/plain": [
              "<IPython.core.display.Javascript object>"
            ]
          },
          "metadata": {
            "tags": []
          }
        },
        {
          "output_type": "display_data",
          "data": {
            "application/javascript": [
              "\n",
              "    async function download(id, filename, size) {\n",
              "      if (!google.colab.kernel.accessAllowed) {\n",
              "        return;\n",
              "      }\n",
              "      const div = document.createElement('div');\n",
              "      const label = document.createElement('label');\n",
              "      label.textContent = `Downloading \"${filename}\": `;\n",
              "      div.appendChild(label);\n",
              "      const progress = document.createElement('progress');\n",
              "      progress.max = size;\n",
              "      div.appendChild(progress);\n",
              "      document.body.appendChild(div);\n",
              "\n",
              "      const buffers = [];\n",
              "      let downloaded = 0;\n",
              "\n",
              "      const channel = await google.colab.kernel.comms.open(id);\n",
              "      // Send a message to notify the kernel that we're ready.\n",
              "      channel.send({})\n",
              "\n",
              "      for await (const message of channel.messages) {\n",
              "        // Send a message to notify the kernel that we're ready.\n",
              "        channel.send({})\n",
              "        if (message.buffers) {\n",
              "          for (const buffer of message.buffers) {\n",
              "            buffers.push(buffer);\n",
              "            downloaded += buffer.byteLength;\n",
              "            progress.value = downloaded;\n",
              "          }\n",
              "        }\n",
              "      }\n",
              "      const blob = new Blob(buffers, {type: 'application/binary'});\n",
              "      const a = document.createElement('a');\n",
              "      a.href = window.URL.createObjectURL(blob);\n",
              "      a.download = filename;\n",
              "      div.appendChild(a);\n",
              "      a.click();\n",
              "      div.remove();\n",
              "    }\n",
              "  "
            ],
            "text/plain": [
              "<IPython.core.display.Javascript object>"
            ]
          },
          "metadata": {
            "tags": []
          }
        },
        {
          "output_type": "display_data",
          "data": {
            "application/javascript": [
              "download(\"download_af9f06fc-c33b-4cdd-b95f-a6b7d2892957\", \"SNS_covid_prediction_42_dia.h5\", 424912)"
            ],
            "text/plain": [
              "<IPython.core.display.Javascript object>"
            ]
          },
          "metadata": {
            "tags": []
          }
        },
        {
          "output_type": "display_data",
          "data": {
            "application/javascript": [
              "\n",
              "    async function download(id, filename, size) {\n",
              "      if (!google.colab.kernel.accessAllowed) {\n",
              "        return;\n",
              "      }\n",
              "      const div = document.createElement('div');\n",
              "      const label = document.createElement('label');\n",
              "      label.textContent = `Downloading \"${filename}\": `;\n",
              "      div.appendChild(label);\n",
              "      const progress = document.createElement('progress');\n",
              "      progress.max = size;\n",
              "      div.appendChild(progress);\n",
              "      document.body.appendChild(div);\n",
              "\n",
              "      const buffers = [];\n",
              "      let downloaded = 0;\n",
              "\n",
              "      const channel = await google.colab.kernel.comms.open(id);\n",
              "      // Send a message to notify the kernel that we're ready.\n",
              "      channel.send({})\n",
              "\n",
              "      for await (const message of channel.messages) {\n",
              "        // Send a message to notify the kernel that we're ready.\n",
              "        channel.send({})\n",
              "        if (message.buffers) {\n",
              "          for (const buffer of message.buffers) {\n",
              "            buffers.push(buffer);\n",
              "            downloaded += buffer.byteLength;\n",
              "            progress.value = downloaded;\n",
              "          }\n",
              "        }\n",
              "      }\n",
              "      const blob = new Blob(buffers, {type: 'application/binary'});\n",
              "      const a = document.createElement('a');\n",
              "      a.href = window.URL.createObjectURL(blob);\n",
              "      a.download = filename;\n",
              "      div.appendChild(a);\n",
              "      a.click();\n",
              "      div.remove();\n",
              "    }\n",
              "  "
            ],
            "text/plain": [
              "<IPython.core.display.Javascript object>"
            ]
          },
          "metadata": {
            "tags": []
          }
        },
        {
          "output_type": "display_data",
          "data": {
            "application/javascript": [
              "download(\"download_8000680c-0049-485d-b80f-b3651a0388ca\", \"SNS_covid_prediction_27_dia.h5\", 424912)"
            ],
            "text/plain": [
              "<IPython.core.display.Javascript object>"
            ]
          },
          "metadata": {
            "tags": []
          }
        },
        {
          "output_type": "display_data",
          "data": {
            "application/javascript": [
              "\n",
              "    async function download(id, filename, size) {\n",
              "      if (!google.colab.kernel.accessAllowed) {\n",
              "        return;\n",
              "      }\n",
              "      const div = document.createElement('div');\n",
              "      const label = document.createElement('label');\n",
              "      label.textContent = `Downloading \"${filename}\": `;\n",
              "      div.appendChild(label);\n",
              "      const progress = document.createElement('progress');\n",
              "      progress.max = size;\n",
              "      div.appendChild(progress);\n",
              "      document.body.appendChild(div);\n",
              "\n",
              "      const buffers = [];\n",
              "      let downloaded = 0;\n",
              "\n",
              "      const channel = await google.colab.kernel.comms.open(id);\n",
              "      // Send a message to notify the kernel that we're ready.\n",
              "      channel.send({})\n",
              "\n",
              "      for await (const message of channel.messages) {\n",
              "        // Send a message to notify the kernel that we're ready.\n",
              "        channel.send({})\n",
              "        if (message.buffers) {\n",
              "          for (const buffer of message.buffers) {\n",
              "            buffers.push(buffer);\n",
              "            downloaded += buffer.byteLength;\n",
              "            progress.value = downloaded;\n",
              "          }\n",
              "        }\n",
              "      }\n",
              "      const blob = new Blob(buffers, {type: 'application/binary'});\n",
              "      const a = document.createElement('a');\n",
              "      a.href = window.URL.createObjectURL(blob);\n",
              "      a.download = filename;\n",
              "      div.appendChild(a);\n",
              "      a.click();\n",
              "      div.remove();\n",
              "    }\n",
              "  "
            ],
            "text/plain": [
              "<IPython.core.display.Javascript object>"
            ]
          },
          "metadata": {
            "tags": []
          }
        },
        {
          "output_type": "display_data",
          "data": {
            "application/javascript": [
              "download(\"download_0f55c97c-6005-4af7-8a95-a23357ea242d\", \"SNS_covid_prediction_38_dia.h5\", 424912)"
            ],
            "text/plain": [
              "<IPython.core.display.Javascript object>"
            ]
          },
          "metadata": {
            "tags": []
          }
        },
        {
          "output_type": "display_data",
          "data": {
            "application/javascript": [
              "\n",
              "    async function download(id, filename, size) {\n",
              "      if (!google.colab.kernel.accessAllowed) {\n",
              "        return;\n",
              "      }\n",
              "      const div = document.createElement('div');\n",
              "      const label = document.createElement('label');\n",
              "      label.textContent = `Downloading \"${filename}\": `;\n",
              "      div.appendChild(label);\n",
              "      const progress = document.createElement('progress');\n",
              "      progress.max = size;\n",
              "      div.appendChild(progress);\n",
              "      document.body.appendChild(div);\n",
              "\n",
              "      const buffers = [];\n",
              "      let downloaded = 0;\n",
              "\n",
              "      const channel = await google.colab.kernel.comms.open(id);\n",
              "      // Send a message to notify the kernel that we're ready.\n",
              "      channel.send({})\n",
              "\n",
              "      for await (const message of channel.messages) {\n",
              "        // Send a message to notify the kernel that we're ready.\n",
              "        channel.send({})\n",
              "        if (message.buffers) {\n",
              "          for (const buffer of message.buffers) {\n",
              "            buffers.push(buffer);\n",
              "            downloaded += buffer.byteLength;\n",
              "            progress.value = downloaded;\n",
              "          }\n",
              "        }\n",
              "      }\n",
              "      const blob = new Blob(buffers, {type: 'application/binary'});\n",
              "      const a = document.createElement('a');\n",
              "      a.href = window.URL.createObjectURL(blob);\n",
              "      a.download = filename;\n",
              "      div.appendChild(a);\n",
              "      a.click();\n",
              "      div.remove();\n",
              "    }\n",
              "  "
            ],
            "text/plain": [
              "<IPython.core.display.Javascript object>"
            ]
          },
          "metadata": {
            "tags": []
          }
        },
        {
          "output_type": "display_data",
          "data": {
            "application/javascript": [
              "download(\"download_4db186a4-58e8-4bd8-83be-5b4f18ff44b6\", \"SNS_covid_prediction_54_dia.h5\", 424912)"
            ],
            "text/plain": [
              "<IPython.core.display.Javascript object>"
            ]
          },
          "metadata": {
            "tags": []
          }
        }
      ]
    },
    {
      "cell_type": "markdown",
      "metadata": {
        "id": "dr427Y2HjKc4"
      },
      "source": [
        "# Data Source / Data Preprocessing\n",
        "The data used in this project are downloaded from the website “Our World in Data”.  (https://ourworldindata.org/coronavirus-testing). \n",
        "\n",
        "The following python code downloads the comma-separated values (CSV) file from the website. "
      ]
    },
    {
      "cell_type": "code",
      "metadata": {
        "id": "Sq3ATrMwmsmV"
      },
      "source": [
        "import requests\n",
        "import pandas as pd\n",
        "from zipfile import ZipFile"
      ],
      "execution_count": 2,
      "outputs": []
    },
    {
      "cell_type": "code",
      "metadata": {
        "id": "72C4diVInCRt"
      },
      "source": [
        "# Download owid-covid-data.csv\n",
        "csv_url = 'https://covid.ourworldindata.org/data/owid-covid-data.csv'\n",
        "req = requests.get(csv_url)\n",
        "url_content = req.content\n",
        "csv_file = open('owid-covid-data.csv', 'wb')\n",
        "csv_file.write(url_content)\n",
        "csv_file.close()"
      ],
      "execution_count": 3,
      "outputs": []
    },
    {
      "cell_type": "markdown",
      "metadata": {
        "id": "9sVq8vYXjzJF"
      },
      "source": [
        "Let's have a look at the data we just download. Here are the first few rows:"
      ]
    },
    {
      "cell_type": "code",
      "metadata": {
        "id": "FHX5yVbInd4C"
      },
      "source": [
        "# Load Csv file in to pandas DataFrame\n",
        "df = pd.read_csv(\"owid-covid-data.csv\", parse_dates=[\"date\"])\n",
        "df.head()"
      ],
      "execution_count": 4,
      "outputs": []
    },
    {
      "cell_type": "markdown",
      "metadata": {
        "id": "dVc_4ASUkILT"
      },
      "source": [
        " This dataset contains 59 features such as total_cases, new_cases and total_deaths (Not all the features are shown in the picture above). And it contains the data from all around the world (Many thanks to their hard work in collecting these data).\n",
        "\n",
        "However, we are only interested in the data for the United Kingdom.\n",
        "\n",
        "Let’s filter out the data for the UK only. This is done by dropping all the rows where the iso_code is not GBR. "
      ]
    },
    {
      "cell_type": "code",
      "metadata": {
        "id": "OeI3h_m0hyeg"
      },
      "source": [
        "# Filter the data for United Kingdom only\n",
        "df_uk = df.drop(df[df.iso_code != 'GBR'].index)\n",
        "df_uk.head()"
      ],
      "execution_count": 5,
      "outputs": []
    },
    {
      "cell_type": "markdown",
      "metadata": {
        "id": "Rn7TWryQmR-7"
      },
      "source": [
        " Let’s pick a starting date and ending date of the data that we are going to use.\n",
        "\n",
        "I have selected the data from March 2020 to Feb 2021, exactly a year of data. "
      ]
    },
    {
      "cell_type": "code",
      "metadata": {
        "id": "1KbseBj-m8N1"
      },
      "source": [
        "# Set a starting date and ending date of the data\n",
        "STARTING_DATE = '2020-3-1'\n",
        "ENDING_DATE = '2021-2-28'\n",
        "# Select from March to Feb 2021. Data for exactly 1 year\n",
        "df_uk = df_uk[(df_uk['date'] >= STARTING_DATE) & (df_uk['date'] <= ENDING_DATE)]"
      ],
      "execution_count": 6,
      "outputs": []
    },
    {
      "cell_type": "markdown",
      "metadata": {
        "id": "fIwzK9ppTwTG"
      },
      "source": [
        "### Additional Features\n",
        "\n",
        "I have decided to add two new features to the dataset. They are case_population_ratio and case_population_density_ratio. These two features are added because these features can represent the relationship between the number of cases to the population. These two features can be generated from existing features (total_cases, population and population_density). "
      ]
    },
    {
      "cell_type": "code",
      "metadata": {
        "id": "J8i4Rl6ldEba"
      },
      "source": [
        "# Add new features such as total_case/population\n",
        "df_uk[\"case_population_ratio\"] = df_uk[\"total_cases\"] / df_uk[\"population\"]\n",
        "df_uk[\"case_population_density_ratio\"] = df_uk[\"total_cases\"] / df_uk[\"population_density\"]"
      ],
      "execution_count": 7,
      "outputs": []
    },
    {
      "cell_type": "markdown",
      "metadata": {
        "id": "6T-OWyANpA_U"
      },
      "source": [
        "### Inspect and cleanup\n",
        "Next look at the statistics of the dataset:"
      ]
    },
    {
      "cell_type": "code",
      "metadata": {
        "id": "SsjS3TJdcuE3"
      },
      "source": [
        "df_uk.describe().transpose()"
      ],
      "execution_count": 8,
      "outputs": []
    },
    {
      "cell_type": "markdown",
      "metadata": {
        "id": "aX2VnpmZWcgd"
      },
      "source": [
        "### Missing Data and Constant Value Data\n",
        "\n",
        "#### Missing Data\n",
        "We can see that not all of the features have the count of 365 (some missing data). This is because of a few reasons.\n",
        "\n",
        "1.   Not all the data are available from the earlier stage of the pandemic\n",
        "2.   Not all the features are collected in the UK\n",
        "3.   Not all the features are updated daily\n",
        "\n",
        "For example, there is no data related to vaccination in the earlier stage of the pandemic.\n",
        "\n",
        "There are methods to compensate for missing data, for example, fill by mean, forwards/backwards filling or fill by 0. In this case, the data we have are time series data, fill by mean won’t be a good option. Also, I have decided to drop features where there are too many missing data and only apply filling to features that have only a few missing data.\n",
        "\n",
        "One thing to note is the feature handwashing_facilities, this has 0 counts. There is because the dataset is collected from the whole world, other countries might have data for handwashing_facilities, but the UK doesn’t. \n",
        "\n",
        "#### Constant Value Data\n",
        "Besides the missing data, some data are constants. For example features like population and median_age. This is because the dataset contains the data across the whole world, these data are useful when we are considering on a global scale, but not that useful when we are focusing on the United Kingdom.\n",
        "\n",
        "There are also a few features which are smoothed data or per million data, these data wouldn’t be included as these data are similar to the non-smoothed data. "
      ]
    },
    {
      "cell_type": "code",
      "metadata": {
        "id": "TocdKJQbv4lH"
      },
      "source": [
        "# Drop country dependent columns such as \"iso_code\", \"continent\", \"location\" as data is only for UK\n",
        "df_uk = df_uk.drop([\"iso_code\", \"continent\", \"location\"], axis=1)\n",
        "\n",
        "# Drop columns which are constant across the range of date\n",
        "df_uk = df_uk.drop([\"population\", \"median_age\", \"aged_65_older\", \"aged_70_older\", \"gdp_per_capita\",\n",
        "                    \"extreme_poverty\", \"cardiovasc_death_rate\", \"diabetes_prevalence\", \"female_smokers\", \"male_smokers\",\n",
        "                    \"hospital_beds_per_thousand\", \"life_expectancy\", \"human_development_index\", \"population_density\"], axis=1)\n",
        "\n",
        "# Drop columns which can't be fill with data before or after\n",
        "df_uk = df_uk.drop([\"people_vaccinated\", \"people_fully_vaccinated\", \"new_vaccinations_smoothed\", \"handwashing_facilities\",\n",
        "                    \"people_vaccinated_per_hundred\", \"people_fully_vaccinated_per_hundred\",\n",
        "                    \"new_vaccinations_smoothed_per_million\", \"weekly_icu_admissions\", \"weekly_icu_admissions_per_million\",\n",
        "                    \"weekly_hosp_admissions\", \"weekly_hosp_admissions_per_million\", \"total_vaccinations\",\"new_vaccinations\",\n",
        "                    \"total_vaccinations_per_hundred\", \"icu_patients\", \"hosp_patients\",\"new_tests\", \"total_tests\", \"positive_rate\", \n",
        "                    \"tests_units\", \"tests_per_case\"], axis=1)\n",
        "\n",
        "# Drop columns which are smoothed data or per million data.\n",
        "df_uk = df_uk.drop([\"new_cases_smoothed\", \"new_deaths_smoothed\", \"total_cases_per_million\", \"new_cases_per_million\",\n",
        "                    \"new_cases_smoothed_per_million\",\"total_deaths_per_million\",\"new_deaths_per_million\",\"new_deaths_smoothed_per_million\",\n",
        "                    \"icu_patients_per_million\", \"hosp_patients_per_million\",\"total_tests_per_thousand\", \"new_tests_per_thousand\", \n",
        "                    \"new_tests_smoothed\", \"new_tests_smoothed_per_thousand\"], axis=1)"
      ],
      "execution_count": 9,
      "outputs": []
    },
    {
      "cell_type": "markdown",
      "metadata": {
        "id": "bw6kHJuJUvTS"
      },
      "source": [
        "### Filling in missing data\n",
        "\n",
        "After dropping features that we are not interested in, we can now fill in the missing data by forwards/backwards filling or fill by 0. "
      ]
    },
    {
      "cell_type": "code",
      "metadata": {
        "id": "PhgR_TmMovuN"
      },
      "source": [
        "df_uk.head()"
      ],
      "execution_count": 10,
      "outputs": []
    },
    {
      "cell_type": "code",
      "metadata": {
        "id": "CUWA_uE4f7hA"
      },
      "source": [
        "df_uk.tail()"
      ],
      "execution_count": 11,
      "outputs": []
    },
    {
      "cell_type": "code",
      "metadata": {
        "id": "pnrQj-_In6zD"
      },
      "source": [
        "df_uk['total_deaths'] = df_uk['total_deaths'].fillna(0)\n",
        "df_uk['new_deaths'] = df_uk['new_deaths'].fillna(0)\n",
        "df_uk['reproduction_rate'] = df_uk['reproduction_rate'].fillna(method='bfill')\n",
        "df_uk['stringency_index'] = df_uk['stringency_index'].fillna(method='ffill')"
      ],
      "execution_count": 12,
      "outputs": []
    },
    {
      "cell_type": "code",
      "metadata": {
        "id": "gvPScJ8hiJOc"
      },
      "source": [
        "df_uk.describe().transpose()"
      ],
      "execution_count": 13,
      "outputs": []
    },
    {
      "cell_type": "markdown",
      "metadata": {
        "id": "aGBhWtPMbEeR"
      },
      "source": [
        "### Data Visualisation\n",
        "\n",
        "We have now preprocessed the data, let's visualise them."
      ]
    },
    {
      "cell_type": "code",
      "metadata": {
        "id": "xb-Dlc1Xi0ok"
      },
      "source": [
        "date_time = df_uk['date']\n",
        "date_time = pd.to_datetime(date_time)\n",
        "\n",
        "plot_cols_1 = [\"total_cases\", \"total_deaths\",\"new_cases\",\"new_deaths\"]\n",
        "plot_cols_2 = [\"case_population_ratio\",\"case_population_density_ratio\"]\n",
        "plot_cols_3 = [\"reproduction_rate\", \"stringency_index\"]\n",
        "plot_features = df_uk[plot_cols_1]\n",
        "plot_features.index = date_time\n",
        "_ = plot_features.plot(subplots=True)\n",
        "\n",
        "plot_features = df_uk[plot_cols_2]\n",
        "plot_features.index = date_time\n",
        "_ = plot_features.plot(subplots=True)\n",
        "\n",
        "plot_features = df_uk[plot_cols_3]\n",
        "plot_features.index = date_time\n",
        "_ = plot_features.plot(subplots=True)"
      ],
      "execution_count": 14,
      "outputs": []
    },
    {
      "cell_type": "markdown",
      "metadata": {
        "id": "LzgcLBV-Wisr"
      },
      "source": [
        "## The correlation between the features\n",
        "A heat map can be plotted to see the correaltion between the features."
      ]
    },
    {
      "cell_type": "code",
      "metadata": {
        "id": "s1SSZl8idvjz"
      },
      "source": [
        "import seaborn as sb\n",
        "import matplotlib.pyplot as plt\n",
        "C_mat = df_uk.corr()\n",
        "fig = plt.figure(figsize = (15,15))\n",
        "\n",
        "sb.heatmap(C_mat, vmax = .8, square = True)\n",
        "plt.show()"
      ],
      "execution_count": 15,
      "outputs": []
    },
    {
      "cell_type": "markdown",
      "metadata": {
        "id": "RA31dmcbHiR2"
      },
      "source": [
        "From the correlation heat map above, we see that about 6 features are highly correlated with the `total_cases`.\n"
      ]
    },
    {
      "cell_type": "markdown",
      "metadata": {
        "id": "5UHGF7fZa4G2"
      },
      "source": [
        "### Save the csv\n",
        "Let's save our processed data into a new csv."
      ]
    },
    {
      "cell_type": "code",
      "metadata": {
        "id": "xNEt6BHKoBVP"
      },
      "source": [
        "df_uk.to_csv('owid-covid-data_uk.csv', index=False)"
      ],
      "execution_count": 16,
      "outputs": []
    },
    {
      "cell_type": "markdown",
      "metadata": {
        "id": "e4ZdMk4eHvEc"
      },
      "source": [
        "# Machine learning Framework\n",
        "![Past Covid-19 Data m days.png](data:image/png;base64,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)\n",
        "\n",
        "The approach that I am using in this project is shown in the diagram above. We will read the data for the first n days and then predict for m days in advance. Then we will hop ahead by one day and read the next chunk of data for the next n days. In this project, I will take n = 7, which mean I use the data for the first 7 days and predict for the 7 + m day. Hence this is a **Single-Step** model. And this Single-Step model can be used to generate a sequence of data points in the future, this will be covered in the Prepare test dataset section. \n",
        "\n",
        "The necessary python libraries are imported here-\n",
        "\n",
        "* `numpy` is used to perform basic array operations\n",
        "* `pyplot` from `matplotlib` is used to visualize the results\n",
        "* `pandas` is used to read the dataset\n",
        "* `MinMaxScaler` from `sklearn` is used scale the data"
      ]
    },
    {
      "cell_type": "code",
      "metadata": {
        "id": "tqqSJSGLhNbj"
      },
      "source": [
        "days_train = 7\n",
        "days_in_advance = 1\n",
        "days_in_advance_shifted = days_in_advance - 1"
      ],
      "execution_count": 17,
      "outputs": []
    },
    {
      "cell_type": "code",
      "metadata": {
        "id": "CL6Cl6HtXvCe"
      },
      "source": [
        "import numpy as np\n",
        "import matplotlib.pyplot as plt\n",
        "import matplotlib.dates as mdates\n",
        "import pandas as pd\n",
        "from sklearn.preprocessing import MinMaxScaler"
      ],
      "execution_count": 18,
      "outputs": []
    },
    {
      "cell_type": "code",
      "metadata": {
        "id": "C9-3a0ShH7nI"
      },
      "source": [
        "data = pd.read_csv('owid-covid-data_uk.csv', date_parser = True)"
      ],
      "execution_count": 19,
      "outputs": []
    },
    {
      "cell_type": "markdown",
      "metadata": {
        "id": "wDxac5B_IFn2"
      },
      "source": [
        "### Split the data\n",
        "Here we are splitting the data into training and testing dataset. We are going to take data from March 2020 to December 2020 as training data. And we are going to take the data of January 2021 and February 2021 as testing data. In other words, we are using the data of January and February to see how well our predictions are. \n",
        "\n",
        "Note the data is **not** being randomly shuffled before splitting. This is for two reasons.\n",
        "\n",
        "1. It ensures that chopping the data into windows of consecutive samples is still possible.\n",
        "2. It ensures that the test results are more realistic, being evaluated on data collected after the model was trained."
      ]
    },
    {
      "cell_type": "code",
      "metadata": {
        "id": "HX2B2o0HIGxI"
      },
      "source": [
        "data_training = data[data['date']<'2021-01-01'].copy()\n",
        "data_test = data[data['date']>='2021-01-01'].copy()"
      ],
      "execution_count": 20,
      "outputs": []
    },
    {
      "cell_type": "markdown",
      "metadata": {
        "id": "0Ad0uKpr4k7V"
      },
      "source": [
        "We are dropping the column `date` from the training dataset"
      ]
    },
    {
      "cell_type": "code",
      "metadata": {
        "id": "NJrE-h9UU6Ug",
        "colab": {
          "base_uri": "https://localhost:8080/",
          "height": 206
        },
        "outputId": "411008c9-dfd9-401d-8881-07d892a99567"
      },
      "source": [
        "training_data = data_training.drop(['date'], axis = 1)\n",
        "training_data.head()"
      ],
      "execution_count": 21,
      "outputs": [
        {
          "output_type": "execute_result",
          "data": {
            "text/html": [
              "<div>\n",
              "<style scoped>\n",
              "    .dataframe tbody tr th:only-of-type {\n",
              "        vertical-align: middle;\n",
              "    }\n",
              "\n",
              "    .dataframe tbody tr th {\n",
              "        vertical-align: top;\n",
              "    }\n",
              "\n",
              "    .dataframe thead th {\n",
              "        text-align: right;\n",
              "    }\n",
              "</style>\n",
              "<table border=\"1\" class=\"dataframe\">\n",
              "  <thead>\n",
              "    <tr style=\"text-align: right;\">\n",
              "      <th></th>\n",
              "      <th>total_cases</th>\n",
              "      <th>new_cases</th>\n",
              "      <th>total_deaths</th>\n",
              "      <th>new_deaths</th>\n",
              "      <th>reproduction_rate</th>\n",
              "      <th>stringency_index</th>\n",
              "      <th>case_population_ratio</th>\n",
              "      <th>case_population_density_ratio</th>\n",
              "    </tr>\n",
              "  </thead>\n",
              "  <tbody>\n",
              "    <tr>\n",
              "      <th>0</th>\n",
              "      <td>94.0</td>\n",
              "      <td>33.0</td>\n",
              "      <td>0.0</td>\n",
              "      <td>0.0</td>\n",
              "      <td>2.71</td>\n",
              "      <td>11.11</td>\n",
              "      <td>0.000001</td>\n",
              "      <td>0.344451</td>\n",
              "    </tr>\n",
              "    <tr>\n",
              "      <th>1</th>\n",
              "      <td>134.0</td>\n",
              "      <td>40.0</td>\n",
              "      <td>0.0</td>\n",
              "      <td>0.0</td>\n",
              "      <td>2.71</td>\n",
              "      <td>11.11</td>\n",
              "      <td>0.000002</td>\n",
              "      <td>0.491026</td>\n",
              "    </tr>\n",
              "    <tr>\n",
              "      <th>2</th>\n",
              "      <td>189.0</td>\n",
              "      <td>55.0</td>\n",
              "      <td>0.0</td>\n",
              "      <td>0.0</td>\n",
              "      <td>2.71</td>\n",
              "      <td>11.11</td>\n",
              "      <td>0.000003</td>\n",
              "      <td>0.692566</td>\n",
              "    </tr>\n",
              "    <tr>\n",
              "      <th>3</th>\n",
              "      <td>246.0</td>\n",
              "      <td>57.0</td>\n",
              "      <td>0.0</td>\n",
              "      <td>0.0</td>\n",
              "      <td>2.34</td>\n",
              "      <td>11.11</td>\n",
              "      <td>0.000004</td>\n",
              "      <td>0.901436</td>\n",
              "    </tr>\n",
              "    <tr>\n",
              "      <th>4</th>\n",
              "      <td>295.0</td>\n",
              "      <td>49.0</td>\n",
              "      <td>0.0</td>\n",
              "      <td>0.0</td>\n",
              "      <td>1.96</td>\n",
              "      <td>11.11</td>\n",
              "      <td>0.000004</td>\n",
              "      <td>1.080990</td>\n",
              "    </tr>\n",
              "  </tbody>\n",
              "</table>\n",
              "</div>"
            ],
            "text/plain": [
              "   total_cases  new_cases  ...  case_population_ratio  case_population_density_ratio\n",
              "0         94.0       33.0  ...               0.000001                       0.344451\n",
              "1        134.0       40.0  ...               0.000002                       0.491026\n",
              "2        189.0       55.0  ...               0.000003                       0.692566\n",
              "3        246.0       57.0  ...               0.000004                       0.901436\n",
              "4        295.0       49.0  ...               0.000004                       1.080990\n",
              "\n",
              "[5 rows x 8 columns]"
            ]
          },
          "metadata": {
            "tags": []
          },
          "execution_count": 21
        }
      ]
    },
    {
      "cell_type": "markdown",
      "metadata": {
        "id": "e-D0eypJ4us4"
      },
      "source": [
        "### Scale the data\n",
        "The values in the training data are not in the same range. For getting all the values in between the range 0 to 1 we are going to use MinMaxScalar() to scale the data. This improves the accuracy of prediction. "
      ]
    },
    {
      "cell_type": "code",
      "metadata": {
        "id": "65oKHmUeU8hZ"
      },
      "source": [
        "scaler = MinMaxScaler()\n",
        "training_data = scaler.fit_transform(training_data)"
      ],
      "execution_count": 22,
      "outputs": []
    },
    {
      "cell_type": "markdown",
      "metadata": {
        "id": "R-lVWIjbwSpE"
      },
      "source": [
        "### Prepare train dataset"
      ]
    },
    {
      "cell_type": "markdown",
      "metadata": {
        "id": "4EATF1HI8cSZ"
      },
      "source": [
        "As mentioned above we are going to train the model on data of 7 days at a time. So the code mentioned below divides the data into chunks of 7 rows, store the first 7 days into `X_train`, and the 7 + m day into `y_train` (label). After dividing we are converting `X_train` and `y_train` into NumPy arrays.\n",
        "\n",
        "Notice that the `y_train` is storing rows of training_data[i+days_in_advance_shifted][0], which will be all the `total_cases` of the 7 + m day. This implies that we are training the model to predict only one feature, and this is a **Single-Output** model.\n",
        "\n",
        "The `if` condition ensure we don't access out of bound index for different value of m."
      ]
    },
    {
      "cell_type": "code",
      "metadata": {
        "id": "u4vE9zLEVAQT"
      },
      "source": [
        "X_train = []\n",
        "y_train = []\n",
        "\n",
        "for i in range(days_train, training_data.shape[0]):\n",
        "    if i + days_in_advance_shifted >= training_data.shape[0]:\n",
        "      break\n",
        "    X_train.append(training_data[i-days_train:i])\n",
        "    y_train.append(training_data[i+days_in_advance_shifted, 0])\n",
        "\n",
        "X_train, y_train = np.array(X_train), np.array(y_train)"
      ],
      "execution_count": 23,
      "outputs": []
    },
    {
      "cell_type": "markdown",
      "metadata": {
        "id": "basMwmA3kk5l"
      },
      "source": [
        "Also, let's take this opportunity to save the number of features as a variable, so it the code in the latter stage can be more clear."
      ]
    },
    {
      "cell_type": "code",
      "metadata": {
        "id": "UrIh2wOolp25"
      },
      "source": [
        "features_nums = len(training_data[0])"
      ],
      "execution_count": 24,
      "outputs": []
    },
    {
      "cell_type": "markdown",
      "metadata": {
        "id": "NmaiBslIk4df"
      },
      "source": [
        "### Building LSTM\n",
        "Here we are importing the necessary layers to build out neural network"
      ]
    },
    {
      "cell_type": "code",
      "metadata": {
        "id": "lQO3ZY2X0QAB",
        "colab": {
          "base_uri": "https://localhost:8080/"
        },
        "outputId": "5101bd3b-9bb9-4a26-994e-3747fa32dbda"
      },
      "source": [
        "from tensorflow.keras import Sequential\n",
        "from tensorflow.keras.layers import Dense, LSTM, Dropout\n",
        "\n",
        "model = Sequential()\n",
        "model.add(LSTM(50, activation='relu', return_sequences=True, input_shape=(X_train.shape[1], features_nums)))\n",
        "model.add(Dropout(0.2))\n",
        "model.add(LSTM(50, activation='relu'))\n",
        "model.add(Dense(units = 1))\n",
        "model.summary()"
      ],
      "execution_count": 25,
      "outputs": [
        {
          "output_type": "stream",
          "text": [
            "Model: \"sequential\"\n",
            "_________________________________________________________________\n",
            "Layer (type)                 Output Shape              Param #   \n",
            "=================================================================\n",
            "lstm (LSTM)                  (None, 7, 50)             11800     \n",
            "_________________________________________________________________\n",
            "dropout (Dropout)            (None, 7, 50)             0         \n",
            "_________________________________________________________________\n",
            "lstm_1 (LSTM)                (None, 50)                20200     \n",
            "_________________________________________________________________\n",
            "dense (Dense)                (None, 1)                 51        \n",
            "=================================================================\n",
            "Total params: 32,051\n",
            "Trainable params: 32,051\n",
            "Non-trainable params: 0\n",
            "_________________________________________________________________\n"
          ],
          "name": "stdout"
        }
      ]
    },
    {
      "cell_type": "markdown",
      "metadata": {
        "id": "dt9aoP389ZiE"
      },
      "source": [
        " *   The first layer is the LSTM layer with 50 units.\n",
        " *   We will be using ReLu activation function.\n",
        " *   `return_sequence` when set to True returns the full sequence as the output.\n",
        " *   `input_shape` is set to `(X_train.shape[1], features_nums)` which is (14,8)\n",
        " *  The value passed in dropout specifies the probability at which outputs of the layer are dropped out.\n",
        " *  The last layer is the `Dense layer` is the regular deeply connected neural network layer.\n",
        " *  As we are predicting a **single** value the `units` in the last layer is set to 1.\n",
        "\n"
      ]
    },
    {
      "cell_type": "markdown",
      "metadata": {
        "id": "JLTt3rYKpHek"
      },
      "source": [
        "## Why relu as activation function\n",
        "[Reference: ReLU — Most popular Activation Function for Deep Neural Networks](https://medium.com/@sonish.sivarajkumar/relu-most-popular-activation-function-for-deep-neural-networks-10160af37dda)\n",
        "<br/>\n",
        "![zero_relu.png](data:image/png;base64,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)\n",
        "\n",
        "Relu is linear for all positive values, and zero for all negative values.\n",
        "Which means:\n",
        "1. It’s cheap to compute as there is no complicated math. The model can therefore take less time to train or run.\n",
        "2. It converges faster. Linearity means that the slope doesn’t plateau, or “saturate,” when x gets large. It doesn’t have the vanishing gradient problem suffered by other activation functions like sigmoid or tanh.\n",
        "3. It’s sparsely activated. Since ReLU is zero for all negative inputs, it’s likely for any given unit to not activate at all."
      ]
    },
    {
      "cell_type": "markdown",
      "metadata": {
        "id": "9alMTtegqUNt"
      },
      "source": [
        "## Why mean squared error as loss function\n",
        "\n",
        "[Reference: How to Choose Loss Functions When Training Deep Learning Neural Networks](https://machinelearningmastery.com/how-to-choose-loss-functions-when-training-deep-learning-neural-networks/)\n",
        "<br/>\n",
        "Loss function used is `mean_squared_error`. This is chosen because we are solving a regression problem, and MSE is the default loss to ues for regression problems.\n",
        "\n",
        "Mathematically, it is the preferred loss function under the inference framework of maximum likelihood if the distribution of the target variable is Gaussian. It is the loss function to be evaluated first and only changed if you have a good reason.\n",
        "\n",
        "Mean squared error is calculated as the average of the squared differences between the predicted and actual values. The result is always positive regardless of the sign of the predicted and actual values and a perfect value is 0.0. The squaring means that larger mistakes result in more error than smaller mistakes, meaning that the model is punished for making larger mistakes."
      ]
    },
    {
      "cell_type": "markdown",
      "metadata": {
        "id": "W9ZVtvirqTTt"
      },
      "source": [
        "## Why Adam as optimizer\n",
        "\n",
        "[Reference: Various Optimization Algorithms For Training Neural Network](https://towardsdatascience.com/optimizers-for-training-neural-network-59450d71caf6)\n",
        "<br/>\n",
        "\n",
        "Adam (Adaptive Moment Estimation) is said to be the best optimizer.\n",
        "It has the advantages:\n",
        "\n",
        "1. The method is too fast and converges rapidly\n",
        "2. Rectifies vanishing learning rate, high variance."
      ]
    },
    {
      "cell_type": "markdown",
      "metadata": {
        "id": "8qswRwzco52z"
      },
      "source": [
        "Here we are compiling the model and fitting it to the training data. We will use 250 epochs to train the model. An epoch is an iteration over the entire data provided. batch_size is the number of samples per gradient update i.e. here the weights will be updates after 128 training examples."
      ]
    },
    {
      "cell_type": "code",
      "metadata": {
        "id": "AycB2-YjVLPR"
      },
      "source": [
        "model.compile(optimizer='adam', loss = 'mean_squared_error')\n",
        "history = model.fit(x=X_train, y=y_train, epochs=250, batch_size=128, shuffle=False)"
      ],
      "execution_count": 26,
      "outputs": []
    },
    {
      "cell_type": "code",
      "metadata": {
        "id": "1c9UyzUNO-Nx"
      },
      "source": [
        "# import tensorflow as tf\n",
        "# model = tf.keras.models.load_model(f'/content/SNS_covid_prediction_{days_in_advance}_dia.h5')"
      ],
      "execution_count": 27,
      "outputs": []
    },
    {
      "cell_type": "markdown",
      "metadata": {
        "id": "0pmFGb-Qr71u"
      },
      "source": [
        "## Visualize the loss function"
      ]
    },
    {
      "cell_type": "code",
      "metadata": {
        "id": "21mKXTMMzCEh"
      },
      "source": [
        "plt.plot(history.history['loss'], label='train')\n",
        "plt.legend()\n",
        "plt.show()"
      ],
      "execution_count": 28,
      "outputs": []
    },
    {
      "cell_type": "markdown",
      "metadata": {
        "id": "vMC78zdCsAD9"
      },
      "source": [
        "## Prepare test dataset"
      ]
    },
    {
      "cell_type": "markdown",
      "metadata": {
        "id": "xvb-UAmbDWXn"
      },
      "source": [
        "In order to predict the `total_cases` m days in advance, we need the data of previous n + m to n days.\n",
        "\n",
        "`past_days` contains the data required to predict the `total_cases` on 2021-1-1.\n",
        "Even though `past_days` contains data from `data_training`, but the model has never train with these data as they are at the **tail**, these data are not used as label in the training process.\n",
        "And we are going to append `data_test` to `past_days` and ignore the index of `data_test`. We will also drop the `date` column."
      ]
    },
    {
      "cell_type": "code",
      "metadata": {
        "colab": {
          "base_uri": "https://localhost:8080/",
          "height": 206
        },
        "id": "8EKX7wRDfBqz",
        "outputId": "1254f01b-4176-4faf-c185-e5861e145afb"
      },
      "source": [
        "past_days = data_training.tail(days_train+days_in_advance_shifted)\n",
        "df = past_days.append(data_test, ignore_index = True)\n",
        "df = df.drop(['date'], axis = 1)\n",
        "df.head()"
      ],
      "execution_count": 29,
      "outputs": [
        {
          "output_type": "execute_result",
          "data": {
            "text/html": [
              "<div>\n",
              "<style scoped>\n",
              "    .dataframe tbody tr th:only-of-type {\n",
              "        vertical-align: middle;\n",
              "    }\n",
              "\n",
              "    .dataframe tbody tr th {\n",
              "        vertical-align: top;\n",
              "    }\n",
              "\n",
              "    .dataframe thead th {\n",
              "        text-align: right;\n",
              "    }\n",
              "</style>\n",
              "<table border=\"1\" class=\"dataframe\">\n",
              "  <thead>\n",
              "    <tr style=\"text-align: right;\">\n",
              "      <th></th>\n",
              "      <th>total_cases</th>\n",
              "      <th>new_cases</th>\n",
              "      <th>total_deaths</th>\n",
              "      <th>new_deaths</th>\n",
              "      <th>reproduction_rate</th>\n",
              "      <th>stringency_index</th>\n",
              "      <th>case_population_ratio</th>\n",
              "      <th>case_population_density_ratio</th>\n",
              "    </tr>\n",
              "  </thead>\n",
              "  <tbody>\n",
              "    <tr>\n",
              "      <th>0</th>\n",
              "      <td>2227951.0</td>\n",
              "      <td>32803.0</td>\n",
              "      <td>70302.0</td>\n",
              "      <td>570.0</td>\n",
              "      <td>1.13</td>\n",
              "      <td>75.46</td>\n",
              "      <td>0.032819</td>\n",
              "      <td>8164.042976</td>\n",
              "    </tr>\n",
              "    <tr>\n",
              "      <th>1</th>\n",
              "      <td>2262739.0</td>\n",
              "      <td>34788.0</td>\n",
              "      <td>70513.0</td>\n",
              "      <td>211.0</td>\n",
              "      <td>1.12</td>\n",
              "      <td>79.63</td>\n",
              "      <td>0.033331</td>\n",
              "      <td>8291.519176</td>\n",
              "    </tr>\n",
              "    <tr>\n",
              "      <th>2</th>\n",
              "      <td>2295232.0</td>\n",
              "      <td>32493.0</td>\n",
              "      <td>70860.0</td>\n",
              "      <td>347.0</td>\n",
              "      <td>1.12</td>\n",
              "      <td>79.63</td>\n",
              "      <td>0.033810</td>\n",
              "      <td>8410.585640</td>\n",
              "    </tr>\n",
              "    <tr>\n",
              "      <th>3</th>\n",
              "      <td>2336692.0</td>\n",
              "      <td>41460.0</td>\n",
              "      <td>71217.0</td>\n",
              "      <td>357.0</td>\n",
              "      <td>1.30</td>\n",
              "      <td>79.63</td>\n",
              "      <td>0.034421</td>\n",
              "      <td>8562.510535</td>\n",
              "    </tr>\n",
              "    <tr>\n",
              "      <th>4</th>\n",
              "      <td>2389967.0</td>\n",
              "      <td>53275.0</td>\n",
              "      <td>71675.0</td>\n",
              "      <td>458.0</td>\n",
              "      <td>1.49</td>\n",
              "      <td>79.63</td>\n",
              "      <td>0.035206</td>\n",
              "      <td>8757.729994</td>\n",
              "    </tr>\n",
              "  </tbody>\n",
              "</table>\n",
              "</div>"
            ],
            "text/plain": [
              "   total_cases  new_cases  ...  case_population_ratio  case_population_density_ratio\n",
              "0    2227951.0    32803.0  ...               0.032819                    8164.042976\n",
              "1    2262739.0    34788.0  ...               0.033331                    8291.519176\n",
              "2    2295232.0    32493.0  ...               0.033810                    8410.585640\n",
              "3    2336692.0    41460.0  ...               0.034421                    8562.510535\n",
              "4    2389967.0    53275.0  ...               0.035206                    8757.729994\n",
              "\n",
              "[5 rows x 8 columns]"
            ]
          },
          "metadata": {
            "tags": []
          },
          "execution_count": 29
        }
      ]
    },
    {
      "cell_type": "markdown",
      "metadata": {
        "id": "2R1wpFOTwsRV"
      },
      "source": [
        "Similar to the train dataset, we will need to **scale** the test data. Then we divide the data into chunks of 7 rows and put them into `X_test` and `y_test` (label) similar to how we prepare the train dataset."
      ]
    },
    {
      "cell_type": "code",
      "metadata": {
        "id": "57lGZIpMfMMW"
      },
      "source": [
        "inputs = scaler.transform(df)\n",
        "\n",
        "X_test = []\n",
        "y_test = []\n",
        "\n",
        "for i in range(days_train, inputs.shape[0]):\n",
        "    if i + days_in_advance_shifted >= inputs.shape[0]:\n",
        "      break\n",
        "    X_test.append(inputs[i-days_train:i])\n",
        "    y_test.append(inputs[i+days_in_advance_shifted, 0])\n",
        "\n",
        "X_test, y_test = np.array(X_test), np.array(y_test)"
      ],
      "execution_count": 30,
      "outputs": []
    },
    {
      "cell_type": "markdown",
      "metadata": {
        "id": "xxSl0d0IxRjv"
      },
      "source": [
        "We are now going to predict the `total_cases` for X_test using `predict()`"
      ]
    },
    {
      "cell_type": "code",
      "metadata": {
        "id": "NOFH0z1RxYNR"
      },
      "source": [
        "y_pred = model.predict(X_test)"
      ],
      "execution_count": 31,
      "outputs": []
    },
    {
      "cell_type": "markdown",
      "metadata": {
        "id": "WzNr9amJDyS4"
      },
      "source": [
        "As we had scaled all the values down, now we will have to get them back to the original scale. `scaler.scale_` gives the scaling level for all features, and `scaler.scale_[0]` gives the scaling for `total_cases`. "
      ]
    },
    {
      "cell_type": "code",
      "metadata": {
        "id": "Uw70MaY0ylcr"
      },
      "source": [
        "scale = 1/scaler.scale_[0]"
      ],
      "execution_count": 32,
      "outputs": []
    },
    {
      "cell_type": "code",
      "metadata": {
        "id": "QYSzFxVTya-w"
      },
      "source": [
        "y_pred = y_pred*scale\n",
        "y_test = y_test*scale"
      ],
      "execution_count": 33,
      "outputs": []
    },
    {
      "cell_type": "markdown",
      "metadata": {
        "id": "AuQ2ZodhEGI-"
      },
      "source": [
        "We can then flatten the array for prediction and real total case to calculate the percentage difference. We will also define the accuray of m days in advance as the mean of (100-abs_diff), which is the mean accuracy for prediction from 2021-1-1 to 2021-2-28."
      ]
    },
    {
      "cell_type": "code",
      "metadata": {
        "id": "5fHpjytyytVH"
      },
      "source": [
        "pred = y_pred.flatten()\n",
        "real = y_test.flatten()"
      ],
      "execution_count": 34,
      "outputs": []
    },
    {
      "cell_type": "code",
      "metadata": {
        "id": "XeJ2wCXiBHQ7"
      },
      "source": [
        "# Percentage difference\n",
        "diffs= ((pred-real)/real)*100\n",
        "abs_diffs = 100-abs(diffs)"
      ],
      "execution_count": 35,
      "outputs": []
    },
    {
      "cell_type": "code",
      "metadata": {
        "colab": {
          "base_uri": "https://localhost:8080/"
        },
        "id": "OnSE2tVV9XgO",
        "outputId": "93893d3e-25ef-4700-8be1-d28e9fefa9d5"
      },
      "source": [
        "# Accuracy\n",
        "accuracy = abs_diffs.mean()\n",
        "accuracy"
      ],
      "execution_count": 36,
      "outputs": [
        {
          "output_type": "execute_result",
          "data": {
            "text/plain": [
              "97.81098480177718"
            ]
          },
          "metadata": {
            "tags": []
          },
          "execution_count": 36
        }
      ]
    },
    {
      "cell_type": "markdown",
      "metadata": {
        "id": "dvWkW6xNob_G"
      },
      "source": [
        "## Visulisation"
      ]
    },
    {
      "cell_type": "markdown",
      "metadata": {
        "id": "8AUJZoM2FC5w"
      },
      "source": [
        "We can now plot the result. And the code below will generate the time-axis which we are going to use in the plot."
      ]
    },
    {
      "cell_type": "code",
      "metadata": {
        "id": "HZvYDqrP6InA"
      },
      "source": [
        "train_datetime = data_training['date']\n",
        "train_datetime = pd.to_datetime(train_datetime)"
      ],
      "execution_count": 37,
      "outputs": []
    },
    {
      "cell_type": "code",
      "metadata": {
        "id": "m_d0aLx43zQO"
      },
      "source": [
        "x_datetime = data_test['date']\n",
        "x_datetime = pd.to_datetime(x_datetime)"
      ],
      "execution_count": 38,
      "outputs": []
    },
    {
      "cell_type": "code",
      "metadata": {
        "colab": {
          "base_uri": "https://localhost:8080/",
          "height": 378
        },
        "id": "L2aG8BtI6_-f",
        "outputId": "73a1c622-38b0-4e52-d25d-4aca993bd884"
      },
      "source": [
        "fig, ax = plt.subplots(figsize=(14,5))\n",
        "ax.plot(x_datetime, y_test, color = 'red', label = 'Real Covid Case Number')\n",
        "ax.plot(x_datetime, y_pred, color = 'blue', label = 'Predicted Covid Case Number')\n",
        "plt.title(f'Covid Cases Prediction from 2021-1-1, {days_in_advance} days in advance')\n",
        "plt.ylabel('Total Cases')\n",
        "plt.legend()\n",
        "plt.grid()\n",
        "plt.xticks(rotation=45)\n",
        "# Set the format of x-axis:\n",
        "ax.xaxis.set_major_formatter(mdates.DateFormatter('%d-%b-%Y'))\n",
        "plt.savefig(f\"total_case_compare_{days_in_advance}_dia.png\")\n",
        "plt.show()"
      ],
      "execution_count": 39,
      "outputs": [
        {
          "output_type": "display_data",
          "data": {
            "image/png": "[encoded data removed]",
            "text/plain": [
              "<Figure size 1008x360 with 1 Axes>"
            ]
          },
          "metadata": {
            "tags": [],
            "needs_background": "light"
          }
        }
      ]
    },
    {
      "cell_type": "code",
      "metadata": {
        "colab": {
          "base_uri": "https://localhost:8080/",
          "height": 378
        },
        "id": "fJpjTh3lB4Gx",
        "outputId": "1fe8d3d5-7caa-4a3f-f8a6-bee81436349d"
      },
      "source": [
        "fig, ax = plt.subplots(figsize=(14,5))\n",
        "ax.plot(x_datetime, diffs, color = 'red', label = 'Percentage off from real value')\n",
        "plt.title(f'Percentage Off, {days_in_advance} days in advance')\n",
        "plt.ylabel('Percentage off')\n",
        "plt.legend()\n",
        "plt.grid()\n",
        "plt.xticks(rotation=45)\n",
        "plt.xticks(rotation=45)\n",
        "# Set the format of x-axis:\n",
        "ax.xaxis.set_major_formatter(mdates.DateFormatter('%d-%b-%Y'))\n",
        "plt.savefig(f\"percentage_off_{days_in_advance}_dia.png\")\n",
        "plt.show()"
      ],
      "execution_count": 40,
      "outputs": [
        {
          "output_type": "display_data",
          "data": {
            "image/png": "[encoded data removed]",
            "text/plain": [
              "<Figure size 1008x360 with 1 Axes>"
            ]
          },
          "metadata": {
            "tags": [],
            "needs_background": "light"
          }
        }
      ]
    },
    {
      "cell_type": "code",
      "metadata": {
        "colab": {
          "base_uri": "https://localhost:8080/",
          "height": 378
        },
        "id": "eOsniqW5-f8o",
        "outputId": "a79b24b4-9e40-4702-96da-1116a3db413a"
      },
      "source": [
        "fig, ax = plt.subplots(figsize=(14,5))\n",
        "ax.plot(x_datetime, abs_diffs, color = 'red', label = 'Accuracy on each day')\n",
        "plt.title(f'Accuracy on each day, {days_in_advance} days in advance')\n",
        "plt.ylabel('Accuracy (%)')\n",
        "plt.legend()\n",
        "plt.grid()\n",
        "plt.xticks(rotation=45)\n",
        "plt.xticks(rotation=45)\n",
        "# Set the format of x-axis:\n",
        "ax.xaxis.set_major_formatter(mdates.DateFormatter('%d-%b-%Y'))\n",
        "plt.savefig(f\"accuracy_each_day_{days_in_advance}_dia.png\")\n",
        "plt.show()"
      ],
      "execution_count": 41,
      "outputs": [
        {
          "output_type": "display_data",
          "data": {
            "image/png": "[encoded data removed]",
            "text/plain": [
              "<Figure size 1008x360 with 1 Axes>"
            ]
          },
          "metadata": {
            "tags": [],
            "needs_background": "light"
          }
        }
      ]
    },
    {
      "cell_type": "code",
      "metadata": {
        "colab": {
          "base_uri": "https://localhost:8080/",
          "height": 368
        },
        "id": "QTJ54mDd2pQF",
        "outputId": "3e2baaf2-9e50-4c7f-881d-b9a3af4b534b"
      },
      "source": [
        "fig, ax = plt.subplots(figsize=(14,5))\n",
        "ax.plot(train_datetime, data_training['total_cases'], color = 'brown', label= 'Training Data')\n",
        "ax.plot(x_datetime, y_test, color = 'red', label = 'Real Covid Case Number')\n",
        "ax.plot(x_datetime, y_pred, color = 'blue', label = 'Predicted Covid Case Number')\n",
        "ax.axvline(x=x_datetime[min(x_datetime.index)], color='green', linewidth=2, linestyle='--')\n",
        "plt.title(f'Covid Cases Preiction in UK, {days_in_advance} days in advance')\n",
        "plt.ylabel('Total Cases')\n",
        "plt.legend()\n",
        "plt.grid()\n",
        "plt.xticks(rotation=45)\n",
        "# Make ticks on occurrences of each month:\n",
        "ax.xaxis.set_major_locator(mdates.MonthLocator())\n",
        "# Get only the month to show in the x-axis:\n",
        "ax.xaxis.set_major_formatter(mdates.DateFormatter('%b-%Y'))\n",
        "plt.savefig(f\"full_year_{days_in_advance}_dia.png\")\n",
        "plt.show()"
      ],
      "execution_count": 42,
      "outputs": [
        {
          "output_type": "display_data",
          "data": {
            "image/png": "[encoded data removed]",
            "text/plain": [
              "<Figure size 1008x360 with 1 Axes>"
            ]
          },
          "metadata": {
            "tags": [],
            "needs_background": "light"
          }
        }
      ]
    },
    {
      "cell_type": "markdown",
      "metadata": {
        "id": "tAA58kP9FqVt"
      },
      "source": [
        "## Save the model\n",
        "\n",
        "Finally, we save the model.\n",
        "Notice that the commented code can be used to load the model we just train."
      ]
    },
    {
      "cell_type": "code",
      "metadata": {
        "id": "bf7XwwbYsu1s"
      },
      "source": [
        "model.save(f'SNS_covid_prediction_{days_in_advance}_dia.h5')\n",
        "# import tensorflow as tf\n",
        "# model = tf.keras.models.load_model('path/to/location')"
      ],
      "execution_count": 43,
      "outputs": []
    }
  ]
}